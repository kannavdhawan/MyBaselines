{
 "cells": [
  {
   "cell_type": "markdown",
   "metadata": {
    "papermill": {
     "duration": 0.027075,
     "end_time": "2020-12-23T17:14:30.504508",
     "exception": false,
     "start_time": "2020-12-23T17:14:30.477433",
     "status": "completed"
    },
    "tags": []
   },
   "source": [
    "## 1. Importing Libraries"
   ]
  },
  {
   "cell_type": "code",
   "execution_count": 1,
   "metadata": {
    "_cell_guid": "b1076dfc-b9ad-4769-8c92-a6c4dae69d19",
    "_uuid": "8f2839f25d086af736a60e9eeb907d3b93b6e0e5",
    "execution": {
     "iopub.execute_input": "2020-12-23T17:14:30.566502Z",
     "iopub.status.busy": "2020-12-23T17:14:30.565818Z",
     "iopub.status.idle": "2020-12-23T17:14:35.537081Z",
     "shell.execute_reply": "2020-12-23T17:14:35.536044Z"
    },
    "papermill": {
     "duration": 5.004446,
     "end_time": "2020-12-23T17:14:35.537207",
     "exception": false,
     "start_time": "2020-12-23T17:14:30.532761",
     "status": "completed"
    },
    "tags": []
   },
   "outputs": [],
   "source": [
    "#imports\n",
    "import numpy as np\n",
    "import pandas as pd\n",
    "import keras\n",
    "import tensorflow as tf\n",
    "import timeit\n",
    "from sklearn.model_selection import train_test_split\n",
    "from keras.models import Sequential\n",
    "from keras.layers.convolutional import Conv2D, MaxPooling2D\n",
    "from keras.layers.core import Dense, Dropout, Activation, Flatten\n",
    "from keras.layers.advanced_activations import LeakyReLU\n",
    "from keras.optimizers import Adam\n",
    "from keras.losses import categorical_crossentropy\n",
    "import seaborn as sns\n",
    "import matplotlib.pyplot as plt\n",
    "from sklearn.metrics import accuracy_score"
   ]
  },
  {
   "cell_type": "markdown",
   "metadata": {
    "papermill": {
     "duration": 0.026142,
     "end_time": "2020-12-23T17:14:35.590049",
     "exception": false,
     "start_time": "2020-12-23T17:14:35.563907",
     "status": "completed"
    },
    "tags": []
   },
   "source": [
    "## 2. Importing data"
   ]
  },
  {
   "cell_type": "code",
   "execution_count": 2,
   "metadata": {
    "_cell_guid": "79c7e3d0-c299-4dcb-8224-4455121ee9b0",
    "_uuid": "d629ff2d2480ee46fbb7e2d37f6b5fab8052498a",
    "execution": {
     "iopub.execute_input": "2020-12-23T17:14:35.651775Z",
     "iopub.status.busy": "2020-12-23T17:14:35.651254Z",
     "iopub.status.idle": "2020-12-23T17:14:43.223712Z",
     "shell.execute_reply": "2020-12-23T17:14:43.222707Z"
    },
    "papermill": {
     "duration": 7.607816,
     "end_time": "2020-12-23T17:14:43.223826",
     "exception": false,
     "start_time": "2020-12-23T17:14:35.616010",
     "status": "completed"
    },
    "tags": []
   },
   "outputs": [],
   "source": [
    "train = pd.read_csv(\"../input/fashionmnist/fashion-mnist_train.csv\")\n",
    "test = pd.read_csv(\"../input/fashionmnist/fashion-mnist_test.csv\")"
   ]
  },
  {
   "cell_type": "code",
   "execution_count": 3,
   "metadata": {
    "execution": {
     "iopub.execute_input": "2020-12-23T17:14:43.283899Z",
     "iopub.status.busy": "2020-12-23T17:14:43.282125Z",
     "iopub.status.idle": "2020-12-23T17:14:43.286730Z",
     "shell.execute_reply": "2020-12-23T17:14:43.286103Z"
    },
    "papermill": {
     "duration": 0.036479,
     "end_time": "2020-12-23T17:14:43.286824",
     "exception": false,
     "start_time": "2020-12-23T17:14:43.250345",
     "status": "completed"
    },
    "tags": []
   },
   "outputs": [
    {
     "name": "stdout",
     "output_type": "stream",
     "text": [
      "(60000, 785)\n",
      "(10000, 785)\n"
     ]
    }
   ],
   "source": [
    "print(train.shape)\n",
    "print(test.shape)"
   ]
  },
  {
   "cell_type": "code",
   "execution_count": 4,
   "metadata": {
    "execution": {
     "iopub.execute_input": "2020-12-23T17:14:43.351700Z",
     "iopub.status.busy": "2020-12-23T17:14:43.351208Z",
     "iopub.status.idle": "2020-12-23T17:14:43.369229Z",
     "shell.execute_reply": "2020-12-23T17:14:43.369630Z"
    },
    "papermill": {
     "duration": 0.055046,
     "end_time": "2020-12-23T17:14:43.369741",
     "exception": false,
     "start_time": "2020-12-23T17:14:43.314695",
     "status": "completed"
    },
    "tags": []
   },
   "outputs": [
    {
     "data": {
      "text/html": [
       "<div>\n",
       "<style scoped>\n",
       "    .dataframe tbody tr th:only-of-type {\n",
       "        vertical-align: middle;\n",
       "    }\n",
       "\n",
       "    .dataframe tbody tr th {\n",
       "        vertical-align: top;\n",
       "    }\n",
       "\n",
       "    .dataframe thead th {\n",
       "        text-align: right;\n",
       "    }\n",
       "</style>\n",
       "<table border=\"1\" class=\"dataframe\">\n",
       "  <thead>\n",
       "    <tr style=\"text-align: right;\">\n",
       "      <th></th>\n",
       "      <th>label</th>\n",
       "      <th>pixel1</th>\n",
       "      <th>pixel2</th>\n",
       "      <th>pixel3</th>\n",
       "      <th>pixel4</th>\n",
       "      <th>pixel5</th>\n",
       "      <th>pixel6</th>\n",
       "      <th>pixel7</th>\n",
       "      <th>pixel8</th>\n",
       "      <th>pixel9</th>\n",
       "      <th>...</th>\n",
       "      <th>pixel775</th>\n",
       "      <th>pixel776</th>\n",
       "      <th>pixel777</th>\n",
       "      <th>pixel778</th>\n",
       "      <th>pixel779</th>\n",
       "      <th>pixel780</th>\n",
       "      <th>pixel781</th>\n",
       "      <th>pixel782</th>\n",
       "      <th>pixel783</th>\n",
       "      <th>pixel784</th>\n",
       "    </tr>\n",
       "  </thead>\n",
       "  <tbody>\n",
       "    <tr>\n",
       "      <th>0</th>\n",
       "      <td>2</td>\n",
       "      <td>0</td>\n",
       "      <td>0</td>\n",
       "      <td>0</td>\n",
       "      <td>0</td>\n",
       "      <td>0</td>\n",
       "      <td>0</td>\n",
       "      <td>0</td>\n",
       "      <td>0</td>\n",
       "      <td>0</td>\n",
       "      <td>...</td>\n",
       "      <td>0</td>\n",
       "      <td>0</td>\n",
       "      <td>0</td>\n",
       "      <td>0</td>\n",
       "      <td>0</td>\n",
       "      <td>0</td>\n",
       "      <td>0</td>\n",
       "      <td>0</td>\n",
       "      <td>0</td>\n",
       "      <td>0</td>\n",
       "    </tr>\n",
       "    <tr>\n",
       "      <th>1</th>\n",
       "      <td>9</td>\n",
       "      <td>0</td>\n",
       "      <td>0</td>\n",
       "      <td>0</td>\n",
       "      <td>0</td>\n",
       "      <td>0</td>\n",
       "      <td>0</td>\n",
       "      <td>0</td>\n",
       "      <td>0</td>\n",
       "      <td>0</td>\n",
       "      <td>...</td>\n",
       "      <td>0</td>\n",
       "      <td>0</td>\n",
       "      <td>0</td>\n",
       "      <td>0</td>\n",
       "      <td>0</td>\n",
       "      <td>0</td>\n",
       "      <td>0</td>\n",
       "      <td>0</td>\n",
       "      <td>0</td>\n",
       "      <td>0</td>\n",
       "    </tr>\n",
       "    <tr>\n",
       "      <th>2</th>\n",
       "      <td>6</td>\n",
       "      <td>0</td>\n",
       "      <td>0</td>\n",
       "      <td>0</td>\n",
       "      <td>0</td>\n",
       "      <td>0</td>\n",
       "      <td>0</td>\n",
       "      <td>0</td>\n",
       "      <td>5</td>\n",
       "      <td>0</td>\n",
       "      <td>...</td>\n",
       "      <td>0</td>\n",
       "      <td>0</td>\n",
       "      <td>0</td>\n",
       "      <td>30</td>\n",
       "      <td>43</td>\n",
       "      <td>0</td>\n",
       "      <td>0</td>\n",
       "      <td>0</td>\n",
       "      <td>0</td>\n",
       "      <td>0</td>\n",
       "    </tr>\n",
       "    <tr>\n",
       "      <th>3</th>\n",
       "      <td>0</td>\n",
       "      <td>0</td>\n",
       "      <td>0</td>\n",
       "      <td>0</td>\n",
       "      <td>1</td>\n",
       "      <td>2</td>\n",
       "      <td>0</td>\n",
       "      <td>0</td>\n",
       "      <td>0</td>\n",
       "      <td>0</td>\n",
       "      <td>...</td>\n",
       "      <td>3</td>\n",
       "      <td>0</td>\n",
       "      <td>0</td>\n",
       "      <td>0</td>\n",
       "      <td>0</td>\n",
       "      <td>1</td>\n",
       "      <td>0</td>\n",
       "      <td>0</td>\n",
       "      <td>0</td>\n",
       "      <td>0</td>\n",
       "    </tr>\n",
       "    <tr>\n",
       "      <th>4</th>\n",
       "      <td>3</td>\n",
       "      <td>0</td>\n",
       "      <td>0</td>\n",
       "      <td>0</td>\n",
       "      <td>0</td>\n",
       "      <td>0</td>\n",
       "      <td>0</td>\n",
       "      <td>0</td>\n",
       "      <td>0</td>\n",
       "      <td>0</td>\n",
       "      <td>...</td>\n",
       "      <td>0</td>\n",
       "      <td>0</td>\n",
       "      <td>0</td>\n",
       "      <td>0</td>\n",
       "      <td>0</td>\n",
       "      <td>0</td>\n",
       "      <td>0</td>\n",
       "      <td>0</td>\n",
       "      <td>0</td>\n",
       "      <td>0</td>\n",
       "    </tr>\n",
       "  </tbody>\n",
       "</table>\n",
       "<p>5 rows × 785 columns</p>\n",
       "</div>"
      ],
      "text/plain": [
       "   label  pixel1  pixel2  pixel3  pixel4  pixel5  pixel6  pixel7  pixel8  \\\n",
       "0      2       0       0       0       0       0       0       0       0   \n",
       "1      9       0       0       0       0       0       0       0       0   \n",
       "2      6       0       0       0       0       0       0       0       5   \n",
       "3      0       0       0       0       1       2       0       0       0   \n",
       "4      3       0       0       0       0       0       0       0       0   \n",
       "\n",
       "   pixel9  ...  pixel775  pixel776  pixel777  pixel778  pixel779  pixel780  \\\n",
       "0       0  ...         0         0         0         0         0         0   \n",
       "1       0  ...         0         0         0         0         0         0   \n",
       "2       0  ...         0         0         0        30        43         0   \n",
       "3       0  ...         3         0         0         0         0         1   \n",
       "4       0  ...         0         0         0         0         0         0   \n",
       "\n",
       "   pixel781  pixel782  pixel783  pixel784  \n",
       "0         0         0         0         0  \n",
       "1         0         0         0         0  \n",
       "2         0         0         0         0  \n",
       "3         0         0         0         0  \n",
       "4         0         0         0         0  \n",
       "\n",
       "[5 rows x 785 columns]"
      ]
     },
     "execution_count": 4,
     "metadata": {},
     "output_type": "execute_result"
    }
   ],
   "source": [
    "train.head()"
   ]
  },
  {
   "cell_type": "code",
   "execution_count": 5,
   "metadata": {
    "execution": {
     "iopub.execute_input": "2020-12-23T17:14:43.471230Z",
     "iopub.status.busy": "2020-12-23T17:14:43.470399Z",
     "iopub.status.idle": "2020-12-23T17:14:43.474749Z",
     "shell.execute_reply": "2020-12-23T17:14:43.474344Z"
    },
    "papermill": {
     "duration": 0.046105,
     "end_time": "2020-12-23T17:14:43.474834",
     "exception": false,
     "start_time": "2020-12-23T17:14:43.428729",
     "status": "completed"
    },
    "tags": []
   },
   "outputs": [
    {
     "data": {
      "text/html": [
       "<div>\n",
       "<style scoped>\n",
       "    .dataframe tbody tr th:only-of-type {\n",
       "        vertical-align: middle;\n",
       "    }\n",
       "\n",
       "    .dataframe tbody tr th {\n",
       "        vertical-align: top;\n",
       "    }\n",
       "\n",
       "    .dataframe thead th {\n",
       "        text-align: right;\n",
       "    }\n",
       "</style>\n",
       "<table border=\"1\" class=\"dataframe\">\n",
       "  <thead>\n",
       "    <tr style=\"text-align: right;\">\n",
       "      <th></th>\n",
       "      <th>label</th>\n",
       "      <th>pixel1</th>\n",
       "      <th>pixel2</th>\n",
       "      <th>pixel3</th>\n",
       "      <th>pixel4</th>\n",
       "      <th>pixel5</th>\n",
       "      <th>pixel6</th>\n",
       "      <th>pixel7</th>\n",
       "      <th>pixel8</th>\n",
       "      <th>pixel9</th>\n",
       "      <th>...</th>\n",
       "      <th>pixel775</th>\n",
       "      <th>pixel776</th>\n",
       "      <th>pixel777</th>\n",
       "      <th>pixel778</th>\n",
       "      <th>pixel779</th>\n",
       "      <th>pixel780</th>\n",
       "      <th>pixel781</th>\n",
       "      <th>pixel782</th>\n",
       "      <th>pixel783</th>\n",
       "      <th>pixel784</th>\n",
       "    </tr>\n",
       "  </thead>\n",
       "  <tbody>\n",
       "    <tr>\n",
       "      <th>0</th>\n",
       "      <td>0</td>\n",
       "      <td>0</td>\n",
       "      <td>0</td>\n",
       "      <td>0</td>\n",
       "      <td>0</td>\n",
       "      <td>0</td>\n",
       "      <td>0</td>\n",
       "      <td>0</td>\n",
       "      <td>9</td>\n",
       "      <td>8</td>\n",
       "      <td>...</td>\n",
       "      <td>103</td>\n",
       "      <td>87</td>\n",
       "      <td>56</td>\n",
       "      <td>0</td>\n",
       "      <td>0</td>\n",
       "      <td>0</td>\n",
       "      <td>0</td>\n",
       "      <td>0</td>\n",
       "      <td>0</td>\n",
       "      <td>0</td>\n",
       "    </tr>\n",
       "    <tr>\n",
       "      <th>1</th>\n",
       "      <td>1</td>\n",
       "      <td>0</td>\n",
       "      <td>0</td>\n",
       "      <td>0</td>\n",
       "      <td>0</td>\n",
       "      <td>0</td>\n",
       "      <td>0</td>\n",
       "      <td>0</td>\n",
       "      <td>0</td>\n",
       "      <td>0</td>\n",
       "      <td>...</td>\n",
       "      <td>34</td>\n",
       "      <td>0</td>\n",
       "      <td>0</td>\n",
       "      <td>0</td>\n",
       "      <td>0</td>\n",
       "      <td>0</td>\n",
       "      <td>0</td>\n",
       "      <td>0</td>\n",
       "      <td>0</td>\n",
       "      <td>0</td>\n",
       "    </tr>\n",
       "    <tr>\n",
       "      <th>2</th>\n",
       "      <td>2</td>\n",
       "      <td>0</td>\n",
       "      <td>0</td>\n",
       "      <td>0</td>\n",
       "      <td>0</td>\n",
       "      <td>0</td>\n",
       "      <td>0</td>\n",
       "      <td>14</td>\n",
       "      <td>53</td>\n",
       "      <td>99</td>\n",
       "      <td>...</td>\n",
       "      <td>0</td>\n",
       "      <td>0</td>\n",
       "      <td>0</td>\n",
       "      <td>0</td>\n",
       "      <td>63</td>\n",
       "      <td>53</td>\n",
       "      <td>31</td>\n",
       "      <td>0</td>\n",
       "      <td>0</td>\n",
       "      <td>0</td>\n",
       "    </tr>\n",
       "    <tr>\n",
       "      <th>3</th>\n",
       "      <td>2</td>\n",
       "      <td>0</td>\n",
       "      <td>0</td>\n",
       "      <td>0</td>\n",
       "      <td>0</td>\n",
       "      <td>0</td>\n",
       "      <td>0</td>\n",
       "      <td>0</td>\n",
       "      <td>0</td>\n",
       "      <td>0</td>\n",
       "      <td>...</td>\n",
       "      <td>137</td>\n",
       "      <td>126</td>\n",
       "      <td>140</td>\n",
       "      <td>0</td>\n",
       "      <td>133</td>\n",
       "      <td>224</td>\n",
       "      <td>222</td>\n",
       "      <td>56</td>\n",
       "      <td>0</td>\n",
       "      <td>0</td>\n",
       "    </tr>\n",
       "    <tr>\n",
       "      <th>4</th>\n",
       "      <td>3</td>\n",
       "      <td>0</td>\n",
       "      <td>0</td>\n",
       "      <td>0</td>\n",
       "      <td>0</td>\n",
       "      <td>0</td>\n",
       "      <td>0</td>\n",
       "      <td>0</td>\n",
       "      <td>0</td>\n",
       "      <td>0</td>\n",
       "      <td>...</td>\n",
       "      <td>0</td>\n",
       "      <td>0</td>\n",
       "      <td>0</td>\n",
       "      <td>0</td>\n",
       "      <td>0</td>\n",
       "      <td>0</td>\n",
       "      <td>0</td>\n",
       "      <td>0</td>\n",
       "      <td>0</td>\n",
       "      <td>0</td>\n",
       "    </tr>\n",
       "  </tbody>\n",
       "</table>\n",
       "<p>5 rows × 785 columns</p>\n",
       "</div>"
      ],
      "text/plain": [
       "   label  pixel1  pixel2  pixel3  pixel4  pixel5  pixel6  pixel7  pixel8  \\\n",
       "0      0       0       0       0       0       0       0       0       9   \n",
       "1      1       0       0       0       0       0       0       0       0   \n",
       "2      2       0       0       0       0       0       0      14      53   \n",
       "3      2       0       0       0       0       0       0       0       0   \n",
       "4      3       0       0       0       0       0       0       0       0   \n",
       "\n",
       "   pixel9  ...  pixel775  pixel776  pixel777  pixel778  pixel779  pixel780  \\\n",
       "0       8  ...       103        87        56         0         0         0   \n",
       "1       0  ...        34         0         0         0         0         0   \n",
       "2      99  ...         0         0         0         0        63        53   \n",
       "3       0  ...       137       126       140         0       133       224   \n",
       "4       0  ...         0         0         0         0         0         0   \n",
       "\n",
       "   pixel781  pixel782  pixel783  pixel784  \n",
       "0         0         0         0         0  \n",
       "1         0         0         0         0  \n",
       "2        31         0         0         0  \n",
       "3       222        56         0         0  \n",
       "4         0         0         0         0  \n",
       "\n",
       "[5 rows x 785 columns]"
      ]
     },
     "execution_count": 5,
     "metadata": {},
     "output_type": "execute_result"
    }
   ],
   "source": [
    "test.head()"
   ]
  },
  {
   "cell_type": "markdown",
   "metadata": {
    "papermill": {
     "duration": 0.028077,
     "end_time": "2020-12-23T17:14:43.531260",
     "exception": false,
     "start_time": "2020-12-23T17:14:43.503183",
     "status": "completed"
    },
    "tags": []
   },
   "source": [
    "## 3. Reshaping the data, Features and labels(to categorical)"
   ]
  },
  {
   "cell_type": "code",
   "execution_count": 6,
   "metadata": {
    "execution": {
     "iopub.execute_input": "2020-12-23T17:14:43.593606Z",
     "iopub.status.busy": "2020-12-23T17:14:43.592518Z",
     "iopub.status.idle": "2020-12-23T17:14:43.596252Z",
     "shell.execute_reply": "2020-12-23T17:14:43.595803Z"
    },
    "papermill": {
     "duration": 0.03688,
     "end_time": "2020-12-23T17:14:43.596331",
     "exception": false,
     "start_time": "2020-12-23T17:14:43.559451",
     "status": "completed"
    },
    "tags": []
   },
   "outputs": [],
   "source": [
    "# Reshaping training data\n",
    "X = train.iloc[:,1:].values.reshape(len(train),28,28,1)\n",
    "y = train.iloc[:,0].values\n",
    "y = keras.utils.to_categorical(y,num_classes=10)"
   ]
  },
  {
   "cell_type": "code",
   "execution_count": 7,
   "metadata": {
    "execution": {
     "iopub.execute_input": "2020-12-23T17:14:43.656428Z",
     "iopub.status.busy": "2020-12-23T17:14:43.655661Z",
     "iopub.status.idle": "2020-12-23T17:14:43.660648Z",
     "shell.execute_reply": "2020-12-23T17:14:43.661225Z"
    },
    "papermill": {
     "duration": 0.037006,
     "end_time": "2020-12-23T17:14:43.661506",
     "exception": false,
     "start_time": "2020-12-23T17:14:43.624500",
     "status": "completed"
    },
    "tags": []
   },
   "outputs": [
    {
     "name": "stdout",
     "output_type": "stream",
     "text": [
      "(60000, 28, 28, 1)\n",
      "(60000, 10)\n"
     ]
    }
   ],
   "source": [
    "print(X.shape)\n",
    "print(y.shape)"
   ]
  },
  {
   "cell_type": "code",
   "execution_count": 8,
   "metadata": {
    "execution": {
     "iopub.execute_input": "2020-12-23T17:14:43.726813Z",
     "iopub.status.busy": "2020-12-23T17:14:43.725034Z",
     "iopub.status.idle": "2020-12-23T17:14:43.727503Z",
     "shell.execute_reply": "2020-12-23T17:14:43.727924Z"
    },
    "papermill": {
     "duration": 0.037611,
     "end_time": "2020-12-23T17:14:43.728043",
     "exception": false,
     "start_time": "2020-12-23T17:14:43.690432",
     "status": "completed"
    },
    "tags": []
   },
   "outputs": [],
   "source": [
    "# Reshapinng the test data\n",
    "X_test = test.iloc[:,1:].values.reshape(len(test),28,28,1)\n",
    "y_test = test.iloc[:,0].values\n",
    "y_test = keras.utils.to_categorical(y_test,num_classes=10)"
   ]
  },
  {
   "cell_type": "code",
   "execution_count": 9,
   "metadata": {
    "execution": {
     "iopub.execute_input": "2020-12-23T17:14:43.789034Z",
     "iopub.status.busy": "2020-12-23T17:14:43.788366Z",
     "iopub.status.idle": "2020-12-23T17:14:43.795064Z",
     "shell.execute_reply": "2020-12-23T17:14:43.794593Z"
    },
    "papermill": {
     "duration": 0.038571,
     "end_time": "2020-12-23T17:14:43.795172",
     "exception": false,
     "start_time": "2020-12-23T17:14:43.756601",
     "status": "completed"
    },
    "tags": []
   },
   "outputs": [
    {
     "name": "stdout",
     "output_type": "stream",
     "text": [
      "(10000, 28, 28, 1)\n",
      "(10000, 10)\n"
     ]
    }
   ],
   "source": [
    "print(X_test.shape)\n",
    "print(y_test.shape)"
   ]
  },
  {
   "cell_type": "markdown",
   "metadata": {
    "papermill": {
     "duration": 0.029118,
     "end_time": "2020-12-23T17:14:43.853799",
     "exception": false,
     "start_time": "2020-12-23T17:14:43.824681",
     "status": "completed"
    },
    "tags": []
   },
   "source": [
    "## 4. Splitting the train into train and validation set"
   ]
  },
  {
   "cell_type": "code",
   "execution_count": 10,
   "metadata": {
    "execution": {
     "iopub.execute_input": "2020-12-23T17:14:43.920115Z",
     "iopub.status.busy": "2020-12-23T17:14:43.919025Z",
     "iopub.status.idle": "2020-12-23T17:14:44.442829Z",
     "shell.execute_reply": "2020-12-23T17:14:44.442373Z"
    },
    "papermill": {
     "duration": 0.559532,
     "end_time": "2020-12-23T17:14:44.442946",
     "exception": false,
     "start_time": "2020-12-23T17:14:43.883414",
     "status": "completed"
    },
    "tags": []
   },
   "outputs": [],
   "source": [
    "X_train,X_val,y_train,y_val = train_test_split(X,y,test_size=0.2,random_state=42)"
   ]
  },
  {
   "cell_type": "code",
   "execution_count": 11,
   "metadata": {
    "execution": {
     "iopub.execute_input": "2020-12-23T17:14:44.507536Z",
     "iopub.status.busy": "2020-12-23T17:14:44.506784Z",
     "iopub.status.idle": "2020-12-23T17:14:44.511554Z",
     "shell.execute_reply": "2020-12-23T17:14:44.511987Z"
    },
    "papermill": {
     "duration": 0.039714,
     "end_time": "2020-12-23T17:14:44.512099",
     "exception": false,
     "start_time": "2020-12-23T17:14:44.472385",
     "status": "completed"
    },
    "tags": []
   },
   "outputs": [
    {
     "name": "stdout",
     "output_type": "stream",
     "text": [
      "(48000, 28, 28, 1)\n",
      "(48000, 10)\n",
      "(12000, 28, 28, 1)\n",
      "(12000, 10)\n",
      "(10000, 28, 28, 1)\n",
      "(10000, 10)\n"
     ]
    }
   ],
   "source": [
    "print(X_train.shape)\n",
    "print(y_train.shape)\n",
    "print(X_val.shape)\n",
    "print(y_val.shape)\n",
    "print(X_test.shape)\n",
    "print(y_test.shape)"
   ]
  },
  {
   "cell_type": "markdown",
   "metadata": {
    "papermill": {
     "duration": 0.029573,
     "end_time": "2020-12-23T17:14:44.571045",
     "exception": false,
     "start_time": "2020-12-23T17:14:44.541472",
     "status": "completed"
    },
    "tags": []
   },
   "source": [
    "## 5. Normalizing the train and test data"
   ]
  },
  {
   "cell_type": "code",
   "execution_count": 12,
   "metadata": {
    "execution": {
     "iopub.execute_input": "2020-12-23T17:14:44.635175Z",
     "iopub.status.busy": "2020-12-23T17:14:44.634251Z",
     "iopub.status.idle": "2020-12-23T17:14:44.945033Z",
     "shell.execute_reply": "2020-12-23T17:14:44.944519Z"
    },
    "papermill": {
     "duration": 0.344636,
     "end_time": "2020-12-23T17:14:44.945145",
     "exception": false,
     "start_time": "2020-12-23T17:14:44.600509",
     "status": "completed"
    },
    "tags": []
   },
   "outputs": [],
   "source": [
    "X_train = X_train/255.0\n",
    "X_val = X_val/255.0\n",
    "X_test = X_test/255.0\n",
    "X=X/255.0 # for tuner"
   ]
  },
  {
   "cell_type": "markdown",
   "metadata": {
    "papermill": {
     "duration": 0.02979,
     "end_time": "2020-12-23T17:14:45.005951",
     "exception": false,
     "start_time": "2020-12-23T17:14:44.976161",
     "status": "completed"
    },
    "tags": []
   },
   "source": [
    "## 6. Basic CNN model"
   ]
  },
  {
   "cell_type": "code",
   "execution_count": 13,
   "metadata": {
    "execution": {
     "iopub.execute_input": "2020-12-23T17:14:45.076756Z",
     "iopub.status.busy": "2020-12-23T17:14:45.076235Z",
     "iopub.status.idle": "2020-12-23T17:14:47.579533Z",
     "shell.execute_reply": "2020-12-23T17:14:47.579067Z"
    },
    "papermill": {
     "duration": 2.543459,
     "end_time": "2020-12-23T17:14:47.579636",
     "exception": false,
     "start_time": "2020-12-23T17:14:45.036177",
     "status": "completed"
    },
    "tags": []
   },
   "outputs": [],
   "source": [
    "model = Sequential()\n",
    "model.add(Conv2D(filters = 64, kernel_size = (3,3), padding = 'same', # same, p = (f-1)/2, 28*28*64\n",
    "                activation = 'relu', input_shape = (28,28,1)))\n",
    "model.add(Conv2D(filters = 32, kernel_size = (3,3), padding = 'same', #28*28*32\n",
    "               activation = 'relu'))\n",
    "model.add(MaxPooling2D(pool_size=(2,2))) # n-f+1, 27*27*32\n",
    "model.add(Dropout(0.2))\n",
    "\n",
    "\n",
    "model.add(Conv2D(filters = 64, kernel_size = (3,3),padding = 'Same', \n",
    "                 activation ='relu'))\n",
    "model.add(Conv2D(filters = 64, kernel_size = (3,3),padding = 'Same', \n",
    "                 activation ='relu'))\n",
    "model.add(MaxPooling2D(pool_size=(2,2), strides=(2,2)))\n",
    "model.add(Dropout(0.2))\n",
    "\n",
    "model.add(Flatten())\n",
    "model.add(Dense(256,activation = 'relu'))\n",
    "model.add(Dense(10,activation ='softmax'))\n",
    "\n",
    "model.compile(optimizer = Adam() , loss = \"categorical_crossentropy\", metrics=[\"accuracy\"])"
   ]
  },
  {
   "cell_type": "code",
   "execution_count": 14,
   "metadata": {
    "execution": {
     "iopub.execute_input": "2020-12-23T17:14:47.649406Z",
     "iopub.status.busy": "2020-12-23T17:14:47.644563Z",
     "iopub.status.idle": "2020-12-23T17:14:47.655452Z",
     "shell.execute_reply": "2020-12-23T17:14:47.654726Z"
    },
    "papermill": {
     "duration": 0.045361,
     "end_time": "2020-12-23T17:14:47.655586",
     "exception": false,
     "start_time": "2020-12-23T17:14:47.610225",
     "status": "completed"
    },
    "tags": []
   },
   "outputs": [
    {
     "name": "stdout",
     "output_type": "stream",
     "text": [
      "Model: \"sequential\"\n",
      "_________________________________________________________________\n",
      "Layer (type)                 Output Shape              Param #   \n",
      "=================================================================\n",
      "conv2d (Conv2D)              (None, 28, 28, 64)        640       \n",
      "_________________________________________________________________\n",
      "conv2d_1 (Conv2D)            (None, 28, 28, 32)        18464     \n",
      "_________________________________________________________________\n",
      "max_pooling2d (MaxPooling2D) (None, 14, 14, 32)        0         \n",
      "_________________________________________________________________\n",
      "dropout (Dropout)            (None, 14, 14, 32)        0         \n",
      "_________________________________________________________________\n",
      "conv2d_2 (Conv2D)            (None, 14, 14, 64)        18496     \n",
      "_________________________________________________________________\n",
      "conv2d_3 (Conv2D)            (None, 14, 14, 64)        36928     \n",
      "_________________________________________________________________\n",
      "max_pooling2d_1 (MaxPooling2 (None, 7, 7, 64)          0         \n",
      "_________________________________________________________________\n",
      "dropout_1 (Dropout)          (None, 7, 7, 64)          0         \n",
      "_________________________________________________________________\n",
      "flatten (Flatten)            (None, 3136)              0         \n",
      "_________________________________________________________________\n",
      "dense (Dense)                (None, 256)               803072    \n",
      "_________________________________________________________________\n",
      "dense_1 (Dense)              (None, 10)                2570      \n",
      "=================================================================\n",
      "Total params: 880,170\n",
      "Trainable params: 880,170\n",
      "Non-trainable params: 0\n",
      "_________________________________________________________________\n"
     ]
    }
   ],
   "source": [
    "model.summary()"
   ]
  },
  {
   "cell_type": "code",
   "execution_count": 15,
   "metadata": {
    "execution": {
     "iopub.execute_input": "2020-12-23T17:14:47.724461Z",
     "iopub.status.busy": "2020-12-23T17:14:47.723917Z",
     "iopub.status.idle": "2020-12-23T17:16:48.782492Z",
     "shell.execute_reply": "2020-12-23T17:16:48.782954Z"
    },
    "papermill": {
     "duration": 121.094898,
     "end_time": "2020-12-23T17:16:48.783138",
     "exception": false,
     "start_time": "2020-12-23T17:14:47.688240",
     "status": "completed"
    },
    "tags": []
   },
   "outputs": [
    {
     "name": "stdout",
     "output_type": "stream",
     "text": [
      "Epoch 1/50\n",
      "188/188 [==============================] - 3s 14ms/step - loss: 0.6047 - accuracy: 0.7807 - val_loss: 0.3535 - val_accuracy: 0.8739\n",
      "Epoch 2/50\n",
      "188/188 [==============================] - 2s 12ms/step - loss: 0.3404 - accuracy: 0.8779 - val_loss: 0.3013 - val_accuracy: 0.8912\n",
      "Epoch 3/50\n",
      "188/188 [==============================] - 2s 12ms/step - loss: 0.2840 - accuracy: 0.8987 - val_loss: 0.2820 - val_accuracy: 0.8988\n",
      "Epoch 4/50\n",
      "188/188 [==============================] - 2s 13ms/step - loss: 0.2488 - accuracy: 0.9084 - val_loss: 0.2364 - val_accuracy: 0.9178\n",
      "Epoch 5/50\n",
      "188/188 [==============================] - 2s 12ms/step - loss: 0.2249 - accuracy: 0.9184 - val_loss: 0.2230 - val_accuracy: 0.9218\n",
      "Epoch 6/50\n",
      "188/188 [==============================] - 2s 12ms/step - loss: 0.2037 - accuracy: 0.9257 - val_loss: 0.2192 - val_accuracy: 0.9243\n",
      "Epoch 7/50\n",
      "188/188 [==============================] - 2s 12ms/step - loss: 0.1879 - accuracy: 0.9322 - val_loss: 0.2128 - val_accuracy: 0.9277\n",
      "Epoch 8/50\n",
      "188/188 [==============================] - 2s 13ms/step - loss: 0.1728 - accuracy: 0.9381 - val_loss: 0.2161 - val_accuracy: 0.9266\n",
      "Epoch 9/50\n",
      "188/188 [==============================] - 2s 13ms/step - loss: 0.1562 - accuracy: 0.9429 - val_loss: 0.2255 - val_accuracy: 0.9268\n",
      "Epoch 10/50\n",
      "188/188 [==============================] - 2s 12ms/step - loss: 0.1445 - accuracy: 0.9475 - val_loss: 0.2249 - val_accuracy: 0.9294\n",
      "Epoch 11/50\n",
      "188/188 [==============================] - 2s 12ms/step - loss: 0.1304 - accuracy: 0.9517 - val_loss: 0.2436 - val_accuracy: 0.9269\n",
      "Epoch 12/50\n",
      "188/188 [==============================] - 2s 13ms/step - loss: 0.1240 - accuracy: 0.9540 - val_loss: 0.2298 - val_accuracy: 0.9313\n",
      "Epoch 13/50\n",
      "188/188 [==============================] - 3s 13ms/step - loss: 0.1089 - accuracy: 0.9596 - val_loss: 0.2428 - val_accuracy: 0.9294\n",
      "Epoch 14/50\n",
      "188/188 [==============================] - 2s 13ms/step - loss: 0.0991 - accuracy: 0.9636 - val_loss: 0.2460 - val_accuracy: 0.9297\n",
      "Epoch 15/50\n",
      "188/188 [==============================] - 2s 13ms/step - loss: 0.0937 - accuracy: 0.9653 - val_loss: 0.2482 - val_accuracy: 0.9308\n",
      "Epoch 16/50\n",
      "188/188 [==============================] - 2s 12ms/step - loss: 0.0820 - accuracy: 0.9684 - val_loss: 0.2481 - val_accuracy: 0.9301\n",
      "Epoch 17/50\n",
      "188/188 [==============================] - 2s 12ms/step - loss: 0.0772 - accuracy: 0.9716 - val_loss: 0.2599 - val_accuracy: 0.9309\n",
      "Epoch 18/50\n",
      "188/188 [==============================] - 2s 13ms/step - loss: 0.0736 - accuracy: 0.9714 - val_loss: 0.2703 - val_accuracy: 0.9283\n",
      "Epoch 19/50\n",
      "188/188 [==============================] - 2s 12ms/step - loss: 0.0636 - accuracy: 0.9768 - val_loss: 0.2956 - val_accuracy: 0.9309\n",
      "Epoch 20/50\n",
      "188/188 [==============================] - 2s 12ms/step - loss: 0.0612 - accuracy: 0.9772 - val_loss: 0.2778 - val_accuracy: 0.9293\n",
      "Epoch 21/50\n",
      "188/188 [==============================] - 2s 12ms/step - loss: 0.0550 - accuracy: 0.9789 - val_loss: 0.2964 - val_accuracy: 0.9266\n",
      "Epoch 22/50\n",
      "188/188 [==============================] - 2s 13ms/step - loss: 0.0478 - accuracy: 0.9818 - val_loss: 0.3050 - val_accuracy: 0.9283\n",
      "Epoch 23/50\n",
      "188/188 [==============================] - 2s 13ms/step - loss: 0.0462 - accuracy: 0.9833 - val_loss: 0.3193 - val_accuracy: 0.9302\n",
      "Epoch 24/50\n",
      "188/188 [==============================] - 2s 12ms/step - loss: 0.0433 - accuracy: 0.9840 - val_loss: 0.3002 - val_accuracy: 0.9290\n",
      "Epoch 25/50\n",
      "188/188 [==============================] - 2s 12ms/step - loss: 0.0401 - accuracy: 0.9856 - val_loss: 0.3231 - val_accuracy: 0.9270\n",
      "Epoch 26/50\n",
      "188/188 [==============================] - 2s 12ms/step - loss: 0.0366 - accuracy: 0.9865 - val_loss: 0.3213 - val_accuracy: 0.9290\n",
      "Epoch 27/50\n",
      "188/188 [==============================] - 2s 12ms/step - loss: 0.0377 - accuracy: 0.9858 - val_loss: 0.3285 - val_accuracy: 0.9267\n",
      "Epoch 28/50\n",
      "188/188 [==============================] - 2s 12ms/step - loss: 0.0354 - accuracy: 0.9874 - val_loss: 0.3462 - val_accuracy: 0.9265\n",
      "Epoch 29/50\n",
      "188/188 [==============================] - 2s 12ms/step - loss: 0.0337 - accuracy: 0.9880 - val_loss: 0.3421 - val_accuracy: 0.9293\n",
      "Epoch 30/50\n",
      "188/188 [==============================] - 2s 12ms/step - loss: 0.0316 - accuracy: 0.9886 - val_loss: 0.3324 - val_accuracy: 0.9281\n",
      "Epoch 31/50\n",
      "188/188 [==============================] - 2s 12ms/step - loss: 0.0283 - accuracy: 0.9896 - val_loss: 0.3779 - val_accuracy: 0.9283\n",
      "Epoch 32/50\n",
      "188/188 [==============================] - 2s 12ms/step - loss: 0.0305 - accuracy: 0.9892 - val_loss: 0.3471 - val_accuracy: 0.9312\n",
      "Epoch 33/50\n",
      "188/188 [==============================] - 2s 12ms/step - loss: 0.0281 - accuracy: 0.9900 - val_loss: 0.3786 - val_accuracy: 0.9267\n",
      "Epoch 34/50\n",
      "188/188 [==============================] - 2s 12ms/step - loss: 0.0261 - accuracy: 0.9903 - val_loss: 0.4044 - val_accuracy: 0.9279\n",
      "Epoch 35/50\n",
      "188/188 [==============================] - 2s 12ms/step - loss: 0.0266 - accuracy: 0.9906 - val_loss: 0.3682 - val_accuracy: 0.9288\n",
      "Epoch 36/50\n",
      "188/188 [==============================] - 2s 12ms/step - loss: 0.0230 - accuracy: 0.9913 - val_loss: 0.3832 - val_accuracy: 0.9273\n",
      "Epoch 37/50\n",
      "188/188 [==============================] - 2s 13ms/step - loss: 0.0277 - accuracy: 0.9902 - val_loss: 0.3942 - val_accuracy: 0.9293\n",
      "Epoch 38/50\n",
      "188/188 [==============================] - 3s 14ms/step - loss: 0.0219 - accuracy: 0.9923 - val_loss: 0.3854 - val_accuracy: 0.9317\n",
      "Epoch 39/50\n",
      "188/188 [==============================] - 2s 12ms/step - loss: 0.0209 - accuracy: 0.9924 - val_loss: 0.4018 - val_accuracy: 0.9300\n",
      "Epoch 40/50\n",
      "188/188 [==============================] - 2s 12ms/step - loss: 0.0224 - accuracy: 0.9922 - val_loss: 0.3832 - val_accuracy: 0.9312\n",
      "Epoch 41/50\n",
      "188/188 [==============================] - 2s 13ms/step - loss: 0.0188 - accuracy: 0.9934 - val_loss: 0.4141 - val_accuracy: 0.9292\n",
      "Epoch 42/50\n",
      "188/188 [==============================] - 2s 12ms/step - loss: 0.0200 - accuracy: 0.9925 - val_loss: 0.4045 - val_accuracy: 0.9268\n",
      "Epoch 43/50\n",
      "188/188 [==============================] - 2s 12ms/step - loss: 0.0197 - accuracy: 0.9930 - val_loss: 0.4240 - val_accuracy: 0.9300\n",
      "Epoch 44/50\n",
      "188/188 [==============================] - 2s 12ms/step - loss: 0.0208 - accuracy: 0.9922 - val_loss: 0.3890 - val_accuracy: 0.9287\n",
      "Epoch 45/50\n",
      "188/188 [==============================] - 2s 12ms/step - loss: 0.0193 - accuracy: 0.9934 - val_loss: 0.4090 - val_accuracy: 0.9308\n",
      "Epoch 46/50\n",
      "188/188 [==============================] - 2s 13ms/step - loss: 0.0177 - accuracy: 0.9935 - val_loss: 0.4595 - val_accuracy: 0.9299\n",
      "Epoch 47/50\n",
      "188/188 [==============================] - 2s 12ms/step - loss: 0.0216 - accuracy: 0.9921 - val_loss: 0.4064 - val_accuracy: 0.9289\n",
      "Epoch 48/50\n",
      "188/188 [==============================] - 2s 12ms/step - loss: 0.0177 - accuracy: 0.9936 - val_loss: 0.4182 - val_accuracy: 0.9322\n",
      "Epoch 49/50\n",
      "188/188 [==============================] - 2s 12ms/step - loss: 0.0159 - accuracy: 0.9944 - val_loss: 0.4166 - val_accuracy: 0.9311\n",
      "Epoch 50/50\n",
      "188/188 [==============================] - 2s 12ms/step - loss: 0.0168 - accuracy: 0.9940 - val_loss: 0.4332 - val_accuracy: 0.9287\n"
     ]
    }
   ],
   "source": [
    "start=timeit.default_timer()\n",
    "a=model.fit(X_train,y_train,batch_size = 256,epochs = 50,verbose=1,validation_data=(X_val,y_val),shuffle=False)\n",
    "stop=timeit.default_timer()"
   ]
  },
  {
   "cell_type": "code",
   "execution_count": 16,
   "metadata": {
    "execution": {
     "iopub.execute_input": "2020-12-23T17:16:50.209527Z",
     "iopub.status.busy": "2020-12-23T17:16:50.208639Z",
     "iopub.status.idle": "2020-12-23T17:16:50.212720Z",
     "shell.execute_reply": "2020-12-23T17:16:50.213393Z"
    },
    "papermill": {
     "duration": 0.804947,
     "end_time": "2020-12-23T17:16:50.213550",
     "exception": false,
     "start_time": "2020-12-23T17:16:49.408603",
     "status": "completed"
    },
    "tags": []
   },
   "outputs": [
    {
     "name": "stdout",
     "output_type": "stream",
     "text": [
      "Time Taken 121.05550737400006\n"
     ]
    }
   ],
   "source": [
    "print('Time Taken',stop-start)"
   ]
  },
  {
   "cell_type": "code",
   "execution_count": 17,
   "metadata": {
    "execution": {
     "iopub.execute_input": "2020-12-23T17:16:51.381844Z",
     "iopub.status.busy": "2020-12-23T17:16:51.380066Z",
     "iopub.status.idle": "2020-12-23T17:16:51.382484Z",
     "shell.execute_reply": "2020-12-23T17:16:51.382951Z"
    },
    "papermill": {
     "duration": 0.58864,
     "end_time": "2020-12-23T17:16:51.383072",
     "exception": false,
     "start_time": "2020-12-23T17:16:50.794432",
     "status": "completed"
    },
    "tags": []
   },
   "outputs": [],
   "source": [
    "# print(a.history['accuracy'])\n",
    "# print(a.history['loss'])\n",
    "# print(a.history['val_accuracy'])\n",
    "# print(a.history['val_loss'])"
   ]
  },
  {
   "cell_type": "code",
   "execution_count": 18,
   "metadata": {
    "execution": {
     "iopub.execute_input": "2020-12-23T17:16:52.560366Z",
     "iopub.status.busy": "2020-12-23T17:16:52.559652Z",
     "iopub.status.idle": "2020-12-23T17:16:52.568659Z",
     "shell.execute_reply": "2020-12-23T17:16:52.569066Z"
    },
    "papermill": {
     "duration": 0.594887,
     "end_time": "2020-12-23T17:16:52.569186",
     "exception": false,
     "start_time": "2020-12-23T17:16:51.974299",
     "status": "completed"
    },
    "tags": []
   },
   "outputs": [],
   "source": [
    "num=len(a.history['accuracy'])\n",
    "eplist=np.arange(1,num+1,step=1)\n",
    "eplist=eplist.tolist()\n",
    "\n",
    "history_df=pd.DataFrame(eplist,columns = ['Epoch'])\n",
    "\n",
    "history_df['train_acc']=pd.DataFrame(a.history['accuracy'])\n",
    "history_df['train_loss']=pd.DataFrame(a.history['loss'])\n",
    "history_df['val_acc']=pd.DataFrame(a.history['val_accuracy'])\n",
    "history_df['val_loss']=pd.DataFrame(a.history['val_loss'])\n"
   ]
  },
  {
   "cell_type": "code",
   "execution_count": 19,
   "metadata": {
    "execution": {
     "iopub.execute_input": "2020-12-23T17:16:53.745133Z",
     "iopub.status.busy": "2020-12-23T17:16:53.743498Z",
     "iopub.status.idle": "2020-12-23T17:16:53.748216Z",
     "shell.execute_reply": "2020-12-23T17:16:53.748643Z"
    },
    "papermill": {
     "duration": 0.598651,
     "end_time": "2020-12-23T17:16:53.748757",
     "exception": false,
     "start_time": "2020-12-23T17:16:53.150106",
     "status": "completed"
    },
    "tags": []
   },
   "outputs": [
    {
     "data": {
      "text/html": [
       "<div>\n",
       "<style scoped>\n",
       "    .dataframe tbody tr th:only-of-type {\n",
       "        vertical-align: middle;\n",
       "    }\n",
       "\n",
       "    .dataframe tbody tr th {\n",
       "        vertical-align: top;\n",
       "    }\n",
       "\n",
       "    .dataframe thead th {\n",
       "        text-align: right;\n",
       "    }\n",
       "</style>\n",
       "<table border=\"1\" class=\"dataframe\">\n",
       "  <thead>\n",
       "    <tr style=\"text-align: right;\">\n",
       "      <th></th>\n",
       "      <th>Epoch</th>\n",
       "      <th>train_acc</th>\n",
       "      <th>train_loss</th>\n",
       "      <th>val_acc</th>\n",
       "      <th>val_loss</th>\n",
       "    </tr>\n",
       "  </thead>\n",
       "  <tbody>\n",
       "    <tr>\n",
       "      <th>0</th>\n",
       "      <td>1</td>\n",
       "      <td>0.780708</td>\n",
       "      <td>0.604663</td>\n",
       "      <td>0.873917</td>\n",
       "      <td>0.353499</td>\n",
       "    </tr>\n",
       "    <tr>\n",
       "      <th>1</th>\n",
       "      <td>2</td>\n",
       "      <td>0.877854</td>\n",
       "      <td>0.340362</td>\n",
       "      <td>0.891167</td>\n",
       "      <td>0.301253</td>\n",
       "    </tr>\n",
       "    <tr>\n",
       "      <th>2</th>\n",
       "      <td>3</td>\n",
       "      <td>0.898729</td>\n",
       "      <td>0.284016</td>\n",
       "      <td>0.898833</td>\n",
       "      <td>0.282039</td>\n",
       "    </tr>\n",
       "    <tr>\n",
       "      <th>3</th>\n",
       "      <td>4</td>\n",
       "      <td>0.908417</td>\n",
       "      <td>0.248813</td>\n",
       "      <td>0.917833</td>\n",
       "      <td>0.236402</td>\n",
       "    </tr>\n",
       "    <tr>\n",
       "      <th>4</th>\n",
       "      <td>5</td>\n",
       "      <td>0.918354</td>\n",
       "      <td>0.224883</td>\n",
       "      <td>0.921750</td>\n",
       "      <td>0.222959</td>\n",
       "    </tr>\n",
       "    <tr>\n",
       "      <th>5</th>\n",
       "      <td>6</td>\n",
       "      <td>0.925687</td>\n",
       "      <td>0.203713</td>\n",
       "      <td>0.924250</td>\n",
       "      <td>0.219161</td>\n",
       "    </tr>\n",
       "    <tr>\n",
       "      <th>6</th>\n",
       "      <td>7</td>\n",
       "      <td>0.932208</td>\n",
       "      <td>0.187858</td>\n",
       "      <td>0.927667</td>\n",
       "      <td>0.212809</td>\n",
       "    </tr>\n",
       "    <tr>\n",
       "      <th>7</th>\n",
       "      <td>8</td>\n",
       "      <td>0.938104</td>\n",
       "      <td>0.172766</td>\n",
       "      <td>0.926583</td>\n",
       "      <td>0.216060</td>\n",
       "    </tr>\n",
       "    <tr>\n",
       "      <th>8</th>\n",
       "      <td>9</td>\n",
       "      <td>0.942937</td>\n",
       "      <td>0.156226</td>\n",
       "      <td>0.926833</td>\n",
       "      <td>0.225491</td>\n",
       "    </tr>\n",
       "    <tr>\n",
       "      <th>9</th>\n",
       "      <td>10</td>\n",
       "      <td>0.947458</td>\n",
       "      <td>0.144537</td>\n",
       "      <td>0.929417</td>\n",
       "      <td>0.224918</td>\n",
       "    </tr>\n",
       "    <tr>\n",
       "      <th>10</th>\n",
       "      <td>11</td>\n",
       "      <td>0.951729</td>\n",
       "      <td>0.130388</td>\n",
       "      <td>0.926917</td>\n",
       "      <td>0.243622</td>\n",
       "    </tr>\n",
       "    <tr>\n",
       "      <th>11</th>\n",
       "      <td>12</td>\n",
       "      <td>0.954000</td>\n",
       "      <td>0.124029</td>\n",
       "      <td>0.931333</td>\n",
       "      <td>0.229814</td>\n",
       "    </tr>\n",
       "    <tr>\n",
       "      <th>12</th>\n",
       "      <td>13</td>\n",
       "      <td>0.959583</td>\n",
       "      <td>0.108893</td>\n",
       "      <td>0.929417</td>\n",
       "      <td>0.242793</td>\n",
       "    </tr>\n",
       "    <tr>\n",
       "      <th>13</th>\n",
       "      <td>14</td>\n",
       "      <td>0.963562</td>\n",
       "      <td>0.099063</td>\n",
       "      <td>0.929667</td>\n",
       "      <td>0.245954</td>\n",
       "    </tr>\n",
       "    <tr>\n",
       "      <th>14</th>\n",
       "      <td>15</td>\n",
       "      <td>0.965333</td>\n",
       "      <td>0.093682</td>\n",
       "      <td>0.930833</td>\n",
       "      <td>0.248231</td>\n",
       "    </tr>\n",
       "    <tr>\n",
       "      <th>15</th>\n",
       "      <td>16</td>\n",
       "      <td>0.968437</td>\n",
       "      <td>0.081962</td>\n",
       "      <td>0.930083</td>\n",
       "      <td>0.248111</td>\n",
       "    </tr>\n",
       "    <tr>\n",
       "      <th>16</th>\n",
       "      <td>17</td>\n",
       "      <td>0.971604</td>\n",
       "      <td>0.077172</td>\n",
       "      <td>0.930917</td>\n",
       "      <td>0.259935</td>\n",
       "    </tr>\n",
       "    <tr>\n",
       "      <th>17</th>\n",
       "      <td>18</td>\n",
       "      <td>0.971375</td>\n",
       "      <td>0.073628</td>\n",
       "      <td>0.928333</td>\n",
       "      <td>0.270317</td>\n",
       "    </tr>\n",
       "    <tr>\n",
       "      <th>18</th>\n",
       "      <td>19</td>\n",
       "      <td>0.976833</td>\n",
       "      <td>0.063557</td>\n",
       "      <td>0.930917</td>\n",
       "      <td>0.295630</td>\n",
       "    </tr>\n",
       "    <tr>\n",
       "      <th>19</th>\n",
       "      <td>20</td>\n",
       "      <td>0.977188</td>\n",
       "      <td>0.061206</td>\n",
       "      <td>0.929250</td>\n",
       "      <td>0.277803</td>\n",
       "    </tr>\n",
       "    <tr>\n",
       "      <th>20</th>\n",
       "      <td>21</td>\n",
       "      <td>0.978896</td>\n",
       "      <td>0.055029</td>\n",
       "      <td>0.926583</td>\n",
       "      <td>0.296372</td>\n",
       "    </tr>\n",
       "    <tr>\n",
       "      <th>21</th>\n",
       "      <td>22</td>\n",
       "      <td>0.981833</td>\n",
       "      <td>0.047847</td>\n",
       "      <td>0.928250</td>\n",
       "      <td>0.305050</td>\n",
       "    </tr>\n",
       "    <tr>\n",
       "      <th>22</th>\n",
       "      <td>23</td>\n",
       "      <td>0.983250</td>\n",
       "      <td>0.046184</td>\n",
       "      <td>0.930167</td>\n",
       "      <td>0.319303</td>\n",
       "    </tr>\n",
       "    <tr>\n",
       "      <th>23</th>\n",
       "      <td>24</td>\n",
       "      <td>0.984000</td>\n",
       "      <td>0.043298</td>\n",
       "      <td>0.929000</td>\n",
       "      <td>0.300243</td>\n",
       "    </tr>\n",
       "    <tr>\n",
       "      <th>24</th>\n",
       "      <td>25</td>\n",
       "      <td>0.985646</td>\n",
       "      <td>0.040058</td>\n",
       "      <td>0.927000</td>\n",
       "      <td>0.323100</td>\n",
       "    </tr>\n",
       "    <tr>\n",
       "      <th>25</th>\n",
       "      <td>26</td>\n",
       "      <td>0.986479</td>\n",
       "      <td>0.036552</td>\n",
       "      <td>0.929000</td>\n",
       "      <td>0.321304</td>\n",
       "    </tr>\n",
       "    <tr>\n",
       "      <th>26</th>\n",
       "      <td>27</td>\n",
       "      <td>0.985750</td>\n",
       "      <td>0.037670</td>\n",
       "      <td>0.926667</td>\n",
       "      <td>0.328538</td>\n",
       "    </tr>\n",
       "    <tr>\n",
       "      <th>27</th>\n",
       "      <td>28</td>\n",
       "      <td>0.987417</td>\n",
       "      <td>0.035382</td>\n",
       "      <td>0.926500</td>\n",
       "      <td>0.346163</td>\n",
       "    </tr>\n",
       "    <tr>\n",
       "      <th>28</th>\n",
       "      <td>29</td>\n",
       "      <td>0.987958</td>\n",
       "      <td>0.033679</td>\n",
       "      <td>0.929250</td>\n",
       "      <td>0.342082</td>\n",
       "    </tr>\n",
       "    <tr>\n",
       "      <th>29</th>\n",
       "      <td>30</td>\n",
       "      <td>0.988583</td>\n",
       "      <td>0.031595</td>\n",
       "      <td>0.928083</td>\n",
       "      <td>0.332402</td>\n",
       "    </tr>\n",
       "    <tr>\n",
       "      <th>30</th>\n",
       "      <td>31</td>\n",
       "      <td>0.989625</td>\n",
       "      <td>0.028346</td>\n",
       "      <td>0.928333</td>\n",
       "      <td>0.377938</td>\n",
       "    </tr>\n",
       "    <tr>\n",
       "      <th>31</th>\n",
       "      <td>32</td>\n",
       "      <td>0.989208</td>\n",
       "      <td>0.030452</td>\n",
       "      <td>0.931167</td>\n",
       "      <td>0.347109</td>\n",
       "    </tr>\n",
       "    <tr>\n",
       "      <th>32</th>\n",
       "      <td>33</td>\n",
       "      <td>0.990042</td>\n",
       "      <td>0.028059</td>\n",
       "      <td>0.926667</td>\n",
       "      <td>0.378588</td>\n",
       "    </tr>\n",
       "    <tr>\n",
       "      <th>33</th>\n",
       "      <td>34</td>\n",
       "      <td>0.990333</td>\n",
       "      <td>0.026131</td>\n",
       "      <td>0.927917</td>\n",
       "      <td>0.404377</td>\n",
       "    </tr>\n",
       "    <tr>\n",
       "      <th>34</th>\n",
       "      <td>35</td>\n",
       "      <td>0.990604</td>\n",
       "      <td>0.026620</td>\n",
       "      <td>0.928833</td>\n",
       "      <td>0.368163</td>\n",
       "    </tr>\n",
       "    <tr>\n",
       "      <th>35</th>\n",
       "      <td>36</td>\n",
       "      <td>0.991333</td>\n",
       "      <td>0.023032</td>\n",
       "      <td>0.927333</td>\n",
       "      <td>0.383225</td>\n",
       "    </tr>\n",
       "    <tr>\n",
       "      <th>36</th>\n",
       "      <td>37</td>\n",
       "      <td>0.990167</td>\n",
       "      <td>0.027688</td>\n",
       "      <td>0.929333</td>\n",
       "      <td>0.394235</td>\n",
       "    </tr>\n",
       "    <tr>\n",
       "      <th>37</th>\n",
       "      <td>38</td>\n",
       "      <td>0.992271</td>\n",
       "      <td>0.021875</td>\n",
       "      <td>0.931750</td>\n",
       "      <td>0.385395</td>\n",
       "    </tr>\n",
       "    <tr>\n",
       "      <th>38</th>\n",
       "      <td>39</td>\n",
       "      <td>0.992354</td>\n",
       "      <td>0.020880</td>\n",
       "      <td>0.930000</td>\n",
       "      <td>0.401825</td>\n",
       "    </tr>\n",
       "    <tr>\n",
       "      <th>39</th>\n",
       "      <td>40</td>\n",
       "      <td>0.992167</td>\n",
       "      <td>0.022429</td>\n",
       "      <td>0.931250</td>\n",
       "      <td>0.383239</td>\n",
       "    </tr>\n",
       "    <tr>\n",
       "      <th>40</th>\n",
       "      <td>41</td>\n",
       "      <td>0.993438</td>\n",
       "      <td>0.018801</td>\n",
       "      <td>0.929167</td>\n",
       "      <td>0.414052</td>\n",
       "    </tr>\n",
       "    <tr>\n",
       "      <th>41</th>\n",
       "      <td>42</td>\n",
       "      <td>0.992479</td>\n",
       "      <td>0.020006</td>\n",
       "      <td>0.926833</td>\n",
       "      <td>0.404466</td>\n",
       "    </tr>\n",
       "    <tr>\n",
       "      <th>42</th>\n",
       "      <td>43</td>\n",
       "      <td>0.992979</td>\n",
       "      <td>0.019710</td>\n",
       "      <td>0.930000</td>\n",
       "      <td>0.423961</td>\n",
       "    </tr>\n",
       "    <tr>\n",
       "      <th>43</th>\n",
       "      <td>44</td>\n",
       "      <td>0.992229</td>\n",
       "      <td>0.020797</td>\n",
       "      <td>0.928750</td>\n",
       "      <td>0.389013</td>\n",
       "    </tr>\n",
       "    <tr>\n",
       "      <th>44</th>\n",
       "      <td>45</td>\n",
       "      <td>0.993396</td>\n",
       "      <td>0.019300</td>\n",
       "      <td>0.930750</td>\n",
       "      <td>0.409000</td>\n",
       "    </tr>\n",
       "    <tr>\n",
       "      <th>45</th>\n",
       "      <td>46</td>\n",
       "      <td>0.993542</td>\n",
       "      <td>0.017699</td>\n",
       "      <td>0.929917</td>\n",
       "      <td>0.459454</td>\n",
       "    </tr>\n",
       "    <tr>\n",
       "      <th>46</th>\n",
       "      <td>47</td>\n",
       "      <td>0.992125</td>\n",
       "      <td>0.021566</td>\n",
       "      <td>0.928917</td>\n",
       "      <td>0.406429</td>\n",
       "    </tr>\n",
       "    <tr>\n",
       "      <th>47</th>\n",
       "      <td>48</td>\n",
       "      <td>0.993646</td>\n",
       "      <td>0.017658</td>\n",
       "      <td>0.932167</td>\n",
       "      <td>0.418184</td>\n",
       "    </tr>\n",
       "    <tr>\n",
       "      <th>48</th>\n",
       "      <td>49</td>\n",
       "      <td>0.994438</td>\n",
       "      <td>0.015932</td>\n",
       "      <td>0.931083</td>\n",
       "      <td>0.416622</td>\n",
       "    </tr>\n",
       "    <tr>\n",
       "      <th>49</th>\n",
       "      <td>50</td>\n",
       "      <td>0.993958</td>\n",
       "      <td>0.016836</td>\n",
       "      <td>0.928667</td>\n",
       "      <td>0.433164</td>\n",
       "    </tr>\n",
       "  </tbody>\n",
       "</table>\n",
       "</div>"
      ],
      "text/plain": [
       "    Epoch  train_acc  train_loss   val_acc  val_loss\n",
       "0       1   0.780708    0.604663  0.873917  0.353499\n",
       "1       2   0.877854    0.340362  0.891167  0.301253\n",
       "2       3   0.898729    0.284016  0.898833  0.282039\n",
       "3       4   0.908417    0.248813  0.917833  0.236402\n",
       "4       5   0.918354    0.224883  0.921750  0.222959\n",
       "5       6   0.925687    0.203713  0.924250  0.219161\n",
       "6       7   0.932208    0.187858  0.927667  0.212809\n",
       "7       8   0.938104    0.172766  0.926583  0.216060\n",
       "8       9   0.942937    0.156226  0.926833  0.225491\n",
       "9      10   0.947458    0.144537  0.929417  0.224918\n",
       "10     11   0.951729    0.130388  0.926917  0.243622\n",
       "11     12   0.954000    0.124029  0.931333  0.229814\n",
       "12     13   0.959583    0.108893  0.929417  0.242793\n",
       "13     14   0.963562    0.099063  0.929667  0.245954\n",
       "14     15   0.965333    0.093682  0.930833  0.248231\n",
       "15     16   0.968437    0.081962  0.930083  0.248111\n",
       "16     17   0.971604    0.077172  0.930917  0.259935\n",
       "17     18   0.971375    0.073628  0.928333  0.270317\n",
       "18     19   0.976833    0.063557  0.930917  0.295630\n",
       "19     20   0.977188    0.061206  0.929250  0.277803\n",
       "20     21   0.978896    0.055029  0.926583  0.296372\n",
       "21     22   0.981833    0.047847  0.928250  0.305050\n",
       "22     23   0.983250    0.046184  0.930167  0.319303\n",
       "23     24   0.984000    0.043298  0.929000  0.300243\n",
       "24     25   0.985646    0.040058  0.927000  0.323100\n",
       "25     26   0.986479    0.036552  0.929000  0.321304\n",
       "26     27   0.985750    0.037670  0.926667  0.328538\n",
       "27     28   0.987417    0.035382  0.926500  0.346163\n",
       "28     29   0.987958    0.033679  0.929250  0.342082\n",
       "29     30   0.988583    0.031595  0.928083  0.332402\n",
       "30     31   0.989625    0.028346  0.928333  0.377938\n",
       "31     32   0.989208    0.030452  0.931167  0.347109\n",
       "32     33   0.990042    0.028059  0.926667  0.378588\n",
       "33     34   0.990333    0.026131  0.927917  0.404377\n",
       "34     35   0.990604    0.026620  0.928833  0.368163\n",
       "35     36   0.991333    0.023032  0.927333  0.383225\n",
       "36     37   0.990167    0.027688  0.929333  0.394235\n",
       "37     38   0.992271    0.021875  0.931750  0.385395\n",
       "38     39   0.992354    0.020880  0.930000  0.401825\n",
       "39     40   0.992167    0.022429  0.931250  0.383239\n",
       "40     41   0.993438    0.018801  0.929167  0.414052\n",
       "41     42   0.992479    0.020006  0.926833  0.404466\n",
       "42     43   0.992979    0.019710  0.930000  0.423961\n",
       "43     44   0.992229    0.020797  0.928750  0.389013\n",
       "44     45   0.993396    0.019300  0.930750  0.409000\n",
       "45     46   0.993542    0.017699  0.929917  0.459454\n",
       "46     47   0.992125    0.021566  0.928917  0.406429\n",
       "47     48   0.993646    0.017658  0.932167  0.418184\n",
       "48     49   0.994438    0.015932  0.931083  0.416622\n",
       "49     50   0.993958    0.016836  0.928667  0.433164"
      ]
     },
     "execution_count": 19,
     "metadata": {},
     "output_type": "execute_result"
    }
   ],
   "source": [
    "history_df"
   ]
  },
  {
   "cell_type": "markdown",
   "metadata": {
    "papermill": {
     "duration": 0.596303,
     "end_time": "2020-12-23T17:16:54.921758",
     "exception": false,
     "start_time": "2020-12-23T17:16:54.325455",
     "status": "completed"
    },
    "tags": []
   },
   "source": [
    "## 7. Visualization of Acc vs Epoch"
   ]
  },
  {
   "cell_type": "code",
   "execution_count": 20,
   "metadata": {
    "execution": {
     "iopub.execute_input": "2020-12-23T17:16:56.160849Z",
     "iopub.status.busy": "2020-12-23T17:16:56.160064Z",
     "iopub.status.idle": "2020-12-23T17:16:56.498097Z",
     "shell.execute_reply": "2020-12-23T17:16:56.498490Z"
    },
    "papermill": {
     "duration": 0.961234,
     "end_time": "2020-12-23T17:16:56.498624",
     "exception": false,
     "start_time": "2020-12-23T17:16:55.537390",
     "status": "completed"
    },
    "tags": []
   },
   "outputs": [
    {
     "data": {
      "image/png": "[encoded data removed]",
      "text/plain": [
       "<Figure size 720x576 with 1 Axes>"
      ]
     },
     "metadata": {
      "needs_background": "light"
     },
     "output_type": "display_data"
    }
   ],
   "source": [
    "fig= plt.figure(figsize=(10,8))\n",
    "sns.set(style=\"darkgrid\")\n",
    "ax=sns.lineplot(x='Epoch',y='train_acc',data=history_df)\n",
    "plt.title(\"Epoch vs train accuracy\")\n",
    "\n",
    "plt.xlabel(\"Epoch\")\n",
    "plt.ylabel(\"train accuracy\")\n",
    "plt.legend([\"Train accuracy\"])\n",
    "plt.show()"
   ]
  },
  {
   "cell_type": "code",
   "execution_count": 21,
   "metadata": {
    "execution": {
     "iopub.execute_input": "2020-12-23T17:16:57.693806Z",
     "iopub.status.busy": "2020-12-23T17:16:57.689284Z",
     "iopub.status.idle": "2020-12-23T17:16:57.957514Z",
     "shell.execute_reply": "2020-12-23T17:16:57.957077Z"
    },
    "papermill": {
     "duration": 0.859987,
     "end_time": "2020-12-23T17:16:57.957614",
     "exception": false,
     "start_time": "2020-12-23T17:16:57.097627",
     "status": "completed"
    },
    "tags": []
   },
   "outputs": [
    {
     "data": {
      "image/png": "[encoded data removed]",
      "text/plain": [
       "<Figure size 720x576 with 1 Axes>"
      ]
     },
     "metadata": {},
     "output_type": "display_data"
    }
   ],
   "source": [
    "fig= plt.figure(figsize=(10,8))\n",
    "sns.set(style=\"darkgrid\")\n",
    "ax=sns.lineplot(x='Epoch',y='val_acc',data=history_df)\n",
    "plt.title(\"Epoch vs Val accuracy\")\n",
    "\n",
    "plt.xlabel(\"Epoch\")\n",
    "plt.ylabel(\"Val accuracy\")\n",
    "plt.legend([\"Val accuracy\"])\n",
    "plt.show()"
   ]
  },
  {
   "cell_type": "markdown",
   "metadata": {
    "papermill": {
     "duration": 0.586502,
     "end_time": "2020-12-23T17:16:59.132925",
     "exception": false,
     "start_time": "2020-12-23T17:16:58.546423",
     "status": "completed"
    },
    "tags": []
   },
   "source": [
    "## 8. Predicting test data"
   ]
  },
  {
   "cell_type": "code",
   "execution_count": 22,
   "metadata": {
    "execution": {
     "iopub.execute_input": "2020-12-23T17:17:00.330560Z",
     "iopub.status.busy": "2020-12-23T17:17:00.329325Z",
     "iopub.status.idle": "2020-12-23T17:17:01.167973Z",
     "shell.execute_reply": "2020-12-23T17:17:01.168456Z"
    },
    "papermill": {
     "duration": 1.440985,
     "end_time": "2020-12-23T17:17:01.168587",
     "exception": false,
     "start_time": "2020-12-23T17:16:59.727602",
     "status": "completed"
    },
    "tags": []
   },
   "outputs": [
    {
     "name": "stdout",
     "output_type": "stream",
     "text": [
      "313/313 [==============================] - 1s 2ms/step\n",
      "Accuracy on test set:  93.08\n"
     ]
    }
   ],
   "source": [
    "y_pred = model.predict_classes(X_test,verbose = 1)\n",
    "y_pred = keras.utils.to_categorical(y_pred)\n",
    "accuracy_cnn = (accuracy_score(y_pred,y_test)) * 100\n",
    "print(\"Accuracy on test set: \",accuracy_cnn)"
   ]
  },
  {
   "cell_type": "markdown",
   "metadata": {
    "papermill": {
     "duration": 0.582485,
     "end_time": "2020-12-23T17:17:02.338456",
     "exception": false,
     "start_time": "2020-12-23T17:17:01.755971",
     "status": "completed"
    },
    "tags": []
   },
   "source": [
    "## 6.1 Basic CNN with callback"
   ]
  },
  {
   "cell_type": "code",
   "execution_count": 23,
   "metadata": {
    "execution": {
     "iopub.execute_input": "2020-12-23T17:17:03.522170Z",
     "iopub.status.busy": "2020-12-23T17:17:03.521105Z",
     "iopub.status.idle": "2020-12-23T17:17:03.610266Z",
     "shell.execute_reply": "2020-12-23T17:17:03.609200Z"
    },
    "papermill": {
     "duration": 0.686584,
     "end_time": "2020-12-23T17:17:03.610399",
     "exception": false,
     "start_time": "2020-12-23T17:17:02.923815",
     "status": "completed"
    },
    "tags": []
   },
   "outputs": [],
   "source": [
    "model_lr = Sequential()\n",
    "\n",
    "model_lr.add(Conv2D(filters = 32, kernel_size = (5,5),padding = 'Same', \n",
    "                 activation ='relu', input_shape = (28,28,1)))\n",
    "model_lr.add(Conv2D(filters = 32, kernel_size = (5,5),padding = 'Same', \n",
    "                 activation ='relu'))\n",
    "model_lr.add(MaxPooling2D(pool_size=(2,2)))\n",
    "model_lr.add(Dropout(0.25))\n",
    "\n",
    "\n",
    "model_lr.add(Conv2D(filters = 64, kernel_size = (3,3),padding = 'Same', \n",
    "                 activation ='relu'))\n",
    "model_lr.add(Conv2D(filters = 64, kernel_size = (3,3),padding = 'Same', \n",
    "                 activation ='relu'))\n",
    "model_lr.add(MaxPooling2D(pool_size=(2,2), strides=(2,2)))\n",
    "model_lr.add(Dropout(0.25))\n",
    "\n",
    "\n",
    "model_lr.add(Flatten())\n",
    "model_lr.add(Dense(256, activation = \"relu\"))\n",
    "model_lr.add(Dropout(0.25))\n",
    "model_lr.add(Dense(10, activation = \"softmax\"))\n",
    "\n",
    "learning_rate_reduction = tf.keras.callbacks.ReduceLROnPlateau(monitor='val_accuracy', \n",
    "                                            patience=3, \n",
    "                                            verbose=1, \n",
    "                                            factor=0.5, \n",
    "                                            min_lr=0.00001)\n",
    "\n",
    "\n",
    "\n",
    "model_lr.compile(optimizer = keras.optimizers.Adam(), loss = \"categorical_crossentropy\", metrics=[\"accuracy\"])"
   ]
  },
  {
   "cell_type": "code",
   "execution_count": 24,
   "metadata": {
    "execution": {
     "iopub.execute_input": "2020-12-23T17:17:05.066473Z",
     "iopub.status.busy": "2020-12-23T17:17:05.065404Z",
     "iopub.status.idle": "2020-12-23T17:22:23.435971Z",
     "shell.execute_reply": "2020-12-23T17:22:23.436446Z"
    },
    "papermill": {
     "duration": 319.240383,
     "end_time": "2020-12-23T17:22:23.436595",
     "exception": false,
     "start_time": "2020-12-23T17:17:04.196212",
     "status": "completed"
    },
    "tags": []
   },
   "outputs": [
    {
     "name": "stdout",
     "output_type": "stream",
     "text": [
      "Epoch 1/50\n",
      "1500/1500 [==============================] - 6s 4ms/step - loss: 0.4551 - accuracy: 0.8333 - val_loss: 0.2871 - val_accuracy: 0.8937\n",
      "Epoch 2/50\n",
      "1500/1500 [==============================] - 6s 4ms/step - loss: 0.2996 - accuracy: 0.8907 - val_loss: 0.2518 - val_accuracy: 0.9084\n",
      "Epoch 3/50\n",
      "1500/1500 [==============================] - 7s 4ms/step - loss: 0.2591 - accuracy: 0.9044 - val_loss: 0.2498 - val_accuracy: 0.9091\n",
      "Epoch 4/50\n",
      "1500/1500 [==============================] - 6s 4ms/step - loss: 0.2311 - accuracy: 0.9140 - val_loss: 0.2238 - val_accuracy: 0.9212\n",
      "Epoch 5/50\n",
      "1500/1500 [==============================] - 7s 4ms/step - loss: 0.2101 - accuracy: 0.9205 - val_loss: 0.2259 - val_accuracy: 0.9211\n",
      "Epoch 6/50\n",
      "1500/1500 [==============================] - 6s 4ms/step - loss: 0.1952 - accuracy: 0.9284 - val_loss: 0.2195 - val_accuracy: 0.9222\n",
      "Epoch 7/50\n",
      "1500/1500 [==============================] - 6s 4ms/step - loss: 0.1801 - accuracy: 0.9316 - val_loss: 0.2277 - val_accuracy: 0.9240\n",
      "Epoch 8/50\n",
      "1500/1500 [==============================] - 6s 4ms/step - loss: 0.1729 - accuracy: 0.9346 - val_loss: 0.2313 - val_accuracy: 0.9237\n",
      "Epoch 9/50\n",
      "1500/1500 [==============================] - 6s 4ms/step - loss: 0.1634 - accuracy: 0.9388 - val_loss: 0.2273 - val_accuracy: 0.9260\n",
      "Epoch 10/50\n",
      "1500/1500 [==============================] - 7s 4ms/step - loss: 0.1507 - accuracy: 0.9437 - val_loss: 0.2276 - val_accuracy: 0.9259\n",
      "Epoch 11/50\n",
      "1500/1500 [==============================] - 6s 4ms/step - loss: 0.1470 - accuracy: 0.9452 - val_loss: 0.2300 - val_accuracy: 0.9273\n",
      "Epoch 12/50\n",
      "1500/1500 [==============================] - 7s 4ms/step - loss: 0.1386 - accuracy: 0.9483 - val_loss: 0.2409 - val_accuracy: 0.9265\n",
      "Epoch 13/50\n",
      "1500/1500 [==============================] - 6s 4ms/step - loss: 0.1348 - accuracy: 0.9495 - val_loss: 0.2484 - val_accuracy: 0.9262\n",
      "Epoch 14/50\n",
      "1500/1500 [==============================] - ETA: 0s - loss: 0.1326 - accuracy: 0.9502\n",
      "Epoch 00014: ReduceLROnPlateau reducing learning rate to 0.0005000000237487257.\n",
      "1500/1500 [==============================] - 6s 4ms/step - loss: 0.1326 - accuracy: 0.9502 - val_loss: 0.2518 - val_accuracy: 0.9262\n",
      "Epoch 15/50\n",
      "1500/1500 [==============================] - 7s 4ms/step - loss: 0.1004 - accuracy: 0.9628 - val_loss: 0.2562 - val_accuracy: 0.9310\n",
      "Epoch 16/50\n",
      "1500/1500 [==============================] - 6s 4ms/step - loss: 0.0895 - accuracy: 0.9660 - val_loss: 0.2607 - val_accuracy: 0.9309\n",
      "Epoch 17/50\n",
      "1500/1500 [==============================] - 6s 4ms/step - loss: 0.0824 - accuracy: 0.9691 - val_loss: 0.2713 - val_accuracy: 0.9321\n",
      "Epoch 18/50\n",
      "1500/1500 [==============================] - 6s 4ms/step - loss: 0.0789 - accuracy: 0.9708 - val_loss: 0.2871 - val_accuracy: 0.9319\n",
      "Epoch 19/50\n",
      "1500/1500 [==============================] - 6s 4ms/step - loss: 0.0731 - accuracy: 0.9725 - val_loss: 0.2996 - val_accuracy: 0.9292\n",
      "Epoch 20/50\n",
      "1500/1500 [==============================] - 6s 4ms/step - loss: 0.0697 - accuracy: 0.9731 - val_loss: 0.2861 - val_accuracy: 0.9325\n",
      "Epoch 21/50\n",
      "1500/1500 [==============================] - 7s 5ms/step - loss: 0.0678 - accuracy: 0.9739 - val_loss: 0.2863 - val_accuracy: 0.9303\n",
      "Epoch 22/50\n",
      "1500/1500 [==============================] - 7s 5ms/step - loss: 0.0663 - accuracy: 0.9754 - val_loss: 0.3131 - val_accuracy: 0.9311\n",
      "Epoch 23/50\n",
      "1492/1500 [============================>.] - ETA: 0s - loss: 0.0618 - accuracy: 0.9770\n",
      "Epoch 00023: ReduceLROnPlateau reducing learning rate to 0.0002500000118743628.\n",
      "1500/1500 [==============================] - 6s 4ms/step - loss: 0.0619 - accuracy: 0.9770 - val_loss: 0.2972 - val_accuracy: 0.9326\n",
      "Epoch 24/50\n",
      "1500/1500 [==============================] - 6s 4ms/step - loss: 0.0525 - accuracy: 0.9803 - val_loss: 0.3169 - val_accuracy: 0.9336\n",
      "Epoch 25/50\n",
      "1500/1500 [==============================] - 6s 4ms/step - loss: 0.0474 - accuracy: 0.9822 - val_loss: 0.3170 - val_accuracy: 0.9329\n",
      "Epoch 26/50\n",
      "1500/1500 [==============================] - 7s 5ms/step - loss: 0.0419 - accuracy: 0.9837 - val_loss: 0.3341 - val_accuracy: 0.9346\n",
      "Epoch 27/50\n",
      "1500/1500 [==============================] - 6s 4ms/step - loss: 0.0444 - accuracy: 0.9837 - val_loss: 0.3295 - val_accuracy: 0.9319\n",
      "Epoch 28/50\n",
      "1500/1500 [==============================] - 6s 4ms/step - loss: 0.0418 - accuracy: 0.9840 - val_loss: 0.3393 - val_accuracy: 0.9325\n",
      "Epoch 29/50\n",
      "1491/1500 [============================>.] - ETA: 0s - loss: 0.0394 - accuracy: 0.9855\n",
      "Epoch 00029: ReduceLROnPlateau reducing learning rate to 0.0001250000059371814.\n",
      "1500/1500 [==============================] - 6s 4ms/step - loss: 0.0393 - accuracy: 0.9855 - val_loss: 0.3413 - val_accuracy: 0.9337\n",
      "Epoch 30/50\n",
      "1500/1500 [==============================] - 6s 4ms/step - loss: 0.0354 - accuracy: 0.9867 - val_loss: 0.3465 - val_accuracy: 0.9330\n",
      "Epoch 31/50\n",
      "1500/1500 [==============================] - 8s 5ms/step - loss: 0.0334 - accuracy: 0.9871 - val_loss: 0.3401 - val_accuracy: 0.9349\n",
      "Epoch 32/50\n",
      "1500/1500 [==============================] - 6s 4ms/step - loss: 0.0306 - accuracy: 0.9883 - val_loss: 0.3615 - val_accuracy: 0.9345\n",
      "Epoch 33/50\n",
      "1500/1500 [==============================] - 6s 4ms/step - loss: 0.0312 - accuracy: 0.9884 - val_loss: 0.3596 - val_accuracy: 0.9344\n",
      "Epoch 34/50\n",
      "1494/1500 [============================>.] - ETA: 0s - loss: 0.0304 - accuracy: 0.9893\n",
      "Epoch 00034: ReduceLROnPlateau reducing learning rate to 6.25000029685907e-05.\n",
      "1500/1500 [==============================] - 6s 4ms/step - loss: 0.0304 - accuracy: 0.9893 - val_loss: 0.3547 - val_accuracy: 0.9344\n",
      "Epoch 35/50\n",
      "1500/1500 [==============================] - 6s 4ms/step - loss: 0.0308 - accuracy: 0.9886 - val_loss: 0.3505 - val_accuracy: 0.9359\n",
      "Epoch 36/50\n",
      "1500/1500 [==============================] - 7s 4ms/step - loss: 0.0260 - accuracy: 0.9908 - val_loss: 0.3664 - val_accuracy: 0.9352\n",
      "Epoch 37/50\n",
      "1500/1500 [==============================] - 6s 4ms/step - loss: 0.0253 - accuracy: 0.9904 - val_loss: 0.3657 - val_accuracy: 0.9344\n",
      "Epoch 38/50\n",
      "1494/1500 [============================>.] - ETA: 0s - loss: 0.0280 - accuracy: 0.9901\n",
      "Epoch 00038: ReduceLROnPlateau reducing learning rate to 3.125000148429535e-05.\n",
      "1500/1500 [==============================] - 6s 4ms/step - loss: 0.0281 - accuracy: 0.9901 - val_loss: 0.3636 - val_accuracy: 0.9344\n",
      "Epoch 39/50\n",
      "1500/1500 [==============================] - 6s 4ms/step - loss: 0.0251 - accuracy: 0.9908 - val_loss: 0.3640 - val_accuracy: 0.9348\n",
      "Epoch 40/50\n",
      "1500/1500 [==============================] - 6s 4ms/step - loss: 0.0256 - accuracy: 0.9909 - val_loss: 0.3655 - val_accuracy: 0.9346\n",
      "Epoch 41/50\n",
      "1499/1500 [============================>.] - ETA: 0s - loss: 0.0270 - accuracy: 0.9900\n",
      "Epoch 00041: ReduceLROnPlateau reducing learning rate to 1.5625000742147677e-05.\n",
      "1500/1500 [==============================] - 7s 5ms/step - loss: 0.0270 - accuracy: 0.9900 - val_loss: 0.3631 - val_accuracy: 0.9345\n",
      "Epoch 42/50\n",
      "1500/1500 [==============================] - 6s 4ms/step - loss: 0.0250 - accuracy: 0.9906 - val_loss: 0.3620 - val_accuracy: 0.9349\n",
      "Epoch 43/50\n",
      "1500/1500 [==============================] - 6s 4ms/step - loss: 0.0234 - accuracy: 0.9916 - val_loss: 0.3632 - val_accuracy: 0.9352\n",
      "Epoch 44/50\n",
      "1495/1500 [============================>.] - ETA: 0s - loss: 0.0248 - accuracy: 0.9911\n",
      "Epoch 00044: ReduceLROnPlateau reducing learning rate to 1e-05.\n",
      "1500/1500 [==============================] - 6s 4ms/step - loss: 0.0248 - accuracy: 0.9911 - val_loss: 0.3618 - val_accuracy: 0.9358\n",
      "Epoch 45/50\n",
      "1500/1500 [==============================] - 6s 4ms/step - loss: 0.0225 - accuracy: 0.9921 - val_loss: 0.3637 - val_accuracy: 0.9359\n",
      "Epoch 46/50\n",
      "1500/1500 [==============================] - 6s 4ms/step - loss: 0.0234 - accuracy: 0.9919 - val_loss: 0.3664 - val_accuracy: 0.9356\n",
      "Epoch 47/50\n",
      "1500/1500 [==============================] - 7s 4ms/step - loss: 0.0242 - accuracy: 0.9915 - val_loss: 0.3657 - val_accuracy: 0.9358\n",
      "Epoch 48/50\n",
      "1500/1500 [==============================] - 6s 4ms/step - loss: 0.0228 - accuracy: 0.9916 - val_loss: 0.3670 - val_accuracy: 0.9358\n",
      "Epoch 49/50\n",
      "1500/1500 [==============================] - 6s 4ms/step - loss: 0.0232 - accuracy: 0.9914 - val_loss: 0.3677 - val_accuracy: 0.9358\n",
      "Epoch 50/50\n",
      "1500/1500 [==============================] - 7s 4ms/step - loss: 0.0234 - accuracy: 0.9918 - val_loss: 0.3692 - val_accuracy: 0.9355\n"
     ]
    }
   ],
   "source": [
    "import timeit\n",
    "start=timeit.default_timer()\n",
    "\n",
    "b=model_lr.fit(X_train,y_train,batch_size = 32,epochs = 50,verbose=1,validation_data=(X_val,y_val),callbacks=[learning_rate_reduction],shuffle=False)\n",
    "\n",
    "stop=timeit.default_timer()"
   ]
  },
  {
   "cell_type": "markdown",
   "metadata": {
    "papermill": {
     "duration": 2.164921,
     "end_time": "2020-12-23T17:22:27.830341",
     "exception": false,
     "start_time": "2020-12-23T17:22:25.665420",
     "status": "completed"
    },
    "tags": []
   },
   "source": [
    "## 8.1 Predicting test data"
   ]
  },
  {
   "cell_type": "code",
   "execution_count": 25,
   "metadata": {
    "execution": {
     "iopub.execute_input": "2020-12-23T17:22:32.788251Z",
     "iopub.status.busy": "2020-12-23T17:22:32.787214Z",
     "iopub.status.idle": "2020-12-23T17:22:33.321226Z",
     "shell.execute_reply": "2020-12-23T17:22:33.320755Z"
    },
    "papermill": {
     "duration": 2.888921,
     "end_time": "2020-12-23T17:22:33.321332",
     "exception": false,
     "start_time": "2020-12-23T17:22:30.432411",
     "status": "completed"
    },
    "tags": []
   },
   "outputs": [
    {
     "name": "stdout",
     "output_type": "stream",
     "text": [
      "313/313 [==============================] - 0s 1ms/step\n",
      "Accuracy on test set:  94.11\n"
     ]
    }
   ],
   "source": [
    "y_pred_lr = model_lr.predict_classes(X_test,verbose = 1)\n",
    "y_pred_lr = keras.utils.to_categorical(y_pred_lr)\n",
    "accuracy_cnn_lr = (accuracy_score(y_pred_lr,y_test)) * 100\n",
    "print(\"Accuracy on test set: \",accuracy_cnn_lr)"
   ]
  },
  {
   "cell_type": "markdown",
   "metadata": {
    "papermill": {
     "duration": 2.081102,
     "end_time": "2020-12-23T17:22:37.507428",
     "exception": false,
     "start_time": "2020-12-23T17:22:35.426326",
     "status": "completed"
    },
    "tags": []
   },
   "source": [
    "## 6.2 Leaky Relu with callback"
   ]
  },
  {
   "cell_type": "code",
   "execution_count": 26,
   "metadata": {
    "execution": {
     "iopub.execute_input": "2020-12-23T17:22:41.965370Z",
     "iopub.status.busy": "2020-12-23T17:22:41.964360Z",
     "iopub.status.idle": "2020-12-23T17:22:42.052648Z",
     "shell.execute_reply": "2020-12-23T17:22:42.052188Z"
    },
    "papermill": {
     "duration": 2.472775,
     "end_time": "2020-12-23T17:22:42.052749",
     "exception": false,
     "start_time": "2020-12-23T17:22:39.579974",
     "status": "completed"
    },
    "tags": []
   },
   "outputs": [],
   "source": [
    "\n",
    "model_leaky = Sequential()\n",
    "\n",
    "model_leaky.add(Conv2D(filters = 32, kernel_size = (5,5),padding = 'Same', \n",
    "                 activation ='relu', input_shape = (28,28,1)))\n",
    "model_leaky.add(Conv2D(filters = 32, kernel_size = (5,5),padding = 'Same', \n",
    "                 activation ='relu'))\n",
    "model_leaky.add(MaxPooling2D(pool_size=(2,2)))\n",
    "model_leaky.add(Dropout(0.25))\n",
    "\n",
    "\n",
    "model_leaky.add(Conv2D(filters = 64, kernel_size = (3,3),padding = 'Same', \n",
    "                 activation ='relu'))\n",
    "model_leaky.add(Conv2D(filters = 64, kernel_size = (3,3),padding = 'Same', \n",
    "                 activation ='relu'))\n",
    "model_leaky.add(MaxPooling2D(pool_size=(2,2), strides=(2,2)))\n",
    "model_leaky.add(Dropout(0.25))\n",
    "\n",
    "\n",
    "model_leaky.add(Flatten())\n",
    "model_leaky.add(Dense(256))\n",
    "model_leaky.add(LeakyReLU(alpha=0.01))\n",
    "model_leaky.add(Dropout(0.25))\n",
    "model_leaky.add(Dense(10, activation = \"softmax\"))\n",
    "\n",
    "\n",
    "model_leaky.compile(optimizer = keras.optimizers.Adam() , loss = \"categorical_crossentropy\", metrics=[\"accuracy\"])\n"
   ]
  },
  {
   "cell_type": "code",
   "execution_count": 27,
   "metadata": {
    "execution": {
     "iopub.execute_input": "2020-12-23T17:22:46.217638Z",
     "iopub.status.busy": "2020-12-23T17:22:46.216481Z",
     "iopub.status.idle": "2020-12-23T17:28:03.620485Z",
     "shell.execute_reply": "2020-12-23T17:28:03.620035Z"
    },
    "papermill": {
     "duration": 319.492525,
     "end_time": "2020-12-23T17:28:03.620586",
     "exception": false,
     "start_time": "2020-12-23T17:22:44.128061",
     "status": "completed"
    },
    "tags": []
   },
   "outputs": [
    {
     "name": "stdout",
     "output_type": "stream",
     "text": [
      "Epoch 1/50\n",
      "1500/1500 [==============================] - 6s 4ms/step - loss: 0.4539 - accuracy: 0.8349 - val_loss: 0.3055 - val_accuracy: 0.8867\n",
      "Epoch 2/50\n",
      "1500/1500 [==============================] - 6s 4ms/step - loss: 0.2991 - accuracy: 0.8885 - val_loss: 0.2537 - val_accuracy: 0.9047\n",
      "Epoch 3/50\n",
      "1500/1500 [==============================] - 7s 4ms/step - loss: 0.2570 - accuracy: 0.9041 - val_loss: 0.2380 - val_accuracy: 0.9114\n",
      "Epoch 4/50\n",
      "1500/1500 [==============================] - 6s 4ms/step - loss: 0.2350 - accuracy: 0.9126 - val_loss: 0.2366 - val_accuracy: 0.9167\n",
      "Epoch 5/50\n",
      "1500/1500 [==============================] - 6s 4ms/step - loss: 0.2110 - accuracy: 0.9217 - val_loss: 0.2254 - val_accuracy: 0.9196\n",
      "Epoch 6/50\n",
      "1500/1500 [==============================] - 7s 5ms/step - loss: 0.1931 - accuracy: 0.9281 - val_loss: 0.2292 - val_accuracy: 0.9213\n",
      "Epoch 7/50\n",
      "1500/1500 [==============================] - 6s 4ms/step - loss: 0.1783 - accuracy: 0.9327 - val_loss: 0.2206 - val_accuracy: 0.9213\n",
      "Epoch 8/50\n",
      "1500/1500 [==============================] - 6s 4ms/step - loss: 0.1682 - accuracy: 0.9352 - val_loss: 0.2355 - val_accuracy: 0.9201\n",
      "Epoch 9/50\n",
      "1500/1500 [==============================] - 6s 4ms/step - loss: 0.1590 - accuracy: 0.9391 - val_loss: 0.2293 - val_accuracy: 0.9219\n",
      "Epoch 10/50\n",
      "1500/1500 [==============================] - 6s 4ms/step - loss: 0.1506 - accuracy: 0.9430 - val_loss: 0.2227 - val_accuracy: 0.9247\n",
      "Epoch 11/50\n",
      "1500/1500 [==============================] - 6s 4ms/step - loss: 0.1417 - accuracy: 0.9467 - val_loss: 0.2314 - val_accuracy: 0.9246\n",
      "Epoch 12/50\n",
      "1500/1500 [==============================] - 6s 4ms/step - loss: 0.1343 - accuracy: 0.9496 - val_loss: 0.2512 - val_accuracy: 0.9251\n",
      "Epoch 13/50\n",
      "1500/1500 [==============================] - 6s 4ms/step - loss: 0.1301 - accuracy: 0.9508 - val_loss: 0.2435 - val_accuracy: 0.9259\n",
      "Epoch 14/50\n",
      "1500/1500 [==============================] - 6s 4ms/step - loss: 0.1220 - accuracy: 0.9542 - val_loss: 0.2522 - val_accuracy: 0.9268\n",
      "Epoch 15/50\n",
      "1500/1500 [==============================] - 7s 5ms/step - loss: 0.1168 - accuracy: 0.9564 - val_loss: 0.2611 - val_accuracy: 0.9243\n",
      "Epoch 16/50\n",
      "1500/1500 [==============================] - 7s 4ms/step - loss: 0.1155 - accuracy: 0.9576 - val_loss: 0.2765 - val_accuracy: 0.9229\n",
      "Epoch 17/50\n",
      "1495/1500 [============================>.] - ETA: 0s - loss: 0.1119 - accuracy: 0.9585\n",
      "Epoch 00017: ReduceLROnPlateau reducing learning rate to 0.0005000000237487257.\n",
      "1500/1500 [==============================] - 7s 5ms/step - loss: 0.1118 - accuracy: 0.9586 - val_loss: 0.2677 - val_accuracy: 0.9262\n",
      "Epoch 18/50\n",
      "1500/1500 [==============================] - 6s 4ms/step - loss: 0.0845 - accuracy: 0.9682 - val_loss: 0.2755 - val_accuracy: 0.9304\n",
      "Epoch 19/50\n",
      "1500/1500 [==============================] - 6s 4ms/step - loss: 0.0750 - accuracy: 0.9720 - val_loss: 0.2922 - val_accuracy: 0.9303\n",
      "Epoch 20/50\n",
      "1500/1500 [==============================] - 6s 4ms/step - loss: 0.0700 - accuracy: 0.9739 - val_loss: 0.2880 - val_accuracy: 0.9303\n",
      "Epoch 21/50\n",
      "1500/1500 [==============================] - 6s 4ms/step - loss: 0.0641 - accuracy: 0.9771 - val_loss: 0.3238 - val_accuracy: 0.9311\n",
      "Epoch 22/50\n",
      "1500/1500 [==============================] - 7s 4ms/step - loss: 0.0613 - accuracy: 0.9770 - val_loss: 0.3026 - val_accuracy: 0.9327\n",
      "Epoch 23/50\n",
      "1500/1500 [==============================] - 7s 4ms/step - loss: 0.0632 - accuracy: 0.9771 - val_loss: 0.3046 - val_accuracy: 0.9338\n",
      "Epoch 24/50\n",
      "1500/1500 [==============================] - 6s 4ms/step - loss: 0.0569 - accuracy: 0.9787 - val_loss: 0.3157 - val_accuracy: 0.9320\n",
      "Epoch 25/50\n",
      "1500/1500 [==============================] - 6s 4ms/step - loss: 0.0547 - accuracy: 0.9791 - val_loss: 0.3410 - val_accuracy: 0.9331\n",
      "Epoch 26/50\n",
      "1500/1500 [==============================] - ETA: 0s - loss: 0.0545 - accuracy: 0.9796\n",
      "Epoch 00026: ReduceLROnPlateau reducing learning rate to 0.0002500000118743628.\n",
      "1500/1500 [==============================] - 6s 4ms/step - loss: 0.0545 - accuracy: 0.9796 - val_loss: 0.3209 - val_accuracy: 0.9312\n",
      "Epoch 27/50\n",
      "1500/1500 [==============================] - 6s 4ms/step - loss: 0.0443 - accuracy: 0.9838 - val_loss: 0.3396 - val_accuracy: 0.9328\n",
      "Epoch 28/50\n",
      "1500/1500 [==============================] - 7s 5ms/step - loss: 0.0393 - accuracy: 0.9852 - val_loss: 0.3434 - val_accuracy: 0.9339\n",
      "Epoch 29/50\n",
      "1493/1500 [============================>.] - ETA: 0s - loss: 0.0376 - accuracy: 0.9860\n",
      "Epoch 00029: ReduceLROnPlateau reducing learning rate to 0.0001250000059371814.\n",
      "1500/1500 [==============================] - 6s 4ms/step - loss: 0.0377 - accuracy: 0.9859 - val_loss: 0.3368 - val_accuracy: 0.9337\n",
      "Epoch 30/50\n",
      "1500/1500 [==============================] - 6s 4ms/step - loss: 0.0354 - accuracy: 0.9868 - val_loss: 0.3491 - val_accuracy: 0.9342\n",
      "Epoch 31/50\n",
      "1500/1500 [==============================] - 6s 4ms/step - loss: 0.0310 - accuracy: 0.9893 - val_loss: 0.3523 - val_accuracy: 0.9340\n",
      "Epoch 32/50\n",
      "1500/1500 [==============================] - 6s 4ms/step - loss: 0.0314 - accuracy: 0.9886 - val_loss: 0.3537 - val_accuracy: 0.9327\n",
      "Epoch 33/50\n",
      "1500/1500 [==============================] - 6s 4ms/step - loss: 0.0286 - accuracy: 0.9893 - val_loss: 0.3649 - val_accuracy: 0.9351\n",
      "Epoch 34/50\n",
      "1500/1500 [==============================] - 8s 5ms/step - loss: 0.0283 - accuracy: 0.9899 - val_loss: 0.3699 - val_accuracy: 0.9348\n",
      "Epoch 35/50\n",
      "1500/1500 [==============================] - 6s 4ms/step - loss: 0.0275 - accuracy: 0.9900 - val_loss: 0.3629 - val_accuracy: 0.9349\n",
      "Epoch 36/50\n",
      "1500/1500 [==============================] - 6s 4ms/step - loss: 0.0258 - accuracy: 0.9905 - val_loss: 0.3694 - val_accuracy: 0.9354\n",
      "Epoch 37/50\n",
      "1500/1500 [==============================] - 6s 4ms/step - loss: 0.0281 - accuracy: 0.9900 - val_loss: 0.3682 - val_accuracy: 0.9358\n",
      "Epoch 38/50\n",
      "1500/1500 [==============================] - 6s 4ms/step - loss: 0.0244 - accuracy: 0.9905 - val_loss: 0.3810 - val_accuracy: 0.9352\n",
      "Epoch 39/50\n",
      "1500/1500 [==============================] - 6s 4ms/step - loss: 0.0253 - accuracy: 0.9908 - val_loss: 0.3699 - val_accuracy: 0.9354\n",
      "Epoch 40/50\n",
      "1490/1500 [============================>.] - ETA: 0s - loss: 0.0251 - accuracy: 0.9911\n",
      "Epoch 00040: ReduceLROnPlateau reducing learning rate to 6.25000029685907e-05.\n",
      "1500/1500 [==============================] - 6s 4ms/step - loss: 0.0250 - accuracy: 0.9912 - val_loss: 0.3741 - val_accuracy: 0.9352\n",
      "Epoch 41/50\n",
      "1500/1500 [==============================] - 6s 4ms/step - loss: 0.0229 - accuracy: 0.9919 - val_loss: 0.3725 - val_accuracy: 0.9353\n",
      "Epoch 42/50\n",
      "1500/1500 [==============================] - 6s 4ms/step - loss: 0.0206 - accuracy: 0.9927 - val_loss: 0.3837 - val_accuracy: 0.9350\n",
      "Epoch 43/50\n",
      "1494/1500 [============================>.] - ETA: 0s - loss: 0.0197 - accuracy: 0.9936\n",
      "Epoch 00043: ReduceLROnPlateau reducing learning rate to 3.125000148429535e-05.\n",
      "1500/1500 [==============================] - 7s 4ms/step - loss: 0.0197 - accuracy: 0.9936 - val_loss: 0.3873 - val_accuracy: 0.9352\n",
      "Epoch 44/50\n",
      "1500/1500 [==============================] - 7s 5ms/step - loss: 0.0210 - accuracy: 0.9925 - val_loss: 0.3843 - val_accuracy: 0.9350\n",
      "Epoch 45/50\n",
      "1500/1500 [==============================] - 7s 4ms/step - loss: 0.0209 - accuracy: 0.9926 - val_loss: 0.3852 - val_accuracy: 0.9351\n",
      "Epoch 46/50\n",
      "1488/1500 [============================>.] - ETA: 0s - loss: 0.0183 - accuracy: 0.9934\n",
      "Epoch 00046: ReduceLROnPlateau reducing learning rate to 1.5625000742147677e-05.\n",
      "1500/1500 [==============================] - 6s 4ms/step - loss: 0.0184 - accuracy: 0.9934 - val_loss: 0.3885 - val_accuracy: 0.9340\n",
      "Epoch 47/50\n",
      "1500/1500 [==============================] - 6s 4ms/step - loss: 0.0197 - accuracy: 0.9927 - val_loss: 0.3877 - val_accuracy: 0.9353\n",
      "Epoch 48/50\n",
      "1500/1500 [==============================] - 7s 4ms/step - loss: 0.0185 - accuracy: 0.9940 - val_loss: 0.3909 - val_accuracy: 0.9352\n",
      "Epoch 49/50\n",
      "1499/1500 [============================>.] - ETA: 0s - loss: 0.0183 - accuracy: 0.9936\n",
      "Epoch 00049: ReduceLROnPlateau reducing learning rate to 1e-05.\n",
      "1500/1500 [==============================] - 6s 4ms/step - loss: 0.0183 - accuracy: 0.9936 - val_loss: 0.3905 - val_accuracy: 0.9351\n",
      "Epoch 50/50\n",
      "1500/1500 [==============================] - 6s 4ms/step - loss: 0.0178 - accuracy: 0.9935 - val_loss: 0.3911 - val_accuracy: 0.9357\n"
     ]
    }
   ],
   "source": [
    "import timeit\n",
    "start=timeit.default_timer()\n",
    "\n",
    "c=model_leaky.fit(X_train,y_train,batch_size = 32,epochs = 50,verbose=1,validation_data=(X_val,y_val),callbacks=[learning_rate_reduction],shuffle=False)\n",
    "\n",
    "stop=timeit.default_timer()"
   ]
  },
  {
   "cell_type": "markdown",
   "metadata": {
    "papermill": {
     "duration": 3.60999,
     "end_time": "2020-12-23T17:28:10.831789",
     "exception": false,
     "start_time": "2020-12-23T17:28:07.221799",
     "status": "completed"
    },
    "tags": []
   },
   "source": [
    "## 8.2 Predicting test data"
   ]
  },
  {
   "cell_type": "code",
   "execution_count": 28,
   "metadata": {
    "execution": {
     "iopub.execute_input": "2020-12-23T17:28:18.325974Z",
     "iopub.status.busy": "2020-12-23T17:28:18.325026Z",
     "iopub.status.idle": "2020-12-23T17:28:19.180459Z",
     "shell.execute_reply": "2020-12-23T17:28:19.181099Z"
    },
    "papermill": {
     "duration": 4.48766,
     "end_time": "2020-12-23T17:28:19.181265",
     "exception": false,
     "start_time": "2020-12-23T17:28:14.693605",
     "status": "completed"
    },
    "tags": []
   },
   "outputs": [
    {
     "name": "stdout",
     "output_type": "stream",
     "text": [
      "313/313 [==============================] - 1s 2ms/step\n",
      "Accuracy on test set:  93.81\n"
     ]
    }
   ],
   "source": [
    "y_pred_leaky = model_leaky.predict_classes(X_test,verbose = 1)\n",
    "y_pred_leaky = keras.utils.to_categorical(y_pred_leaky)\n",
    "accuracy_cnn_leaky = (accuracy_score(y_pred_leaky,y_test)) * 100\n",
    "print(\"Accuracy on test set: \",accuracy_cnn_leaky)"
   ]
  },
  {
   "cell_type": "markdown",
   "metadata": {
    "papermill": {
     "duration": 4.122215,
     "end_time": "2020-12-23T17:28:27.813927",
     "exception": false,
     "start_time": "2020-12-23T17:28:23.691712",
     "status": "completed"
    },
    "tags": []
   },
   "source": [
    "# 6.3 - SGD with momentum\n",
    "model.compile(optimizer = keras.optimizers.SGD(lr=0.01, decay=1e-6, momentum=0.9, nesterov=True) , loss = \"categorical_crossentropy\", metrics=[\"accuracy\"])\n",
    "\n",
    "# 6.4 - Batch normalization \n",
    "model.add(BatchNormalization())\n",
    "\n",
    "https://github.com/kannavdhawan/Neural-Networks-Fashion-MNSIT/blob/master/convolution_neural_network.ipynb"
   ]
  },
  {
   "cell_type": "markdown",
   "metadata": {
    "papermill": {
     "duration": 3.850202,
     "end_time": "2020-12-23T17:28:35.336726",
     "exception": false,
     "start_time": "2020-12-23T17:28:31.486524",
     "status": "completed"
    },
    "tags": []
   },
   "source": [
    "## 6.5 | Keras Tuner\n",
    "- https://www.tensorflow.org/tutorials/keras/keras_tuner\n"
   ]
  },
  {
   "cell_type": "code",
   "execution_count": 29,
   "metadata": {
    "execution": {
     "iopub.execute_input": "2020-12-23T17:28:42.505338Z",
     "iopub.status.busy": "2020-12-23T17:28:42.504440Z",
     "iopub.status.idle": "2020-12-23T17:28:42.507272Z",
     "shell.execute_reply": "2020-12-23T17:28:42.507684Z"
    },
    "papermill": {
     "duration": 3.561844,
     "end_time": "2020-12-23T17:28:42.507797",
     "exception": false,
     "start_time": "2020-12-23T17:28:38.945953",
     "status": "completed"
    },
    "tags": []
   },
   "outputs": [
    {
     "data": {
      "text/plain": [
       "'2.3.1'"
      ]
     },
     "execution_count": 29,
     "metadata": {},
     "output_type": "execute_result"
    }
   ],
   "source": [
    "tf.__version__"
   ]
  },
  {
   "cell_type": "code",
   "execution_count": 30,
   "metadata": {
    "execution": {
     "iopub.execute_input": "2020-12-23T17:28:50.181934Z",
     "iopub.status.busy": "2020-12-23T17:28:50.181374Z",
     "iopub.status.idle": "2020-12-23T17:28:58.664028Z",
     "shell.execute_reply": "2020-12-23T17:28:58.663497Z"
    },
    "papermill": {
     "duration": 12.180202,
     "end_time": "2020-12-23T17:28:58.664140",
     "exception": false,
     "start_time": "2020-12-23T17:28:46.483938",
     "status": "completed"
    },
    "tags": []
   },
   "outputs": [
    {
     "name": "stdout",
     "output_type": "stream",
     "text": [
      "Requirement already satisfied: keras-tuner in /opt/conda/lib/python3.7/site-packages (1.0.2)\r\n",
      "Requirement already satisfied: numpy in /opt/conda/lib/python3.7/site-packages (from keras-tuner) (1.18.5)\r\n",
      "Requirement already satisfied: scipy in /opt/conda/lib/python3.7/site-packages (from keras-tuner) (1.4.1)\r\n",
      "Requirement already satisfied: tqdm in /opt/conda/lib/python3.7/site-packages (from keras-tuner) (4.45.0)\r\n",
      "Requirement already satisfied: colorama in /opt/conda/lib/python3.7/site-packages (from keras-tuner) (0.4.3)\r\n",
      "Requirement already satisfied: terminaltables in /opt/conda/lib/python3.7/site-packages (from keras-tuner) (3.1.0)\r\n",
      "Requirement already satisfied: future in /opt/conda/lib/python3.7/site-packages (from keras-tuner) (0.18.2)\r\n",
      "Requirement already satisfied: scikit-learn in /opt/conda/lib/python3.7/site-packages (from keras-tuner) (0.23.2)\r\n",
      "Requirement already satisfied: requests in /opt/conda/lib/python3.7/site-packages (from keras-tuner) (2.23.0)\r\n",
      "Requirement already satisfied: packaging in /opt/conda/lib/python3.7/site-packages (from keras-tuner) (20.1)\r\n",
      "Requirement already satisfied: tabulate in /opt/conda/lib/python3.7/site-packages (from keras-tuner) (0.8.7)\r\n",
      "Requirement already satisfied: pyparsing>=2.0.2 in /opt/conda/lib/python3.7/site-packages (from packaging->keras-tuner) (2.4.7)\r\n",
      "Requirement already satisfied: six in /opt/conda/lib/python3.7/site-packages (from packaging->keras-tuner) (1.14.0)\r\n",
      "Requirement already satisfied: idna<3,>=2.5 in /opt/conda/lib/python3.7/site-packages (from requests->keras-tuner) (2.9)\r\n",
      "Requirement already satisfied: certifi>=2017.4.17 in /opt/conda/lib/python3.7/site-packages (from requests->keras-tuner) (2020.12.5)\r\n",
      "Requirement already satisfied: urllib3!=1.25.0,!=1.25.1,<1.26,>=1.21.1 in /opt/conda/lib/python3.7/site-packages (from requests->keras-tuner) (1.25.9)\r\n",
      "Requirement already satisfied: chardet<4,>=3.0.2 in /opt/conda/lib/python3.7/site-packages (from requests->keras-tuner) (3.0.4)\r\n",
      "Requirement already satisfied: threadpoolctl>=2.0.0 in /opt/conda/lib/python3.7/site-packages (from scikit-learn->keras-tuner) (2.1.0)\r\n",
      "Requirement already satisfied: numpy in /opt/conda/lib/python3.7/site-packages (from keras-tuner) (1.18.5)\r\n",
      "Requirement already satisfied: joblib>=0.11 in /opt/conda/lib/python3.7/site-packages (from scikit-learn->keras-tuner) (0.14.1)\r\n",
      "Requirement already satisfied: scipy in /opt/conda/lib/python3.7/site-packages (from keras-tuner) (1.4.1)\r\n",
      "Requirement already satisfied: numpy in /opt/conda/lib/python3.7/site-packages (from keras-tuner) (1.18.5)\r\n",
      "\u001b[33mWARNING: You are using pip version 20.3.1; however, version 20.3.3 is available.\r\n",
      "You should consider upgrading via the '/opt/conda/bin/python3.7 -m pip install --upgrade pip' command.\u001b[0m\r\n"
     ]
    }
   ],
   "source": [
    "!pip install keras-tuner"
   ]
  },
  {
   "cell_type": "code",
   "execution_count": 31,
   "metadata": {
    "execution": {
     "iopub.execute_input": "2020-12-23T17:29:05.892988Z",
     "iopub.status.busy": "2020-12-23T17:29:05.892332Z",
     "iopub.status.idle": "2020-12-23T17:29:05.960073Z",
     "shell.execute_reply": "2020-12-23T17:29:05.959602Z"
    },
    "papermill": {
     "duration": 3.693355,
     "end_time": "2020-12-23T17:29:05.960178",
     "exception": false,
     "start_time": "2020-12-23T17:29:02.266823",
     "status": "completed"
    },
    "tags": []
   },
   "outputs": [],
   "source": [
    "import tensorflow as tf\n",
    "from tensorflow import keras\n",
    "import kerastuner as kt"
   ]
  },
  {
   "cell_type": "code",
   "execution_count": 32,
   "metadata": {
    "execution": {
     "iopub.execute_input": "2020-12-23T17:29:13.438784Z",
     "iopub.status.busy": "2020-12-23T17:29:13.438066Z",
     "iopub.status.idle": "2020-12-23T17:29:13.441007Z",
     "shell.execute_reply": "2020-12-23T17:29:13.441455Z"
    },
    "papermill": {
     "duration": 3.633187,
     "end_time": "2020-12-23T17:29:13.441567",
     "exception": false,
     "start_time": "2020-12-23T17:29:09.808380",
     "status": "completed"
    },
    "tags": []
   },
   "outputs": [
    {
     "data": {
      "text/plain": [
       "'2.3.1'"
      ]
     },
     "execution_count": 32,
     "metadata": {},
     "output_type": "execute_result"
    }
   ],
   "source": [
    "tf.__version__"
   ]
  },
  {
   "cell_type": "code",
   "execution_count": 33,
   "metadata": {
    "execution": {
     "iopub.execute_input": "2020-12-23T17:29:21.553060Z",
     "iopub.status.busy": "2020-12-23T17:29:21.552169Z",
     "iopub.status.idle": "2020-12-23T17:29:21.556910Z",
     "shell.execute_reply": "2020-12-23T17:29:21.557541Z"
    },
    "papermill": {
     "duration": 4.515493,
     "end_time": "2020-12-23T17:29:21.557731",
     "exception": false,
     "start_time": "2020-12-23T17:29:17.042238",
     "status": "completed"
    },
    "tags": []
   },
   "outputs": [],
   "source": [
    "def build_model(hp):  \n",
    "  model = keras.Sequential([\n",
    "    Conv2D(\n",
    "        filters=hp.Int('conv_1_filter', min_value=32, max_value=128, step=16),\n",
    "        kernel_size=hp.Choice('conv_1_kernel', values = [3,5]),\n",
    "        input_shape=(28,28,1)\n",
    "    ),\n",
    "    Activation(LeakyReLU(alpha=0.01)),\n",
    "    Conv2D(\n",
    "        filters=hp.Int('conv_2_filter', min_value=32, max_value=64, step=16),\n",
    "        kernel_size=hp.Choice('conv_2_kernel', values = [3,5]),\n",
    "    ),\n",
    "    Activation(LeakyReLU(alpha=0.01)),\n",
    "\n",
    "    Flatten(),\n",
    "    Dense(\n",
    "        units=hp.Int('dense_1_units', min_value=32, max_value=128, step=16),\n",
    "        activation='relu'\n",
    "    ),\n",
    "    Dense(10, activation='softmax')\n",
    "  ])\n",
    "  \n",
    "  model.compile(optimizer=keras.optimizers.Adam(hp.Choice('learning_rate', values=[1e-2, 1e-3])),\n",
    "              loss='sparse_categorical_crossentropy',\n",
    "              metrics=['accuracy'])\n",
    "  \n",
    "  return model"
   ]
  },
  {
   "cell_type": "code",
   "execution_count": 34,
   "metadata": {
    "execution": {
     "iopub.execute_input": "2020-12-23T17:29:29.821375Z",
     "iopub.status.busy": "2020-12-23T17:29:29.820567Z",
     "iopub.status.idle": "2020-12-23T17:29:29.823453Z",
     "shell.execute_reply": "2020-12-23T17:29:29.823030Z"
    },
    "papermill": {
     "duration": 4.307612,
     "end_time": "2020-12-23T17:29:29.823546",
     "exception": false,
     "start_time": "2020-12-23T17:29:25.515934",
     "status": "completed"
    },
    "tags": []
   },
   "outputs": [],
   "source": [
    "from kerastuner import RandomSearch\n",
    "from kerastuner.engine.hyperparameters import HyperParameters"
   ]
  },
  {
   "cell_type": "code",
   "execution_count": 35,
   "metadata": {
    "execution": {
     "iopub.execute_input": "2020-12-23T17:29:37.029439Z",
     "iopub.status.busy": "2020-12-23T17:29:37.028508Z",
     "iopub.status.idle": "2020-12-23T17:29:37.267615Z",
     "shell.execute_reply": "2020-12-23T17:29:37.267148Z"
    },
    "papermill": {
     "duration": 3.823885,
     "end_time": "2020-12-23T17:29:37.267720",
     "exception": false,
     "start_time": "2020-12-23T17:29:33.443835",
     "status": "completed"
    },
    "tags": []
   },
   "outputs": [],
   "source": [
    "tuner_search=RandomSearch(build_model,\n",
    "                          objective='val_accuracy',\n",
    "                          max_trials=5,directory='output',project_name=\"Mnist Fashion\")"
   ]
  },
  {
   "cell_type": "code",
   "execution_count": 36,
   "metadata": {
    "execution": {
     "iopub.execute_input": "2020-12-23T17:29:44.918614Z",
     "iopub.status.busy": "2020-12-23T17:29:44.917829Z",
     "iopub.status.idle": "2020-12-23T17:29:44.923701Z",
     "shell.execute_reply": "2020-12-23T17:29:44.923264Z"
    },
    "papermill": {
     "duration": 3.635851,
     "end_time": "2020-12-23T17:29:44.923788",
     "exception": false,
     "start_time": "2020-12-23T17:29:41.287937",
     "status": "completed"
    },
    "tags": []
   },
   "outputs": [],
   "source": [
    "y_train = np.argmax(y_train, axis=-1)"
   ]
  },
  {
   "cell_type": "code",
   "execution_count": 37,
   "metadata": {
    "execution": {
     "iopub.execute_input": "2020-12-23T17:29:52.588182Z",
     "iopub.status.busy": "2020-12-23T17:29:52.587173Z",
     "iopub.status.idle": "2020-12-23T17:31:05.264039Z",
     "shell.execute_reply": "2020-12-23T17:31:05.263565Z"
    },
    "papermill": {
     "duration": 76.653386,
     "end_time": "2020-12-23T17:31:05.264145",
     "exception": false,
     "start_time": "2020-12-23T17:29:48.610759",
     "status": "completed"
    },
    "tags": []
   },
   "outputs": [
    {
     "name": "stdout",
     "output_type": "stream",
     "text": [
      "Trial 5 Complete [00h 00m 16s]\n",
      "val_accuracy: 0.831041693687439\n",
      "\n",
      "Best val_accuracy So Far: 0.9016666412353516\n",
      "Total elapsed time: 00h 01m 12s\n"
     ]
    }
   ],
   "source": [
    "tuner_search.search(X_train,y_train,epochs=3,validation_split=0.1) # ytrain should be non categorical"
   ]
  },
  {
   "cell_type": "code",
   "execution_count": 38,
   "metadata": {
    "execution": {
     "iopub.execute_input": "2020-12-23T17:31:12.849558Z",
     "iopub.status.busy": "2020-12-23T17:31:12.848474Z",
     "iopub.status.idle": "2020-12-23T17:31:13.104102Z",
     "shell.execute_reply": "2020-12-23T17:31:13.103604Z"
    },
    "papermill": {
     "duration": 3.87523,
     "end_time": "2020-12-23T17:31:13.104225",
     "exception": false,
     "start_time": "2020-12-23T17:31:09.228995",
     "status": "completed"
    },
    "tags": []
   },
   "outputs": [],
   "source": [
    "model=tuner_search.get_best_models(num_models=1)[0]"
   ]
  },
  {
   "cell_type": "code",
   "execution_count": 39,
   "metadata": {
    "execution": {
     "iopub.execute_input": "2020-12-23T17:31:21.259214Z",
     "iopub.status.busy": "2020-12-23T17:31:21.258326Z",
     "iopub.status.idle": "2020-12-23T17:31:21.261555Z",
     "shell.execute_reply": "2020-12-23T17:31:21.262381Z"
    },
    "papermill": {
     "duration": 4.47537,
     "end_time": "2020-12-23T17:31:21.262585",
     "exception": false,
     "start_time": "2020-12-23T17:31:16.787215",
     "status": "completed"
    },
    "tags": []
   },
   "outputs": [
    {
     "name": "stdout",
     "output_type": "stream",
     "text": [
      "Model: \"sequential\"\n",
      "_________________________________________________________________\n",
      "Layer (type)                 Output Shape              Param #   \n",
      "=================================================================\n",
      "conv2d (Conv2D)              (None, 24, 24, 80)        2080      \n",
      "_________________________________________________________________\n",
      "activation (Activation)      (None, 24, 24, 80)        0         \n",
      "_________________________________________________________________\n",
      "conv2d_1 (Conv2D)            (None, 20, 20, 48)        96048     \n",
      "_________________________________________________________________\n",
      "activation_1 (Activation)    (None, 20, 20, 48)        0         \n",
      "_________________________________________________________________\n",
      "flatten (Flatten)            (None, 19200)             0         \n",
      "_________________________________________________________________\n",
      "dense (Dense)                (None, 64)                1228864   \n",
      "_________________________________________________________________\n",
      "dense_1 (Dense)              (None, 10)                650       \n",
      "=================================================================\n",
      "Total params: 1,327,642\n",
      "Trainable params: 1,327,642\n",
      "Non-trainable params: 0\n",
      "_________________________________________________________________\n"
     ]
    }
   ],
   "source": [
    "model.summary()"
   ]
  },
  {
   "cell_type": "code",
   "execution_count": 40,
   "metadata": {
    "execution": {
     "iopub.execute_input": "2020-12-23T17:31:28.893886Z",
     "iopub.status.busy": "2020-12-23T17:31:28.892913Z",
     "iopub.status.idle": "2020-12-23T17:32:02.251194Z",
     "shell.execute_reply": "2020-12-23T17:32:02.250727Z"
    },
    "papermill": {
     "duration": 37.130231,
     "end_time": "2020-12-23T17:32:02.251299",
     "exception": false,
     "start_time": "2020-12-23T17:31:25.121068",
     "status": "completed"
    },
    "tags": []
   },
   "outputs": [
    {
     "name": "stdout",
     "output_type": "stream",
     "text": [
      "Epoch 4/10\n",
      "1350/1350 [==============================] - 5s 4ms/step - loss: 0.2010 - accuracy: 0.9255 - val_loss: 0.2788 - val_accuracy: 0.9025\n",
      "Epoch 5/10\n",
      "1350/1350 [==============================] - 5s 3ms/step - loss: 0.1628 - accuracy: 0.9388 - val_loss: 0.2758 - val_accuracy: 0.9044\n",
      "Epoch 6/10\n",
      "1350/1350 [==============================] - 5s 3ms/step - loss: 0.1300 - accuracy: 0.9520 - val_loss: 0.2912 - val_accuracy: 0.9102\n",
      "Epoch 7/10\n",
      "1350/1350 [==============================] - 5s 3ms/step - loss: 0.1055 - accuracy: 0.9602 - val_loss: 0.3201 - val_accuracy: 0.9065\n",
      "Epoch 8/10\n",
      "1350/1350 [==============================] - 5s 3ms/step - loss: 0.0835 - accuracy: 0.9691 - val_loss: 0.3499 - val_accuracy: 0.9117\n",
      "Epoch 9/10\n",
      "1350/1350 [==============================] - 5s 3ms/step - loss: 0.0694 - accuracy: 0.9741 - val_loss: 0.3721 - val_accuracy: 0.9115\n",
      "Epoch 10/10\n",
      "1350/1350 [==============================] - 5s 3ms/step - loss: 0.0561 - accuracy: 0.9804 - val_loss: 0.4318 - val_accuracy: 0.9094\n"
     ]
    },
    {
     "data": {
      "text/plain": [
       "<tensorflow.python.keras.callbacks.History at 0x7fdb8c05b3d0>"
      ]
     },
     "execution_count": 40,
     "metadata": {},
     "output_type": "execute_result"
    }
   ],
   "source": [
    "model.fit(X_train,y_train, epochs=10, validation_split=0.1, initial_epoch=3)"
   ]
  },
  {
   "cell_type": "code",
   "execution_count": 41,
   "metadata": {
    "execution": {
     "iopub.execute_input": "2020-12-23T17:32:10.611540Z",
     "iopub.status.busy": "2020-12-23T17:32:10.610671Z",
     "iopub.status.idle": "2020-12-23T17:32:11.180055Z",
     "shell.execute_reply": "2020-12-23T17:32:11.180607Z"
    },
    "papermill": {
     "duration": 4.378636,
     "end_time": "2020-12-23T17:32:11.180754",
     "exception": false,
     "start_time": "2020-12-23T17:32:06.802118",
     "status": "completed"
    },
    "tags": []
   },
   "outputs": [
    {
     "name": "stdout",
     "output_type": "stream",
     "text": [
      "313/313 [==============================] - 0s 1ms/step\n",
      "Accuracy on test set:  91.05\n"
     ]
    }
   ],
   "source": [
    "y_pred = model.predict_classes(X_test,verbose = 1)\n",
    "y_pred = keras.utils.to_categorical(y_pred)\n",
    "accuracy_cnn = (accuracy_score(y_pred,y_test)) * 100\n",
    "print(\"Accuracy on test set: \",accuracy_cnn)"
   ]
  }
 ],
 "metadata": {
  "kernelspec": {
   "display_name": "Python 3",
   "language": "python",
   "name": "python3"
  },
  "language_info": {
   "codemirror_mode": {
    "name": "ipython",
    "version": 3
   },
   "file_extension": ".py",
   "mimetype": "text/x-python",
   "name": "python",
   "nbconvert_exporter": "python",
   "pygments_lexer": "ipython3",
   "version": "3.7.6"
  },
  "papermill": {
   "duration": 1070.343381,
   "end_time": "2020-12-23T17:32:16.969494",
   "environment_variables": {},
   "exception": null,
   "input_path": "__notebook__.ipynb",
   "output_path": "__notebook__.ipynb",
   "parameters": {},
   "start_time": "2020-12-23T17:14:26.626113",
   "version": "2.1.0"
  }
 },
 "nbformat": 4,
 "nbformat_minor": 4
}

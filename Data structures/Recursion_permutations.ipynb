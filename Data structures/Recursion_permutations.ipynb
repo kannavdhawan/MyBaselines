{
  "nbformat": 4,
  "nbformat_minor": 0,
  "metadata": {
    "colab": {
      "name": "Recursion_permutations.ipynb",
      "provenance": []
    },
    "kernelspec": {
      "name": "python3",
      "display_name": "Python 3"
    }
  },
  "cells": [
    {
      "cell_type": "markdown",
      "metadata": {
        "id": "wK__OhVDE3yi"
      },
      "source": [
        "### Given a string, a function that uses recursion to output a list of all the possible permutations of that string.\n",
        "\n",
        "For example, given s='abc' the function should return ['abc', 'acb', 'bac', 'bca', 'cab', 'cba']\n",
        "\n",
        "Note: If a character is repeated, treat each occurence as distinct, for example an input of 'xxx' would return a list with 6 \"versions\" of 'xxx'"
      ]
    },
    {
      "cell_type": "code",
      "metadata": {
        "id": "-qCjpW8iE__F"
      },
      "source": [
        "def permute(s):\n",
        "    out = []\n",
        "    \n",
        "    # Base Case\n",
        "    if len(s) == 1:\n",
        "        out = [s]\n",
        "        \n",
        "    else:\n",
        "        # For every letter in string\n",
        "        for i, let in enumerate(s):\n",
        "            \n",
        "              for perm in permute(s[:i] + s[i+1:]):\n",
        "                \n",
        "                # Add it to output\n",
        "                out += [let + perm]\n",
        "\n",
        "    return out"
      ],
      "execution_count": 4,
      "outputs": []
    },
    {
      "cell_type": "code",
      "metadata": {
        "id": "41-OPQUKFOVr",
        "outputId": "5119c2a7-073b-485a-fcfd-afb3f37efcd8",
        "colab": {
          "base_uri": "https://localhost:8080/",
          "height": 34
        }
      },
      "source": [
        "permute('abc')"
      ],
      "execution_count": 5,
      "outputs": [
        {
          "output_type": "execute_result",
          "data": {
            "text/plain": [
              "['abc', 'acb', 'bac', 'bca', 'cab', 'cba']"
            ]
          },
          "metadata": {
            "tags": []
          },
          "execution_count": 5
        }
      ]
    }
  ]
}
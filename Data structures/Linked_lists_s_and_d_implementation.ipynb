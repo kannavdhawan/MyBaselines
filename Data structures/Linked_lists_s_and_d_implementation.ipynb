{
  "nbformat": 4,
  "nbformat_minor": 0,
  "metadata": {
    "colab": {
      "name": "Linked_lists_s_and_d_implementation.ipynb",
      "provenance": [],
      "collapsed_sections": []
    },
    "kernelspec": {
      "name": "python3",
      "display_name": "Python 3"
    }
  },
  "cells": [
    {
      "cell_type": "markdown",
      "metadata": {
        "id": "ux4UmbmXNRf3"
      },
      "source": [
        "### Singly Linked List Implementation\n"
      ]
    },
    {
      "cell_type": "code",
      "metadata": {
        "id": "W10H08vrNMz5"
      },
      "source": [
        "class Node(object):\n",
        "    \n",
        "    def __init__(self,value):\n",
        "        \n",
        "        self.value = value\n",
        "        self.nextnode = None"
      ],
      "execution_count": 3,
      "outputs": []
    },
    {
      "cell_type": "code",
      "metadata": {
        "id": "9qey_yefNede"
      },
      "source": [
        "a = Node(1)\n",
        "b = Node(2)\n",
        "c = Node(3)"
      ],
      "execution_count": 4,
      "outputs": []
    },
    {
      "cell_type": "code",
      "metadata": {
        "id": "BhK5dhc8Nf-n"
      },
      "source": [
        "a.nextnode = b"
      ],
      "execution_count": 5,
      "outputs": []
    },
    {
      "cell_type": "code",
      "metadata": {
        "id": "Bk6GOtBENgB8"
      },
      "source": [
        "b.nextnode = c"
      ],
      "execution_count": 6,
      "outputs": []
    },
    {
      "cell_type": "code",
      "metadata": {
        "id": "q4Hvg-YANle5",
        "outputId": "0f89433e-24ac-4298-d177-290bc1269a14",
        "colab": {
          "base_uri": "https://localhost:8080/",
          "height": 34
        }
      },
      "source": [
        "a.nextnode.value"
      ],
      "execution_count": 8,
      "outputs": [
        {
          "output_type": "execute_result",
          "data": {
            "text/plain": [
              "2"
            ]
          },
          "metadata": {
            "tags": []
          },
          "execution_count": 8
        }
      ]
    },
    {
      "cell_type": "code",
      "metadata": {
        "id": "21vnqfeNNm3p",
        "outputId": "7e846d81-3ea5-435b-ac54-d011ae14e3ad",
        "colab": {
          "base_uri": "https://localhost:8080/",
          "height": 34
        }
      },
      "source": [
        "b.nextnode.value"
      ],
      "execution_count": 9,
      "outputs": [
        {
          "output_type": "execute_result",
          "data": {
            "text/plain": [
              "3"
            ]
          },
          "metadata": {
            "tags": []
          },
          "execution_count": 9
        }
      ]
    },
    {
      "cell_type": "code",
      "metadata": {
        "id": "BdD2O-WpNp8p",
        "outputId": "b2aa835b-4551-451e-e8a1-ec056bcc18ad",
        "colab": {
          "base_uri": "https://localhost:8080/",
          "height": 34
        }
      },
      "source": [
        "c.value"
      ],
      "execution_count": 10,
      "outputs": [
        {
          "output_type": "execute_result",
          "data": {
            "text/plain": [
              "3"
            ]
          },
          "metadata": {
            "tags": []
          },
          "execution_count": 10
        }
      ]
    },
    {
      "cell_type": "code",
      "metadata": {
        "id": "eG_0EgyQNry3"
      },
      "source": [
        "c.nextnode"
      ],
      "execution_count": 13,
      "outputs": []
    },
    {
      "cell_type": "markdown",
      "metadata": {
        "id": "z7XnE8CJNxO7"
      },
      "source": [
        "### Doubly Linked List Implementation¶\n"
      ]
    },
    {
      "cell_type": "code",
      "metadata": {
        "id": "_FTWIxPwN0Gs"
      },
      "source": [
        "class DoublyLinkedListNode(object):\n",
        "    \n",
        "    def __init__(self,value):\n",
        "        \n",
        "        self.value = value\n",
        "        self.next_node = None\n",
        "        self.prev_node = None"
      ],
      "execution_count": 19,
      "outputs": []
    },
    {
      "cell_type": "code",
      "metadata": {
        "id": "fBSf7tQTN5KZ"
      },
      "source": [
        "a = DoublyLinkedListNode(1)\n",
        "b = DoublyLinkedListNode(2)\n",
        "c = DoublyLinkedListNode(3)"
      ],
      "execution_count": 20,
      "outputs": []
    },
    {
      "cell_type": "code",
      "metadata": {
        "id": "Vyf0NROsN7MP"
      },
      "source": [
        "# Setting b after a\n",
        "b.prev_node = a\n",
        "a.next_node = b"
      ],
      "execution_count": 21,
      "outputs": []
    },
    {
      "cell_type": "code",
      "metadata": {
        "id": "sEUcULjJN7S4"
      },
      "source": [
        "# Setting c after a\n",
        "b.next_node = c\n",
        "c.prev_node = b"
      ],
      "execution_count": 22,
      "outputs": []
    },
    {
      "cell_type": "code",
      "metadata": {
        "id": "ongwhgkKOHD4",
        "outputId": "99d75436-e9b2-44ab-b365-98a84f52c679",
        "colab": {
          "base_uri": "https://localhost:8080/",
          "height": 34
        }
      },
      "source": [
        "a.next_node.value"
      ],
      "execution_count": 23,
      "outputs": [
        {
          "output_type": "execute_result",
          "data": {
            "text/plain": [
              "2"
            ]
          },
          "metadata": {
            "tags": []
          },
          "execution_count": 23
        }
      ]
    },
    {
      "cell_type": "code",
      "metadata": {
        "id": "49xagFz4OIVo",
        "outputId": "90d379af-0b45-4e02-a3b2-10091def42cf",
        "colab": {
          "base_uri": "https://localhost:8080/",
          "height": 34
        }
      },
      "source": [
        "b.prev_node.value"
      ],
      "execution_count": 25,
      "outputs": [
        {
          "output_type": "execute_result",
          "data": {
            "text/plain": [
              "1"
            ]
          },
          "metadata": {
            "tags": []
          },
          "execution_count": 25
        }
      ]
    }
  ]
}
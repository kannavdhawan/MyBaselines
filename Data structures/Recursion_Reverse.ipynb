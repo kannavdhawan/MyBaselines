{
  "nbformat": 4,
  "nbformat_minor": 0,
  "metadata": {
    "colab": {
      "name": "Recursion Reverse.ipynb",
      "provenance": [],
      "collapsed_sections": []
    },
    "kernelspec": {
      "name": "python3",
      "display_name": "Python 3"
    }
  },
  "cells": [
    {
      "cell_type": "code",
      "metadata": {
        "id": "ydcKaJaWArkT"
      },
      "source": [
        "def reverse(s):\n",
        "  if len(s)<=1:\n",
        "    return s\n",
        "  else:\n",
        "    return s[-1] + reverse(s[:-1])"
      ],
      "execution_count": 7,
      "outputs": []
    },
    {
      "cell_type": "code",
      "metadata": {
        "id": "72VgBNYoBGxH",
        "outputId": "9a0f4a0e-9f43-4dce-e404-4fa4819b711f",
        "colab": {
          "base_uri": "https://localhost:8080/",
          "height": 35
        }
      },
      "source": [
        "reverse('hello world')\n"
      ],
      "execution_count": 8,
      "outputs": [
        {
          "output_type": "execute_result",
          "data": {
            "application/vnd.google.colaboratory.intrinsic+json": {
              "type": "string"
            },
            "text/plain": [
              "'dlrow olleh'"
            ]
          },
          "metadata": {
            "tags": []
          },
          "execution_count": 8
        }
      ]
    },
    {
      "cell_type": "code",
      "metadata": {
        "id": "9NAV1TD7BJ-l",
        "outputId": "523d660c-d956-4ab1-988f-cac4e951a85e",
        "colab": {
          "base_uri": "https://localhost:8080/",
          "height": 34
        }
      },
      "source": [
        "from nose.tools import assert_equal\n",
        "\n",
        "class TestReverse(object):\n",
        "    \n",
        "    def test_rev(self,solution):\n",
        "        assert_equal(solution('hello'),'olleh')\n",
        "        assert_equal(solution('hello world'),'dlrow olleh')\n",
        "        assert_equal(solution('123456789'),'987654321')\n",
        "        \n",
        "        print('PASSED ALL TEST CASES!')\n",
        "        \n",
        "# Run Tests\n",
        "test = TestReverse()\n",
        "test.test_rev(reverse)"
      ],
      "execution_count": 12,
      "outputs": [
        {
          "output_type": "stream",
          "text": [
            "PASSED ALL TEST CASES!\n"
          ],
          "name": "stdout"
        }
      ]
    }
  ]
}
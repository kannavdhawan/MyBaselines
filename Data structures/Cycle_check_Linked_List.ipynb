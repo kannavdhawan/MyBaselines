{
  "nbformat": 4,
  "nbformat_minor": 0,
  "metadata": {
    "kernelspec": {
      "name": "python3",
      "display_name": "Python 3",
      "language": "python"
    },
    "language_info": {
      "name": "python",
      "version": "3.7.6",
      "mimetype": "text/x-python",
      "codemirror_mode": {
        "name": "ipython",
        "version": 3
      },
      "pygments_lexer": "ipython3",
      "nbconvert_exporter": "python",
      "file_extension": ".py"
    },
    "colab": {
      "name": "Cycle_check_Linked_List",
      "provenance": []
    }
  },
  "cells": [
    {
      "cell_type": "code",
      "metadata": {
        "id": "TuGW8HN8oVdb"
      },
      "source": [
        "class Node(object):\n",
        "    \n",
        "    def __init__(self,value):\n",
        "        \n",
        "        self.value = value\n",
        "        self.nextnode = None\n",
        "\n",
        "def cycle_check(node):\n",
        "    set_nodes={node}\n",
        "    list_nodes=[node]\n",
        "    while len(list_nodes)==len(set_nodes) and node.nextnode!=None:\n",
        "        set_nodes.add(node.nextnode)\n",
        "        list_nodes.append(node.nextnode)\n",
        "        node=node.nextnode\n",
        "        if len(set_nodes)!=len(list_nodes):\n",
        "            return False\n",
        "    return True\n"
      ],
      "execution_count": 20,
      "outputs": []
    },
    {
      "cell_type": "code",
      "metadata": {
        "id": "ox1zPoQ5onRr"
      },
      "source": [
        "a = Node(1)\n",
        "b = Node(2)\n",
        "c = Node(3)\n",
        "a.nextnode = b\n",
        "b.nextnode = c\n",
        "c.nextnode = a # Cycle"
      ],
      "execution_count": 21,
      "outputs": []
    },
    {
      "cell_type": "code",
      "metadata": {
        "id": "oXXpfmatpcVG",
        "outputId": "72a35e84-8ddd-4781-e91f-86b8aaa4e5ac",
        "colab": {
          "base_uri": "https://localhost:8080/",
          "height": 34
        }
      },
      "source": [
        "print(cycle_check(a))"
      ],
      "execution_count": 22,
      "outputs": [
        {
          "output_type": "stream",
          "text": [
            "False\n"
          ],
          "name": "stdout"
        }
      ]
    },
    {
      "cell_type": "code",
      "metadata": {
        "id": "09etgOx6pK67"
      },
      "source": [
        "# CREATE NON CYCLE LIST\n",
        "x = Node(1)\n",
        "y = Node(2)\n",
        "z = Node(3)\n",
        "x.nextnode = y\n",
        "y.nextnode = z"
      ],
      "execution_count": 23,
      "outputs": []
    },
    {
      "cell_type": "code",
      "metadata": {
        "id": "4z_544UgpbPF",
        "outputId": "37dc12f4-9be8-4213-b448-62d6bdce0a9b",
        "colab": {
          "base_uri": "https://localhost:8080/",
          "height": 34
        }
      },
      "source": [
        "print(cycle_check(x))"
      ],
      "execution_count": 24,
      "outputs": [
        {
          "output_type": "stream",
          "text": [
            "True\n"
          ],
          "name": "stdout"
        }
      ]
    }
  ]
}
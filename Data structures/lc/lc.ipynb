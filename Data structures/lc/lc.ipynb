{
  "nbformat": 4,
  "nbformat_minor": 0,
  "metadata": {
    "colab": {
      "name": "lc.ipynb",
      "provenance": []
    },
    "kernelspec": {
      "name": "python3",
      "display_name": "Python 3"
    }
  },
  "cells": [
    {
      "cell_type": "markdown",
      "metadata": {
        "id": "JcQjqs3HVWva"
      },
      "source": [
        "1. Percentage of strings in array 1 that appear in array 2."
      ]
    },
    {
      "cell_type": "code",
      "metadata": {
        "id": "h1M8rGQRVUMT",
        "outputId": "db9dd1d2-6bf4-4c3b-b121-63e967011048",
        "colab": {
          "base_uri": "https://localhost:8080/",
          "height": 34
        }
      },
      "source": [
        "def check_common(arr1,arr2):\n",
        "    count=0\n",
        "    for char in arr1:\n",
        "        if char in arr2:\n",
        "            count+=1\n",
        "\n",
        "    print(\" Percentage of a1 elements in a2 is {} %\".format((count/len(arr1)*100)))\n",
        "\n",
        "arr1=['a','b','c','d','a']\n",
        "arr2=['a','b','e','f']\n",
        "\n",
        "check_common(arr1,arr2)"
      ],
      "execution_count": 7,
      "outputs": [
        {
          "output_type": "stream",
          "text": [
            " Percentage of a1 elements in a2 is 60.0 %\n"
          ],
          "name": "stdout"
        }
      ]
    },
    {
      "cell_type": "markdown",
      "metadata": {
        "id": "WQIkGl2uYHRM"
      },
      "source": [
        "2. Given an array, a function to output the ranking of each value in the array. Equal values should have the same ranking. For example: input of [25, 7, 54, 90, 7] should result in [2, 1, 3, 4, 1]."
      ]
    },
    {
      "cell_type": "code",
      "metadata": {
        "id": "M3RtIXHPXkDe",
        "outputId": "9a268fd5-d783-4f72-e4d3-212737ceebea",
        "colab": {
          "base_uri": "https://localhost:8080/",
          "height": 34
        }
      },
      "source": [
        "# without sorting\n",
        "\n",
        "def rankings(arr):\n",
        "    ranking=[0]*len(arr)\n",
        "    rank=0\n",
        "    maximum=max(arr)\n",
        "    tracking=[]\n",
        "    while sum(arr)!=(maximum+1)*len(arr):\n",
        "        minimum=min(arr)\n",
        "        if minimum not in tracking:\n",
        "            rank+=1\n",
        "        ranking[arr.index(minimum)]=rank\n",
        "        tracking.append(minimum)\n",
        "        arr[arr.index(minimum)]=maximum+1\n",
        "    return ranking\n",
        "arr=[25,7,54,90,7]\n",
        "ranking=rankings(arr)\n",
        "print(ranking)"
      ],
      "execution_count": 22,
      "outputs": [
        {
          "output_type": "stream",
          "text": [
            "[2, 1, 3, 4, 1]\n"
          ],
          "name": "stdout"
        }
      ]
    },
    {
      "cell_type": "markdown",
      "metadata": {
        "id": "oCWATC6Nj-Jm"
      },
      "source": [
        "3. Given an array of arrays where each sub-array contains an arbitrary number of random strings, find the strings that occur in every sub-array and return them (the returned result strings must also be in an array). There can be duplicates of the same string in any of the sub-arrays.  "
      ]
    },
    {
      "cell_type": "code",
      "metadata": {
        "id": "A9dGEqV7kA6Z",
        "outputId": "a39a5777-ef04-4881-ae5e-47dda0f2cf41",
        "colab": {
          "base_uri": "https://localhost:8080/",
          "height": 34
        }
      },
      "source": [
        "def common_strings(arr):\n",
        "\n",
        "  if len(arr)==0:\n",
        "    return None\n",
        "  arr1=arr[0]\n",
        "  In_all_arrays=[]\n",
        "  for val in arr1:\n",
        "    count=0\n",
        "    for j in range(1,len(arr)):\n",
        "      if val not in arr[j]:\n",
        "        break;\n",
        "      if val in arr[j]:\n",
        "        count+=1\n",
        "    if count==(len(arr)-1):\n",
        "      In_all_arrays.append(val)\n",
        "  return In_all_arrays\n",
        "\n",
        "arr=[['kannav','T','D'],['kannav','Dhawan','T','K'],['kannav','T','D']]\n",
        "cs=common_strings(arr)\n",
        "print(cs)\n"
      ],
      "execution_count": 3,
      "outputs": [
        {
          "output_type": "stream",
          "text": [
            "['kannav', 'T']\n"
          ],
          "name": "stdout"
        }
      ]
    }
  ]
}
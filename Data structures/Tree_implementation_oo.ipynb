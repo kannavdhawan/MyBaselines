{
  "nbformat": 4,
  "nbformat_minor": 0,
  "metadata": {
    "colab": {
      "name": "Tree implementation oo.ipynb",
      "provenance": [],
      "collapsed_sections": []
    },
    "kernelspec": {
      "name": "python3",
      "display_name": "Python 3"
    }
  },
  "cells": [
    {
      "cell_type": "code",
      "metadata": {
        "id": "sdlnQLUqFrZ9"
      },
      "source": [
        "class BinaryTree(object):\n",
        "    def __init__(self,rootObj):\n",
        "        self.key = rootObj\n",
        "        self.leftChild = None\n",
        "        self.rightChild = None\n",
        "\n",
        "    def insertLeft(self,newNode):\n",
        "        if self.leftChild == None:\n",
        "            self.leftChild = BinaryTree(newNode)\n",
        "        else:\n",
        "            t = BinaryTree(newNode)\n",
        "            t.leftChild = self.leftChild\n",
        "            self.leftChild = t\n",
        "\n",
        "    def insertRight(self,newNode):\n",
        "        if self.rightChild == None:\n",
        "            self.rightChild = BinaryTree(newNode)\n",
        "        else:\n",
        "            t = BinaryTree(newNode)\n",
        "            t.rightChild = self.rightChild\n",
        "            self.rightChild = t\n",
        "\n",
        "\n",
        "    def getRightChild(self):\n",
        "        return self.rightChild\n",
        "\n",
        "    def getLeftChild(self):\n",
        "        return self.leftChild\n",
        "\n",
        "    def setRootVal(self,obj):\n",
        "        self.key = obj\n",
        "\n",
        "    def getRootVal(self):\n",
        "        return self.key"
      ],
      "execution_count": 1,
      "outputs": []
    },
    {
      "cell_type": "code",
      "metadata": {
        "id": "fOhjGkdsOFG7",
        "outputId": "45f7df5f-5d0b-486e-9923-d036bfcc6a52",
        "colab": {
          "base_uri": "https://localhost:8080/",
          "height": 136
        }
      },
      "source": [
        "r = BinaryTree('a')\n",
        "print(r.getRootVal())\n",
        "print(r.getLeftChild())\n",
        "r.insertLeft('b')\n",
        "print(r.getLeftChild())\n",
        "print(r.getLeftChild().getRootVal())\n",
        "r.insertRight('c')\n",
        "print(r.getRightChild())\n",
        "print(r.getRightChild().getRootVal())\n",
        "r.getRightChild().setRootVal('hello')\n",
        "print(r.getRightChild().getRootVal())"
      ],
      "execution_count": 2,
      "outputs": [
        {
          "output_type": "stream",
          "text": [
            "a\n",
            "None\n",
            "<__main__.BinaryTree object at 0x7f50df3299e8>\n",
            "b\n",
            "<__main__.BinaryTree object at 0x7f50df329a58>\n",
            "c\n",
            "hello\n"
          ],
          "name": "stdout"
        }
      ]
    }
  ]
}
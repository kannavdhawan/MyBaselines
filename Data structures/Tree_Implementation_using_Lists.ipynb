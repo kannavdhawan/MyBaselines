{
  "nbformat": 4,
  "nbformat_minor": 0,
  "metadata": {
    "colab": {
      "name": "Tree Implementation using Lists.ipynb",
      "provenance": [],
      "collapsed_sections": []
    },
    "kernelspec": {
      "name": "python3",
      "display_name": "Python 3"
    }
  },
  "cells": [
    {
      "cell_type": "code",
      "metadata": {
        "id": "q8TMap0mwjTP"
      },
      "source": [
        "def BinaryTree(r):\n",
        "    return [r, [], []]\n",
        "\n",
        "def insertLeft(root,newBranch):\n",
        "    t = root.pop(1)\n",
        "    if len(t) > 1:\n",
        "        root.insert(1,[newBranch,t,[]])\n",
        "    else:\n",
        "        root.insert(1,[newBranch, [], []])\n",
        "    return root\n",
        "\n",
        "def insertRight(root,newBranch):\n",
        "    t = root.pop(2)\n",
        "    if len(t) > 1:\n",
        "        root.insert(2,[newBranch,[],t])\n",
        "    else:\n",
        "        root.insert(2,[newBranch,[],[]])\n",
        "    return root\n",
        "\n",
        "def getRootVal(root):\n",
        "    return root[0]\n",
        "\n",
        "def setRootVal(root,newVal):\n",
        "    root[0] = newVal\n",
        "\n",
        "def getLeftChild(root):\n",
        "    return root[1]\n",
        "\n",
        "def getRightChild(root):\n",
        "    return root[2]"
      ],
      "execution_count": 5,
      "outputs": []
    },
    {
      "cell_type": "code",
      "metadata": {
        "id": "CR5iWXXF7rl_"
      },
      "source": [
        "r=BinaryTree(3)"
      ],
      "execution_count": 6,
      "outputs": []
    },
    {
      "cell_type": "code",
      "metadata": {
        "id": "-72rTcxc8kip",
        "outputId": "dcc07f86-fa24-4e1b-809f-af6b30b09308",
        "colab": {
          "base_uri": "https://localhost:8080/",
          "height": 34
        }
      },
      "source": [
        "r"
      ],
      "execution_count": 7,
      "outputs": [
        {
          "output_type": "execute_result",
          "data": {
            "text/plain": [
              "[3, [], []]"
            ]
          },
          "metadata": {
            "tags": []
          },
          "execution_count": 7
        }
      ]
    },
    {
      "cell_type": "code",
      "metadata": {
        "id": "T2oPh7Lm7_qu",
        "outputId": "3264efbd-a3a3-489b-eed9-8625537ebdaa",
        "colab": {
          "base_uri": "https://localhost:8080/",
          "height": 34
        }
      },
      "source": [
        "insertLeft(r,4)"
      ],
      "execution_count": 8,
      "outputs": [
        {
          "output_type": "execute_result",
          "data": {
            "text/plain": [
              "[3, [4, [], []], []]"
            ]
          },
          "metadata": {
            "tags": []
          },
          "execution_count": 8
        }
      ]
    },
    {
      "cell_type": "code",
      "metadata": {
        "id": "sKgnugcd8aLc",
        "outputId": "d41c05b3-4b69-4a16-919d-a5ddceb35aac",
        "colab": {
          "base_uri": "https://localhost:8080/",
          "height": 34
        }
      },
      "source": [
        "insertLeft(r,5)"
      ],
      "execution_count": 9,
      "outputs": [
        {
          "output_type": "execute_result",
          "data": {
            "text/plain": [
              "[3, [5, [4, [], []], []], []]"
            ]
          },
          "metadata": {
            "tags": []
          },
          "execution_count": 9
        }
      ]
    },
    {
      "cell_type": "code",
      "metadata": {
        "id": "UptjzNvG_O9G",
        "outputId": "9b13a18b-575a-4474-987d-0b5683169dcd",
        "colab": {
          "base_uri": "https://localhost:8080/",
          "height": 34
        }
      },
      "source": [
        "insertRight(r,6)"
      ],
      "execution_count": 10,
      "outputs": [
        {
          "output_type": "execute_result",
          "data": {
            "text/plain": [
              "[3, [5, [4, [], []], []], [6, [], []]]"
            ]
          },
          "metadata": {
            "tags": []
          },
          "execution_count": 10
        }
      ]
    },
    {
      "cell_type": "code",
      "metadata": {
        "id": "1FL9WiUR_bsz",
        "outputId": "5212eb3e-c2b5-4a2f-caca-77b13a62818f",
        "colab": {
          "base_uri": "https://localhost:8080/",
          "height": 34
        }
      },
      "source": [
        "insertRight(r,7)"
      ],
      "execution_count": 11,
      "outputs": [
        {
          "output_type": "execute_result",
          "data": {
            "text/plain": [
              "[3, [5, [4, [], []], []], [7, [], [6, [], []]]]"
            ]
          },
          "metadata": {
            "tags": []
          },
          "execution_count": 11
        }
      ]
    },
    {
      "cell_type": "code",
      "metadata": {
        "id": "n895Wb45_fWp",
        "outputId": "9f77bffc-3a75-4392-d991-bf221dd1a5bf",
        "colab": {
          "base_uri": "https://localhost:8080/",
          "height": 34
        }
      },
      "source": [
        "getRootVal(r)"
      ],
      "execution_count": 12,
      "outputs": [
        {
          "output_type": "execute_result",
          "data": {
            "text/plain": [
              "3"
            ]
          },
          "metadata": {
            "tags": []
          },
          "execution_count": 12
        }
      ]
    },
    {
      "cell_type": "code",
      "metadata": {
        "id": "8akbJ_hx_s5u"
      },
      "source": [
        "setRootVal(r,9)"
      ],
      "execution_count": 13,
      "outputs": []
    },
    {
      "cell_type": "code",
      "metadata": {
        "id": "4EMuPxgc_yJr",
        "outputId": "35195ebf-1074-439c-ae25-7ad91678889a",
        "colab": {
          "base_uri": "https://localhost:8080/",
          "height": 34
        }
      },
      "source": [
        "getRootVal(r)"
      ],
      "execution_count": 14,
      "outputs": [
        {
          "output_type": "execute_result",
          "data": {
            "text/plain": [
              "9"
            ]
          },
          "metadata": {
            "tags": []
          },
          "execution_count": 14
        }
      ]
    },
    {
      "cell_type": "code",
      "metadata": {
        "id": "6lCVum3P_0EC",
        "outputId": "32dc9dae-b15e-43cb-c417-fd9f619da0b4",
        "colab": {
          "base_uri": "https://localhost:8080/",
          "height": 34
        }
      },
      "source": [
        "getLeftChild(r)"
      ],
      "execution_count": 15,
      "outputs": [
        {
          "output_type": "execute_result",
          "data": {
            "text/plain": [
              "[5, [4, [], []], []]"
            ]
          },
          "metadata": {
            "tags": []
          },
          "execution_count": 15
        }
      ]
    },
    {
      "cell_type": "code",
      "metadata": {
        "id": "pDy2KkCm_9Fa",
        "outputId": "f243517d-7515-4361-95e5-b964dc98d761",
        "colab": {
          "base_uri": "https://localhost:8080/",
          "height": 34
        }
      },
      "source": [
        "getRightChild(r)"
      ],
      "execution_count": 16,
      "outputs": [
        {
          "output_type": "execute_result",
          "data": {
            "text/plain": [
              "[7, [], [6, [], []]]"
            ]
          },
          "metadata": {
            "tags": []
          },
          "execution_count": 16
        }
      ]
    }
  ]
}
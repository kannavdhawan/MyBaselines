{
  "nbformat": 4,
  "nbformat_minor": 0,
  "metadata": {
    "kernelspec": {
      "name": "python3",
      "display_name": "Python 3",
      "language": "python"
    },
    "language_info": {
      "name": "python",
      "version": "3.7.6",
      "mimetype": "text/x-python",
      "codemirror_mode": {
        "name": "ipython",
        "version": 3
      },
      "pygments_lexer": "ipython3",
      "nbconvert_exporter": "python",
      "file_extension": ".py"
    },
    "colab": {
      "name": "Reverse_Linked_List",
      "provenance": []
    }
  },
  "cells": [
    {
      "cell_type": "code",
      "metadata": {
        "id": "7eBcT6pkvP3P"
      },
      "source": [
        "class Node(object):\n",
        "    def __init__(self,value):\n",
        "        self.value = value\n",
        "        self.nextnode = None"
      ],
      "execution_count": 60,
      "outputs": []
    },
    {
      "cell_type": "code",
      "metadata": {
        "id": "aLD4vpeovT9T"
      },
      "source": [
        "def reverse(head):\n",
        "    real_head=head\n",
        "    head_list=[head]\n",
        "    while head.nextnode!=None:\n",
        "        head=head.nextnode\n",
        "        head_list.append(head) #[abcd]\n",
        "\n",
        "    new_node=head_list.pop()    \n",
        "    \n",
        "    while len(head_list)!=0:\n",
        "        \n",
        "        new_node.nextnode=head_list.pop()\n",
        "        new_node=new_node.nextnode\n",
        "        if new_node==real_head:\n",
        "            new_node.nextnode=None\n",
        "    "
      ],
      "execution_count": 68,
      "outputs": []
    },
    {
      "cell_type": "code",
      "metadata": {
        "id": "ST2T0FEQvUAK"
      },
      "source": [
        "# Create a list of 4 nodes\n",
        "a = Node(1)\n",
        "b = Node(2)\n",
        "c = Node(3)\n",
        "d = Node(4)\n",
        "\n",
        "# Set up order a,b,c,d with values 1,2,3,4\n",
        "a.nextnode = b\n",
        "b.nextnode = c\n",
        "c.nextnode = d"
      ],
      "execution_count": 69,
      "outputs": []
    },
    {
      "cell_type": "code",
      "metadata": {
        "id": "ZK6bjYyVvZ_T",
        "outputId": "02004027-512b-464d-b7f9-57d6ead9d6db",
        "colab": {
          "base_uri": "https://localhost:8080/",
          "height": 68
        }
      },
      "source": [
        "print(a.nextnode.value)\n",
        "print(b.nextnode.value)\n",
        "print(c.nextnode.value)"
      ],
      "execution_count": 70,
      "outputs": [
        {
          "output_type": "stream",
          "text": [
            "2\n",
            "3\n",
            "4\n"
          ],
          "name": "stdout"
        }
      ]
    },
    {
      "cell_type": "code",
      "metadata": {
        "id": "cjObyAnhvaCQ",
        "outputId": "2e05bf65-2195-4f57-c683-6b0c44cb4cd7",
        "colab": {
          "base_uri": "https://localhost:8080/",
          "height": 34
        }
      },
      "source": [
        "try:\n",
        "  print(d.nextnode.value)\n",
        "except:\n",
        "   print(\"Next node is NoneType\")"
      ],
      "execution_count": 71,
      "outputs": [
        {
          "output_type": "stream",
          "text": [
            "Next node is NoneType\n"
          ],
          "name": "stdout"
        }
      ]
    },
    {
      "cell_type": "code",
      "metadata": {
        "id": "9FYr7m2zveRu"
      },
      "source": [
        "reverse(a)"
      ],
      "execution_count": 72,
      "outputs": []
    },
    {
      "cell_type": "code",
      "metadata": {
        "id": "MCl34LXYveU9",
        "outputId": "533b63a5-3abe-4d14-fb5b-2ed1b8d8b3ec",
        "colab": {
          "base_uri": "https://localhost:8080/",
          "height": 68
        }
      },
      "source": [
        "print(d.nextnode.value)\n",
        "print(c.nextnode.value)\n",
        "print(b.nextnode.value)"
      ],
      "execution_count": 73,
      "outputs": [
        {
          "output_type": "stream",
          "text": [
            "3\n",
            "2\n",
            "1\n"
          ],
          "name": "stdout"
        }
      ]
    },
    {
      "cell_type": "code",
      "metadata": {
        "id": "w4Q6MF5dveag",
        "outputId": "7d85bf7a-33c2-4229-b48b-73f3ed0eac09",
        "colab": {
          "base_uri": "https://localhost:8080/",
          "height": 34
        }
      },
      "source": [
        "try:\n",
        "  print(a.nextnode.value)\n",
        "except:\n",
        "   print(\"Next node is NoneType\")"
      ],
      "execution_count": 74,
      "outputs": [
        {
          "output_type": "stream",
          "text": [
            "Next node is NoneType\n"
          ],
          "name": "stdout"
        }
      ]
    }
  ]
}
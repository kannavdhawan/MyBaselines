{
  "nbformat": 4,
  "nbformat_minor": 0,
  "metadata": {
    "colab": {
      "name": "Recursion_base.ipynb",
      "provenance": [],
      "collapsed_sections": []
    },
    "kernelspec": {
      "name": "python3",
      "display_name": "Python 3"
    }
  },
  "cells": [
    {
      "cell_type": "markdown",
      "metadata": {
        "id": "ZKRspLQ0pwBi"
      },
      "source": [
        "### Base"
      ]
    },
    {
      "cell_type": "code",
      "metadata": {
        "id": "5ZDTIKKPTlkf"
      },
      "source": [
        "def fact(n):\n",
        "    '''\n",
        "    Returns factorial of n (n!).\n",
        "    '''\n",
        "    # BASE CASE!\n",
        "    if n == 0:\n",
        "        return 1\n",
        "    \n",
        "    # Recursion!\n",
        "    else:\n",
        "        return n * fact(n-1)"
      ],
      "execution_count": 56,
      "outputs": []
    },
    {
      "cell_type": "code",
      "metadata": {
        "id": "cqc_l0y1ppp1",
        "outputId": "f2afebca-3576-4d42-b087-8022de661140",
        "colab": {
          "base_uri": "https://localhost:8080/",
          "height": 34
        }
      },
      "source": [
        "fact(5)"
      ],
      "execution_count": 57,
      "outputs": [
        {
          "output_type": "execute_result",
          "data": {
            "text/plain": [
              "120"
            ]
          },
          "metadata": {
            "tags": []
          },
          "execution_count": 57
        }
      ]
    },
    {
      "cell_type": "markdown",
      "metadata": {
        "id": "NjWuGunU6f9W"
      },
      "source": [
        "### Memoization"
      ]
    },
    {
      "cell_type": "code",
      "metadata": {
        "id": "nmdA4tlk6kCU"
      },
      "source": [
        "# Create cache for known results\n",
        "factorial_memo = {}\n",
        "\n",
        "def factorial(k):\n",
        "    \n",
        "    if k < 2: \n",
        "        return 1\n",
        "    \n",
        "    if not k in factorial_memo:\n",
        "        factorial_memo[k] = k * factorial(k-1)\n",
        "        \n",
        "    return factorial_memo[k]"
      ],
      "execution_count": 58,
      "outputs": []
    },
    {
      "cell_type": "code",
      "metadata": {
        "id": "d0JR8GoS9yiO",
        "outputId": "9848f5a0-0b22-47fb-fbfe-ae10a3516974",
        "colab": {
          "base_uri": "https://localhost:8080/",
          "height": 34
        }
      },
      "source": [
        "factorial(4)\n"
      ],
      "execution_count": 59,
      "outputs": [
        {
          "output_type": "execute_result",
          "data": {
            "text/plain": [
              "24"
            ]
          },
          "metadata": {
            "tags": []
          },
          "execution_count": 59
        }
      ]
    },
    {
      "cell_type": "code",
      "metadata": {
        "id": "Kmk6bBN49yot",
        "outputId": "9390d821-bc97-4175-bc8d-7a8b472137e0",
        "colab": {
          "base_uri": "https://localhost:8080/",
          "height": 34
        }
      },
      "source": [
        "factorial_memo"
      ],
      "execution_count": 60,
      "outputs": [
        {
          "output_type": "execute_result",
          "data": {
            "text/plain": [
              "{2: 2, 3: 6, 4: 24}"
            ]
          },
          "metadata": {
            "tags": []
          },
          "execution_count": 60
        }
      ]
    },
    {
      "cell_type": "code",
      "metadata": {
        "id": "Hd9khVl19yvF"
      },
      "source": [
        "class Memoize:\n",
        "    def __init__(self, f):\n",
        "        self.f = f\n",
        "        self.memo = {}\n",
        "    def __call__(self, *args):\n",
        "        if not args in self.memo:\n",
        "            self.memo[args] = self.f(*args)\n",
        "        return self.memo[args]\n",
        "    def factorial(self):\n",
        "\n",
        "      if self.f < 2: \n",
        "          return 1\n",
        "\n",
        "      return self.f * factorial(self.f - 1)"
      ],
      "execution_count": 61,
      "outputs": []
    },
    {
      "cell_type": "code",
      "metadata": {
        "id": "YxVaUPbc-qkh",
        "outputId": "31a0b661-35b1-4050-a817-568770e2216d",
        "colab": {
          "base_uri": "https://localhost:8080/",
          "height": 34
        }
      },
      "source": [
        "m1 = Memoize(4)\n",
        "m1.factorial()\n"
      ],
      "execution_count": 62,
      "outputs": [
        {
          "output_type": "execute_result",
          "data": {
            "text/plain": [
              "24"
            ]
          },
          "metadata": {
            "tags": []
          },
          "execution_count": 62
        }
      ]
    },
    {
      "cell_type": "markdown",
      "metadata": {
        "id": "WSdTPySUp3XM"
      },
      "source": [
        "1. Recursive function which takes an integer and computes the cumulative sum of 0 to that integer.\n",
        "For example, n=4 , returns 10.\n",
        "\n",
        "\n"
      ]
    },
    {
      "cell_type": "code",
      "metadata": {
        "id": "uMABteJXpq3q"
      },
      "source": [
        "def cum_sum(n):\n",
        "  # Base case\n",
        "  if n == 1:\n",
        "    return 1\n",
        "  else:\n",
        "    return n + cum_sum(n-1)\n"
      ],
      "execution_count": 63,
      "outputs": []
    },
    {
      "cell_type": "code",
      "metadata": {
        "id": "mwgRT__drVPv",
        "outputId": "c60882a4-4c31-4ea8-c939-e23c002f2f2c",
        "colab": {
          "base_uri": "https://localhost:8080/",
          "height": 34
        }
      },
      "source": [
        "print(cum_sum(4))"
      ],
      "execution_count": 64,
      "outputs": [
        {
          "output_type": "stream",
          "text": [
            "10\n"
          ],
          "name": "stdout"
        }
      ]
    },
    {
      "cell_type": "markdown",
      "metadata": {
        "id": "xy6JfMu5rc1U"
      },
      "source": [
        "2. Function which returns the sum of all the individual digits in that integer. For example: if n = 4321, return 4+3+2+1.\n"
      ]
    },
    {
      "cell_type": "code",
      "metadata": {
        "id": "Bu4ZGRY1rY69"
      },
      "source": [
        "def ind_sum(n):\n",
        "  \n",
        "  if n<10:\n",
        "    return n\n",
        "    \n",
        "  else:\n",
        "    x=n%10\n",
        "    return x + ind_sum(n//10)"
      ],
      "execution_count": 65,
      "outputs": []
    },
    {
      "cell_type": "code",
      "metadata": {
        "id": "58bbQUIMsHo3",
        "outputId": "766cb150-e842-4cff-f60d-9b20e451354f",
        "colab": {
          "base_uri": "https://localhost:8080/",
          "height": 34
        }
      },
      "source": [
        "ind_sum(4321)"
      ],
      "execution_count": 66,
      "outputs": [
        {
          "output_type": "execute_result",
          "data": {
            "text/plain": [
              "10"
            ]
          },
          "metadata": {
            "tags": []
          },
          "execution_count": 66
        }
      ]
    },
    {
      "cell_type": "markdown",
      "metadata": {
        "id": "sZ63RMoyuOfb"
      },
      "source": [
        "3. Function word_split() takes in a string phrase and a set list_of_words. The function will then determine if it is possible to split the string in a way such that all the splitted words are present in the list. If not, return an empty list."
      ]
    },
    {
      "cell_type": "code",
      "metadata": {
        "id": "7mVvGFPtuNnE"
      },
      "source": [
        "def word_split(phrase,list_of_words, output = None):\n",
        "    # Checks to see if any output has been initiated.\n",
        "    # If we default output=[], it would be overwritten for every recursion!\n",
        "    if output is None:\n",
        "        output = []\n",
        "    \n",
        "    # For every word in list\n",
        "    for word in list_of_words:\n",
        "        \n",
        "        # If the current phrase begins with the word, we have a split point!\n",
        "        if phrase.startswith(word):\n",
        "            \n",
        "            # Add the word to the output\n",
        "            output.append(word)\n",
        "            \n",
        "            # Recursively call the split function on the remaining portion of the phrase--- phrase[len(word):]\n",
        "            # Remember to pass along the output and list of words\n",
        "            return word_split(phrase[len(word):],list_of_words,output)\n",
        "    \n",
        "    # Finally return output if no phrase.startswith(word) returns True\n",
        "    return output   "
      ],
      "execution_count": 67,
      "outputs": []
    },
    {
      "cell_type": "code",
      "metadata": {
        "id": "QMmH1wQJwyjJ",
        "outputId": "195f85c9-e184-4327-904d-7877b5f38d3f",
        "colab": {
          "base_uri": "https://localhost:8080/",
          "height": 34
        }
      },
      "source": [
        "word_split('themanran',['the','ran','man'])\n"
      ],
      "execution_count": 68,
      "outputs": [
        {
          "output_type": "execute_result",
          "data": {
            "text/plain": [
              "['the', 'man', 'ran']"
            ]
          },
          "metadata": {
            "tags": []
          },
          "execution_count": 68
        }
      ]
    },
    {
      "cell_type": "code",
      "metadata": {
        "id": "psQc_jqKwzDi",
        "outputId": "d2417929-c05d-41dc-c2c5-2253c63b735e",
        "colab": {
          "base_uri": "https://localhost:8080/",
          "height": 34
        }
      },
      "source": [
        "word_split('ilovedogsJohn',['i','am','a','dogs','lover','love','John'])\n"
      ],
      "execution_count": 69,
      "outputs": [
        {
          "output_type": "execute_result",
          "data": {
            "text/plain": [
              "['i', 'love', 'dogs', 'John']"
            ]
          },
          "metadata": {
            "tags": []
          },
          "execution_count": 69
        }
      ]
    },
    {
      "cell_type": "code",
      "metadata": {
        "id": "0skKsKE1w0fV",
        "outputId": "4d853b72-1439-4ec4-89b6-88514f724213",
        "colab": {
          "base_uri": "https://localhost:8080/",
          "height": 34
        }
      },
      "source": [
        "word_split('themanran',['clown','ran','man'])\n"
      ],
      "execution_count": 70,
      "outputs": [
        {
          "output_type": "execute_result",
          "data": {
            "text/plain": [
              "[]"
            ]
          },
          "metadata": {
            "tags": []
          },
          "execution_count": 70
        }
      ]
    }
  ]
}
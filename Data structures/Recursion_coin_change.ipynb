{
  "nbformat": 4,
  "nbformat_minor": 0,
  "metadata": {
    "colab": {
      "name": "Recursion coin change.ipynb",
      "provenance": [],
      "collapsed_sections": []
    },
    "kernelspec": {
      "name": "python3",
      "display_name": "Python 3"
    }
  },
  "cells": [
    {
      "cell_type": "code",
      "metadata": {
        "id": "amTz22eXz-Mf"
      },
      "source": [
        "def rec_coin_dynam(target,coins,known_results):\n",
        "\n",
        "    # Default output to target\n",
        "    min_coins = target\n",
        "    \n",
        "    # Base Case\n",
        "    if target in coins:\n",
        "        known_results[target] = 1\n",
        "        return 1\n",
        "    \n",
        "    # Return a known result if it happens to be greater than 1\n",
        "    elif known_results[target] > 0:\n",
        "        return known_results[target]\n",
        "    \n",
        "    else:\n",
        "        # for every coin value that is <= than target\n",
        "        for i in [c for c in coins if c <= target]:\n",
        "            \n",
        "            # Recursive call, note how we include the known results!\n",
        "            num_coins = 1 + rec_coin_dynam(target-i,coins,known_results)\n",
        "            \n",
        "            # Reset Minimum if we have a new minimum\n",
        "            if num_coins < min_coins:\n",
        "                min_coins = num_coins\n",
        "                \n",
        "                # Reset the known result\n",
        "                known_results[target] = min_coins\n",
        "                \n",
        "    return min_coins"
      ],
      "execution_count": 1,
      "outputs": []
    },
    {
      "cell_type": "code",
      "metadata": {
        "id": "dXf7rC3z-UAH",
        "outputId": "a058bd0f-66aa-4e94-c7ba-c45a8fe10a25",
        "colab": {
          "base_uri": "https://localhost:8080/",
          "height": 34
        }
      },
      "source": [
        "target = 74\n",
        "coins = [1,5,10,25]\n",
        "known_results = [0]*(target+1)\n",
        "\n",
        "rec_coin_dynam(target,coins,known_results)"
      ],
      "execution_count": 2,
      "outputs": [
        {
          "output_type": "execute_result",
          "data": {
            "text/plain": [
              "8"
            ]
          },
          "metadata": {
            "tags": []
          },
          "execution_count": 2
        }
      ]
    }
  ]
}
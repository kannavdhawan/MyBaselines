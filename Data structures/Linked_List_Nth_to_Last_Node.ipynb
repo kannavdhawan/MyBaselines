{
  "nbformat": 4,
  "nbformat_minor": 0,
  "metadata": {
    "colab": {
      "name": "Linked List Nth to Last Node.ipynb",
      "provenance": [],
      "collapsed_sections": []
    },
    "kernelspec": {
      "name": "python3",
      "display_name": "Python 3"
    }
  },
  "cells": [
    {
      "cell_type": "code",
      "metadata": {
        "id": "mZJlUS1OOcJz"
      },
      "source": [
        "class Node:\n",
        "  def __init__(self,value):\n",
        "    self.value=value\n",
        "    self.nextnode=None\n",
        "    # self.last=None"
      ],
      "execution_count": 9,
      "outputs": []
    },
    {
      "cell_type": "code",
      "metadata": {
        "id": "b7X72QMSPDzG"
      },
      "source": [
        "def nth_to_last_node(position,head):\n",
        "  list_nodes=[head]\n",
        "  while head.nextnode!=None:\n",
        "    list_nodes.append(head.nextnode)\n",
        "    head=head.nextnode\n",
        "\n",
        "  nth_last=list_nodes[::-1][position-1]\n",
        "  return nth_last.value"
      ],
      "execution_count": 10,
      "outputs": []
    },
    {
      "cell_type": "code",
      "metadata": {
        "id": "yGWe8OpgO2Xh",
        "outputId": "2239c10f-efef-43c1-8533-74881da3ce66",
        "colab": {
          "base_uri": "https://localhost:8080/",
          "height": 34
        }
      },
      "source": [
        "a = Node(1)\n",
        "b = Node(2)\n",
        "c = Node(3)\n",
        "d = Node(4)\n",
        "e = Node(5)\n",
        "\n",
        "a.nextnode = b\n",
        "b.nextnode = c\n",
        "c.nextnode = d\n",
        "d.nextnode = e\n",
        "\n",
        "# This would return the node d with a value of 4, because its the 2nd to last node.\n",
        "target_node = nth_to_last_node(2, a) \n",
        "print(target_node)"
      ],
      "execution_count": 12,
      "outputs": [
        {
          "output_type": "stream",
          "text": [
            "4\n"
          ],
          "name": "stdout"
        }
      ]
    },
    {
      "cell_type": "code",
      "metadata": {
        "id": "pM3zSGTwRloI",
        "outputId": "5f3fbb86-a1d1-4f97-8162-60c1394f90f8",
        "colab": {
          "base_uri": "https://localhost:8080/",
          "height": 34
        }
      },
      "source": [
        "from nose.tools import assert_equal\n",
        "\n",
        "a = Node(1)\n",
        "b = Node(2)\n",
        "c = Node(3)\n",
        "d = Node(4)\n",
        "e = Node(5)\n",
        "\n",
        "a.nextnode = b\n",
        "b.nextnode = c\n",
        "c.nextnode = d\n",
        "d.nextnode = e\n",
        "\n",
        "####\n",
        "\n",
        "class TestNLast(object):\n",
        "    \n",
        "    def test(self,sol):\n",
        "        \n",
        "        assert_equal(sol(3,a),c.value)\n",
        "        print('ALL TEST CASES PASSED')\n",
        "        \n",
        "# Run tests\n",
        "t = TestNLast()\n",
        "t.test(nth_to_last_node)"
      ],
      "execution_count": 18,
      "outputs": [
        {
          "output_type": "stream",
          "text": [
            "ALL TEST CASES PASSED\n"
          ],
          "name": "stdout"
        }
      ]
    }
  ]
}
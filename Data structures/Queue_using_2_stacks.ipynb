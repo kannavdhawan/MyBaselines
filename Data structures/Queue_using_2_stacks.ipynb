{
  "nbformat": 4,
  "nbformat_minor": 0,
  "metadata": {
    "kernelspec": {
      "name": "python3",
      "display_name": "Python 3",
      "language": "python"
    },
    "language_info": {
      "name": "python",
      "version": "3.7.6",
      "mimetype": "text/x-python",
      "codemirror_mode": {
        "name": "ipython",
        "version": 3
      },
      "pygments_lexer": "ipython3",
      "nbconvert_exporter": "python",
      "file_extension": ".py"
    },
    "colab": {
      "name": "Queue_using_2_stacks",
      "provenance": []
    }
  },
  "cells": [
    {
      "cell_type": "code",
      "metadata": {
        "id": "8ymmoeIioHXE"
      },
      "source": [
        "class Queue2Stacks(object):\n",
        "    \n",
        "    def __init__(self):\n",
        "        \n",
        "        # Two Stacks\n",
        "        self.instack = []\n",
        "        self.outstack = []\n",
        "     \n",
        "    def enqueue(self,element):\n",
        "        \n",
        "        # Add an enqueue with the \"IN\" stack\n",
        "        self.instack.append(element)\n",
        "    \n",
        "    def dequeue(self):\n",
        "        if not self.outstack:\n",
        "            while self.instack:\n",
        "                # Add the elements to the outstack to reverse the order when called\n",
        "                self.outstack.append(self.instack.pop())\n",
        "        return self.outstack.pop()  \n",
        "    "
      ],
      "execution_count": 18,
      "outputs": []
    },
    {
      "cell_type": "code",
      "metadata": {
        "id": "4MR47l2jtouo"
      },
      "source": [
        "Queue=Queue2Stacks()"
      ],
      "execution_count": 19,
      "outputs": []
    },
    {
      "cell_type": "code",
      "metadata": {
        "id": "EijkDbpmtsfG"
      },
      "source": [
        "Queue.enqueue(1)\n",
        "Queue.enqueue(2)\n",
        "Queue.enqueue(3)\n",
        "Queue.enqueue(4)"
      ],
      "execution_count": 20,
      "outputs": []
    },
    {
      "cell_type": "code",
      "metadata": {
        "id": "Xy9HyD7qtuzQ",
        "outputId": "43335632-cfe3-48db-de10-5c1fec3c7292",
        "colab": {
          "base_uri": "https://localhost:8080/",
          "height": 34
        }
      },
      "source": [
        "Queue.dequeue()"
      ],
      "execution_count": 21,
      "outputs": [
        {
          "output_type": "execute_result",
          "data": {
            "text/plain": [
              "1"
            ]
          },
          "metadata": {
            "tags": []
          },
          "execution_count": 21
        }
      ]
    },
    {
      "cell_type": "code",
      "metadata": {
        "id": "pN8rmXBrt8Uf"
      },
      "source": [
        "Queue.enqueue(5)"
      ],
      "execution_count": 22,
      "outputs": []
    },
    {
      "cell_type": "code",
      "metadata": {
        "id": "xWWb-ToUuKvl",
        "outputId": "1bbcb33c-b94d-4c2e-8b26-7a1a0ccb2c33",
        "colab": {
          "base_uri": "https://localhost:8080/",
          "height": 85
        }
      },
      "source": [
        "print(Queue.dequeue())\n",
        "print(Queue.dequeue())\n",
        "print(Queue.dequeue())\n",
        "print(Queue.dequeue())"
      ],
      "execution_count": 23,
      "outputs": [
        {
          "output_type": "stream",
          "text": [
            "2\n",
            "3\n",
            "4\n",
            "5\n"
          ],
          "name": "stdout"
        }
      ]
    }
  ]
}
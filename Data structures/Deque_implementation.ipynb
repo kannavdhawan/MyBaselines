{
  "nbformat": 4,
  "nbformat_minor": 0,
  "metadata": {
    "kernelspec": {
      "display_name": "Python 2",
      "language": "python",
      "name": "python2"
    },
    "language_info": {
      "codemirror_mode": {
        "name": "ipython",
        "version": 2
      },
      "file_extension": ".py",
      "mimetype": "text/x-python",
      "name": "python",
      "nbconvert_exporter": "python",
      "pygments_lexer": "ipython2",
      "version": "2.7.10"
    },
    "colab": {
      "name": "Deque_implementation.ipynb",
      "provenance": [],
      "collapsed_sections": []
    }
  },
  "cells": [
    {
      "cell_type": "markdown",
      "metadata": {
        "id": "JLnvht4n45lu"
      },
      "source": [
        "# Implementation of Deque\n",
        "\n",
        "\n",
        "## Methods and Attributes\n",
        "\n",
        "* Deque() creates a new deque that is empty. It needs no parameters and returns an empty deque.\n",
        "* addFront(item) adds a new item to the front of the deque. It needs the item and returns nothing.\n",
        "* addRear(item) adds a new item to the rear of the deque. It needs the item and returns nothing.\n",
        "* removeFront() removes the front item from the deque. It needs no parameters and returns the item. The deque is modified.\n",
        "* removeRear() removes the rear item from the deque. It needs no parameters and returns the item. The deque is modified.\n",
        "* isEmpty() tests to see whether the deque is empty. It needs no parameters and returns a boolean value.\n",
        "* size() returns the number of items in the deque. It needs no parameters and returns an integer.\n",
        "\n"
      ]
    },
    {
      "cell_type": "code",
      "metadata": {
        "id": "_G9ecgfk45lv"
      },
      "source": [
        "class Deque:\n",
        "    def __init__(self):\n",
        "        self.items = []\n",
        "\n",
        "    def isEmpty(self):\n",
        "        return self.items == []\n",
        "\n",
        "    def addFront(self, item):\n",
        "        self.items.append(item)\n",
        "\n",
        "    def addRear(self, item):\n",
        "        self.items.insert(0,item)\n",
        "\n",
        "    def removeFront(self):\n",
        "        return self.items.pop()\n",
        "\n",
        "    def removeRear(self):\n",
        "        return self.items.pop(0)\n",
        "\n",
        "    def size(self):\n",
        "        return len(self.items)"
      ],
      "execution_count": null,
      "outputs": []
    },
    {
      "cell_type": "code",
      "metadata": {
        "id": "xOZoZn6L45ly"
      },
      "source": [
        "d = Deque()"
      ],
      "execution_count": null,
      "outputs": []
    },
    {
      "cell_type": "code",
      "metadata": {
        "id": "QMPgEs1O45l1"
      },
      "source": [
        "d.addFront('hello')"
      ],
      "execution_count": null,
      "outputs": []
    },
    {
      "cell_type": "code",
      "metadata": {
        "id": "EjFrwiW-45l4"
      },
      "source": [
        "d.addRear('world')"
      ],
      "execution_count": null,
      "outputs": []
    },
    {
      "cell_type": "code",
      "metadata": {
        "id": "ANS90OF-45l6",
        "outputId": "f8a7f40b-46c4-4fa3-c4c7-b76f7c691190"
      },
      "source": [
        "d.size()"
      ],
      "execution_count": null,
      "outputs": [
        {
          "output_type": "execute_result",
          "data": {
            "text/plain": [
              "2"
            ]
          },
          "metadata": {
            "tags": []
          },
          "execution_count": 13
        }
      ]
    },
    {
      "cell_type": "code",
      "metadata": {
        "id": "q3YAQA0o45l9",
        "outputId": "5a03c637-b5bf-4e09-d190-3e36203b9d1f"
      },
      "source": [
        "print d.removeFront() + ' ' +  d.removeRear()"
      ],
      "execution_count": null,
      "outputs": [
        {
          "output_type": "stream",
          "text": [
            "hello world\n"
          ],
          "name": "stdout"
        }
      ]
    },
    {
      "cell_type": "code",
      "metadata": {
        "id": "sokRl_s-45l_",
        "outputId": "d372a2a2-66e4-4786-9303-f5b07238679c"
      },
      "source": [
        "d.size()"
      ],
      "execution_count": null,
      "outputs": [
        {
          "output_type": "execute_result",
          "data": {
            "text/plain": [
              "0"
            ]
          },
          "metadata": {
            "tags": []
          },
          "execution_count": 15
        }
      ]
    }
  ]
}
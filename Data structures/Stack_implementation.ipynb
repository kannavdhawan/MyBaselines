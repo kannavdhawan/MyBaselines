{
  "nbformat": 4,
  "nbformat_minor": 0,
  "metadata": {
    "kernelspec": {
      "display_name": "Python 2",
      "language": "python",
      "name": "python2"
    },
    "language_info": {
      "codemirror_mode": {
        "name": "ipython",
        "version": 2
      },
      "file_extension": ".py",
      "mimetype": "text/x-python",
      "name": "python",
      "nbconvert_exporter": "python",
      "pygments_lexer": "ipython2",
      "version": "2.7.10"
    },
    "colab": {
      "name": "Stack_implementation.ipynb",
      "provenance": []
    }
  },
  "cells": [
    {
      "cell_type": "markdown",
      "metadata": {
        "id": "dEgdlqF5pNX2"
      },
      "source": [
        "# Implementation of Stack\n",
        "\n",
        "## Stack Attributes and Methods\n",
        "\n",
        "* Stack() creates a new stack that is empty. \n",
        "* push(item) adds a new item to the top of the stack. It needs the item and returns nothing.\n",
        "* pop() removes the top item from the stack. It needs no parameters and returns the item. The stack is modified.\n",
        "* peek() returns the top item from the stack but does not remove it. It needs no parameters. The stack is not modified.\n",
        "* isEmpty() tests to see whether the stack is empty. It needs no parameters and returns a boolean value.\n",
        "* size() returns the number of items on the stack. It needs no parameters and returns an integer."
      ]
    },
    {
      "cell_type": "code",
      "metadata": {
        "id": "AtCdkfGCpNX4"
      },
      "source": [
        "class Stack:\n",
        "    \n",
        "    \n",
        "    def __init__(self):\n",
        "        self.items = []\n",
        "\n",
        "    def isEmpty(self):\n",
        "        return self.items == []\n",
        "\n",
        "    def push(self, item):\n",
        "        self.items.append(item)\n",
        "\n",
        "    def pop(self):\n",
        "        return self.items.pop()\n",
        "\n",
        "    def peek(self):\n",
        "        return self.items[len(self.items)-1]\n",
        "\n",
        "    def size(self):\n",
        "        return len(self.items)"
      ],
      "execution_count": null,
      "outputs": []
    },
    {
      "cell_type": "code",
      "metadata": {
        "id": "SA-4FCuTpNX8"
      },
      "source": [
        "s = Stack()"
      ],
      "execution_count": null,
      "outputs": []
    },
    {
      "cell_type": "code",
      "metadata": {
        "id": "-2hVQsHgpNX_",
        "outputId": "81bbb0a9-c915-4229-c72c-b157aad7296c"
      },
      "source": [
        "print s.isEmpty()"
      ],
      "execution_count": null,
      "outputs": [
        {
          "output_type": "stream",
          "text": [
            "True\n"
          ],
          "name": "stdout"
        }
      ]
    },
    {
      "cell_type": "code",
      "metadata": {
        "id": "mt3WjnjqpNYC"
      },
      "source": [
        "s.push(1)"
      ],
      "execution_count": null,
      "outputs": []
    },
    {
      "cell_type": "code",
      "metadata": {
        "id": "1UJ_geMhpNYF"
      },
      "source": [
        "s.push('two')"
      ],
      "execution_count": null,
      "outputs": []
    },
    {
      "cell_type": "code",
      "metadata": {
        "id": "OSIj3c7SpNYH",
        "outputId": "06080349-ac43-4884-dff8-d6327f4b57be"
      },
      "source": [
        "s.peek()"
      ],
      "execution_count": null,
      "outputs": [
        {
          "output_type": "execute_result",
          "data": {
            "text/plain": [
              "'two'"
            ]
          },
          "metadata": {
            "tags": []
          },
          "execution_count": 7
        }
      ]
    },
    {
      "cell_type": "code",
      "metadata": {
        "id": "gEdiLt6NpNYK"
      },
      "source": [
        "s.push(True)"
      ],
      "execution_count": null,
      "outputs": []
    },
    {
      "cell_type": "code",
      "metadata": {
        "id": "f_RMUiM-pNYN",
        "outputId": "049971c7-c11b-49d2-f2f9-2630f1edae49"
      },
      "source": [
        "s.size()"
      ],
      "execution_count": null,
      "outputs": [
        {
          "output_type": "execute_result",
          "data": {
            "text/plain": [
              "3"
            ]
          },
          "metadata": {
            "tags": []
          },
          "execution_count": 9
        }
      ]
    },
    {
      "cell_type": "code",
      "metadata": {
        "id": "TYch6_G-pNYP",
        "outputId": "0deb43fa-84df-4083-b42b-ba2d56f9d2a8"
      },
      "source": [
        "s.isEmpty()"
      ],
      "execution_count": null,
      "outputs": [
        {
          "output_type": "execute_result",
          "data": {
            "text/plain": [
              "False"
            ]
          },
          "metadata": {
            "tags": []
          },
          "execution_count": 10
        }
      ]
    },
    {
      "cell_type": "code",
      "metadata": {
        "id": "X9aC_Oz8pNYR",
        "outputId": "bdb1d014-c367-4477-e005-5ffe91b56d6c"
      },
      "source": [
        "s.pop()"
      ],
      "execution_count": null,
      "outputs": [
        {
          "output_type": "execute_result",
          "data": {
            "text/plain": [
              "True"
            ]
          },
          "metadata": {
            "tags": []
          },
          "execution_count": 11
        }
      ]
    },
    {
      "cell_type": "code",
      "metadata": {
        "id": "p7zEpAYYpNYT",
        "outputId": "2977ff9b-ffb2-41e5-f76c-81722b6d28a2"
      },
      "source": [
        "s.pop()"
      ],
      "execution_count": null,
      "outputs": [
        {
          "output_type": "stream",
          "text": [
            "two\n"
          ],
          "name": "stdout"
        }
      ]
    },
    {
      "cell_type": "code",
      "metadata": {
        "id": "trx42N8xpNYW",
        "outputId": "98779526-3730-4067-9071-8750f128cbbf"
      },
      "source": [
        "s.size()"
      ],
      "execution_count": null,
      "outputs": [
        {
          "output_type": "execute_result",
          "data": {
            "text/plain": [
              "1"
            ]
          },
          "metadata": {
            "tags": []
          },
          "execution_count": 13
        }
      ]
    },
    {
      "cell_type": "code",
      "metadata": {
        "id": "S7CrKFT4pNYY",
        "outputId": "7cb0a53c-8123-425f-ffdd-b0a9d137dccd"
      },
      "source": [
        "s.pop()"
      ],
      "execution_count": null,
      "outputs": [
        {
          "output_type": "execute_result",
          "data": {
            "text/plain": [
              "1"
            ]
          },
          "metadata": {
            "tags": []
          },
          "execution_count": 14
        }
      ]
    },
    {
      "cell_type": "code",
      "metadata": {
        "id": "gEOtrUKApNYb",
        "outputId": "bf520e8a-177b-4655-b477-88019c3e1a96"
      },
      "source": [
        "s.isEmpty()"
      ],
      "execution_count": null,
      "outputs": [
        {
          "output_type": "execute_result",
          "data": {
            "text/plain": [
              "True"
            ]
          },
          "metadata": {
            "tags": []
          },
          "execution_count": 15
        }
      ]
    }
  ]
}
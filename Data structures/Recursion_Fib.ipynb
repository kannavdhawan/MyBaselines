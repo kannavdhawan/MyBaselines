{
  "nbformat": 4,
  "nbformat_minor": 0,
  "metadata": {
    "colab": {
      "name": "Recursion Fib.ipynb",
      "provenance": [],
      "collapsed_sections": []
    },
    "kernelspec": {
      "name": "python3",
      "display_name": "Python 3"
    }
  },
  "cells": [
    {
      "cell_type": "markdown",
      "metadata": {
        "id": "qj4-CwLEhmOY"
      },
      "source": [
        "### Fibonnaci Sequence¶\n",
        "- Recursively\n",
        "- Dynamically (Using Memoization to store results)\n",
        "- Iteratively"
      ]
    },
    {
      "cell_type": "code",
      "metadata": {
        "id": "xOHkWdoIgr3R"
      },
      "source": [
        "def fib_recursion(num):\n",
        "  if num==1 or num==0:\n",
        "    return num\n",
        "  else:\n",
        "    return fib_recursion(num-1) + fib_recursion(num-2)"
      ],
      "execution_count": 54,
      "outputs": []
    },
    {
      "cell_type": "code",
      "metadata": {
        "id": "_7eMIGF4aRgb",
        "outputId": "faac50ea-d8fe-4607-ea3a-1cffe8fdfb8b",
        "colab": {
          "base_uri": "https://localhost:8080/",
          "height": 34
        }
      },
      "source": [
        "fib_recursion(10)"
      ],
      "execution_count": 55,
      "outputs": [
        {
          "output_type": "execute_result",
          "data": {
            "text/plain": [
              "55"
            ]
          },
          "metadata": {
            "tags": []
          },
          "execution_count": 55
        }
      ]
    },
    {
      "cell_type": "code",
      "metadata": {
        "id": "as2Mdw0QvKZ8"
      },
      "source": [
        "# Instantiate Cache information\n",
        "n = 10\n",
        "cache = [None] * (n + 1)\n",
        "\n",
        "\n",
        "def fib_dyn(n):\n",
        "    \n",
        "    # Base Case\n",
        "    if n == 0 or n == 1:\n",
        "        return n\n",
        "    \n",
        "    # Check cache\n",
        "    if cache[n] != None:\n",
        "        return cache[n]\n",
        "    \n",
        "    # Keep setting cache\n",
        "    cache[n] = fib_dyn(n-1) + fib_dyn(n-2)\n",
        "    \n",
        "    return cache[n]"
      ],
      "execution_count": 56,
      "outputs": []
    },
    {
      "cell_type": "code",
      "metadata": {
        "id": "0afZOsfnwSfK",
        "outputId": "3b1e7023-b139-480e-ed95-67ea6304dd22",
        "colab": {
          "base_uri": "https://localhost:8080/",
          "height": 34
        }
      },
      "source": [
        "fib_dyn(10)"
      ],
      "execution_count": 58,
      "outputs": [
        {
          "output_type": "execute_result",
          "data": {
            "text/plain": [
              "55"
            ]
          },
          "metadata": {
            "tags": []
          },
          "execution_count": 58
        }
      ]
    },
    {
      "cell_type": "code",
      "metadata": {
        "id": "jS8m_HE4wnJ-"
      },
      "source": [
        "def fib_iter(n):\n",
        "    \n",
        "    # Set starting point\n",
        "    a = 0\n",
        "    b = 1\n",
        "    \n",
        "    # Follow algorithm\n",
        "    for i in range(n):\n",
        "        \n",
        "        a, b = b, a + b\n",
        "        \n",
        "    return a"
      ],
      "execution_count": 59,
      "outputs": []
    },
    {
      "cell_type": "code",
      "metadata": {
        "id": "AKDrL7t2y_En",
        "outputId": "2f848a77-1f55-4eef-881d-3541ddeb0b73",
        "colab": {
          "base_uri": "https://localhost:8080/",
          "height": 34
        }
      },
      "source": [
        "fib_iter(3)"
      ],
      "execution_count": 61,
      "outputs": [
        {
          "output_type": "execute_result",
          "data": {
            "text/plain": [
              "2"
            ]
          },
          "metadata": {
            "tags": []
          },
          "execution_count": 61
        }
      ]
    }
  ]
}
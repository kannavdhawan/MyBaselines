{
  "nbformat": 4,
  "nbformat_minor": 0,
  "metadata": {
    "kernelspec": {
      "name": "python3",
      "display_name": "Python 3",
      "language": "python"
    },
    "language_info": {
      "name": "python",
      "version": "3.7.6",
      "mimetype": "text/x-python",
      "codemirror_mode": {
        "name": "ipython",
        "version": 3
      },
      "pygments_lexer": "ipython3",
      "nbconvert_exporter": "python",
      "file_extension": ".py"
    },
    "colab": {
      "name": "merge-lists-amortized-analysis.ipynb",
      "provenance": [],
      "include_colab_link": true
    }
  },
  "cells": [
    {
      "cell_type": "markdown",
      "metadata": {
        "id": "view-in-github",
        "colab_type": "text"
      },
      "source": [
        "<a href=\"https://colab.research.google.com/github/kannavdhawan/MyBaselines/blob/master/merge_lists_amortized_analysis.ipynb\" target=\"_parent\"><img src=\"https://colab.research.google.com/assets/colab-badge.svg\" alt=\"Open In Colab\"/></a>"
      ]
    },
    {
      "cell_type": "markdown",
      "metadata": {
        "id": "pzMcwjizUfCQ"
      },
      "source": [
        "---------------\n",
        "### Optimized Solution for big sized lists\n",
        "- Please find the notebook here:\n",
        "    - https://github.com/kannavdhawan/MyBaselines/blob/master/merge-lists-amortized-analysis.ipynb\n",
        "    - https://www.kaggle.com/kannavdhawan2083/merge-lists-amortized-analysis\n",
        "---------------"
      ]
    },
    {
      "cell_type": "markdown",
      "metadata": {
        "id": "I6xUUGvdfQ_U"
      },
      "source": [
        "- Time taken by First solution on two randomly generated lists of size 100000 is 0.05 s\n",
        "- Time taken by Second solution on two randomly generated lists of size 100000 is 530.85 s\n",
        "\n",
        "\n",
        "\n",
        "| Approach | Time(s) | Complexity(Big O)|\n",
        "|-|-|-|\n",
        "|Set conversion| 0.05| O(n)|\n",
        "|Loop statement| 530.85| O(n * m)| "
      ]
    },
    {
      "cell_type": "code",
      "metadata": {
        "id": "C2v-Ai8pa2WE",
        "trusted": true
      },
      "source": [
        "def merge_lists(list_1,list_2):\n",
        "    \n",
        "    \"\"\"Merges the two lists without any duplicates\n",
        "    \n",
        "    Args:\n",
        "        list_1(List)\n",
        "        list_2(List) \n",
        "    \n",
        "    Attributes:\n",
        "        list_1(List): List of elements of length n\n",
        "        list_2(List): List of elements of length m\n",
        "    \n",
        "    Returns:\n",
        "        new_merged_list: Merged list with no duplicates.\n",
        "    \n",
        "    \"\"\"\n",
        "    list_3= list_1 + list_2           # New list containing elements from both lists.\n",
        "    set_merged=set(list_3)            # Set conversion eliminating duplicates\n",
        "    new_merged_list=list(set_merged)  # Set to list conversion\n",
        "\n",
        "    # Similar solution\n",
        "\n",
        "    # new_merged_list = list(set(list1+list2))\n",
        "    \n",
        "    return new_merged_list"
      ],
      "execution_count": null,
      "outputs": []
    },
    {
      "cell_type": "code",
      "metadata": {
        "id": "WfJ-azb9U16Q",
        "trusted": true,
        "outputId": "2287e9fd-ab40-4d00-e73a-54cb4974947f"
      },
      "source": [
        "m_list=merge_lists(['Allison', 'Brian', 'Peter'],['Jason', 'Peter', 'Sara']) # function call\n",
        "print(\"Merged List is: {}\".format(m_list))"
      ],
      "execution_count": null,
      "outputs": [
        {
          "output_type": "stream",
          "text": [
            "Merged List is: ['Peter', 'Brian', 'Allison', 'Jason', 'Sara']\n"
          ],
          "name": "stdout"
        }
      ]
    },
    {
      "cell_type": "markdown",
      "metadata": {
        "id": "pqz16ry5vwDU"
      },
      "source": [
        "#### Analysis\n",
        "_____________\n",
        "Let Length of first list = n and Length of second List = m.\n",
        "\n",
        "- **list_1 + list_2**: Time complexity is O(n+m) because it traverses each element in the lists.\n",
        "\n",
        "- **List to Set**: Time complexity is O(n+m). Time complexity for Iterating over the list is O(n+m) and adding each element to the hash set is O(1), so the total complexity will come out to be O(n+m).\n",
        "\n",
        "- **Set to List**: Similarly, Time complexity= O(n+m).\n",
        "\n",
        "**Finally,**\n",
        "- **O(n + m) + O(n + m) + O(n + m)**\n",
        "- O(n + m) can refered as O(n) by taking the most significant term. For instance, If m = n then n + n = 2n. On Ignoring 2, we get \"n\".\n",
        "- Thus, O(n) + O(n) + O(n) = O(3n) = O(n) i.e. linear complexity.\n",
        "\n"
      ]
    },
    {
      "cell_type": "markdown",
      "metadata": {
        "id": "dMHiNFPKLeX1"
      },
      "source": [
        "## Testing"
      ]
    },
    {
      "cell_type": "code",
      "metadata": {
        "id": "zhAZVjpsgkuo",
        "trusted": true
      },
      "source": [
        "# importing libraries\n",
        "import random   # To generate the lists\n",
        "import timeit   # To calculate the time taken by the function\n",
        "len_l1=100000   # length of list 1\n",
        "len_l2=100000   # length if list 2\n",
        "random_list_1 = random.sample(range(10, 1000000),len_l1)  # Generating random list of size 100000\n",
        "random_list_2 = random.sample(range(10, 1000000),len_l2)  "
      ],
      "execution_count": null,
      "outputs": []
    },
    {
      "cell_type": "code",
      "metadata": {
        "id": "fmNQxpENjvow",
        "trusted": true,
        "outputId": "52ae7571-9a5c-4dad-cbfd-6ba7e2f6ceb5"
      },
      "source": [
        "start=timeit.default_timer()                    # start time\n",
        "m_list=merge_lists(random_list_1,random_list_2) # function call\n",
        "stop=timeit.default_timer()                     # stop time\n",
        "\n",
        "print(\"Time taken: {}\".format(stop-start))\n",
        "# print(\"Merged List is {}\".format(m_list))\n",
        "print(\"Length of First list is {}\".format(len(random_list_1)))\n",
        "print(\"Length of Second list is {}\".format(len(random_list_2)))\n",
        "print(\"Length of Merged list is {}\".format(len(m_list)))"
      ],
      "execution_count": null,
      "outputs": [
        {
          "output_type": "stream",
          "text": [
            "Time taken: 0.056076173999827006\n",
            "Length of First list is 100000\n",
            "Length of Second list is 100000\n",
            "Length of Merged list is 189977\n"
          ],
          "name": "stdout"
        }
      ]
    },
    {
      "cell_type": "markdown",
      "metadata": {
        "id": "l5ZexnDiVlxn"
      },
      "source": [
        "----------------------------\n",
        "### Brute Force solution - Non-optimized for big sized lists\n",
        "----------------------------"
      ]
    },
    {
      "cell_type": "code",
      "metadata": {
        "id": "bvq-zWdNnieB",
        "trusted": true
      },
      "source": [
        "def merge_lists_brute(list_1,list_2):\n",
        "\n",
        "    \"\"\"Merges the two lists without any duplicates\n",
        "    \n",
        "    Args:\n",
        "        list_1(List)\n",
        "        list_2(List) \n",
        "    \n",
        "    Attributes:\n",
        "        list_1(List): List of elements of length n\n",
        "        list_2(List): List of elements of length m\n",
        "    \n",
        "    Returns:\n",
        "        new_merged_list: Merged list with no duplicates.\n",
        "    \n",
        "    \"\"\"\n",
        "    \n",
        "    list_1=list(set(list_1))    # Removes duplicates from first list\n",
        "    \n",
        "    # Adds new elements into First list from Second list\n",
        "    new_merged_list = list_1 + [x for x in list_2 if x not in list_1]\n",
        "    \n",
        "    return new_merged_list"
      ],
      "execution_count": null,
      "outputs": []
    },
    {
      "cell_type": "code",
      "metadata": {
        "id": "DdPRl696WSpG",
        "trusted": true,
        "outputId": "5dbd710c-1ad8-4676-e3a4-8ea4056162f9"
      },
      "source": [
        "m_list_brute=merge_lists_brute(['Allison', 'Brian', 'Peter'],['Jason', 'Peter', 'Sara']) # function call\n",
        "print(\"Merged List is: {}\".format(m_list_brute))"
      ],
      "execution_count": null,
      "outputs": [
        {
          "output_type": "stream",
          "text": [
            "Merged List is: ['Brian', 'Allison', 'Peter', 'Jason', 'Sara']\n"
          ],
          "name": "stdout"
        }
      ]
    },
    {
      "cell_type": "markdown",
      "metadata": {
        "id": "ydVu9U1NWiu8"
      },
      "source": [
        "#### Analysis\n",
        "_____________\n",
        "\n",
        "Let Length of first list = n and Length of second List = m.\n",
        "\n",
        "1.  **list(set(list_1))**: Time complexity is O(n+n) because it traverses each element in the list for both conversions.\n",
        "\n",
        "*On solving (1),*\n",
        "- *O(n+n) = O(2n) = O(n)*\n",
        "\n",
        "\n",
        "2.  **list_1 + [x for x in list_2 if x not in list_1]**:\n",
        "\n",
        "| Index|Operation |Complexity(Worst case) | \n",
        "|-|-|-|\n",
        "|1|list_1+[elements]|O(n+m)\n",
        "|2|iterating list_2 using \"for\"| O(m)\n",
        "|3|iterating list_1 using \"if\" | O(n)\n",
        "|4|Insering x in list | O(1)\n",
        "\n",
        "*On solving (2),*\n",
        "- *Index (1) gives O(n)*\n",
        "- *Index (2) and (3) gives O(m * n)*\n",
        "- *Index (4) gives O(1)*\n",
        "\n",
        "\n",
        "**Finally,**\n",
        "- O(n + n + (m * n) + 1) = O(1 + 2n + m * n)\n",
        "- Implies, O(n * m) considering most significant terms.\n",
        "\n",
        "\n"
      ]
    },
    {
      "cell_type": "markdown",
      "metadata": {
        "id": "klmFTTSsfDfH"
      },
      "source": [
        "### Testing"
      ]
    },
    {
      "cell_type": "code",
      "metadata": {
        "id": "RcMrORjEWbql",
        "trusted": true,
        "outputId": "9bfec359-7697-40fe-fc76-66935244273f"
      },
      "source": [
        "start=timeit.default_timer()                    # start time\n",
        "m_list=merge_lists_brute(random_list_1,random_list_2) # function call\n",
        "stop=timeit.default_timer()                     # stop time\n",
        "\n",
        "print(\"Time taken: {}\".format(stop-start))\n",
        "# print(\"Merged List is {}\".format(m_list))\n",
        "print(\"Length of First list is {}\".format(len(random_list_1)))\n",
        "print(\"Length of Second list is {}\".format(len(random_list_2)))\n",
        "print(\"Length of Merged list is {}\".format(len(m_list)))"
      ],
      "execution_count": null,
      "outputs": [
        {
          "output_type": "stream",
          "text": [
            "Time taken: 530.853048555\n",
            "Length of First list is 100000\n",
            "Length of Second list is 100000\n",
            "Length of Merged list is 189977\n"
          ],
          "name": "stdout"
        }
      ]
    }
  ]
}